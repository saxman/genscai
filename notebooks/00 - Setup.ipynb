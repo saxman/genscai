{
 "cells": [
  {
   "cell_type": "markdown",
   "metadata": {},
   "source": [
    "# 01 - Setup for Notebooks\n",
    "\n",
    "The purpose of this notebook is to setup the environment for the other notebooks in this series. Python dependencies for the notebooks, however, must be installed separately using pip. The following command will install the required dependencies:\n",
    "\n",
    "```bash\n",
    "pip install -e .\n",
    "```\n",
    "\n",
    "Or if you're using UV:\n",
    "\n",
    "```bash\n",
    "uv pip install -e .\n",
    "```"
   ]
  },
  {
   "cell_type": "code",
   "execution_count": null,
   "metadata": {},
   "outputs": [],
   "source": [
    "%pip install --upgrade --quiet ipywidgets"
   ]
  },
  {
   "cell_type": "markdown",
   "metadata": {},
   "source": [
    "## Hugging Face Set-up\n",
    "\n",
    "Since a number of these notebooks use gated Hugging Face models, you'll want to set up a Hugging Face account and generate a access token for access to gated models. You can do this by following the instructions [here](https://huggingface.co/docs/hub/en/models-gated). Once you have an access token, you can store it in your environment by running the following cell."
   ]
  },
  {
   "cell_type": "code",
   "execution_count": null,
   "metadata": {},
   "outputs": [],
   "source": [
    "from huggingface_hub import login\n",
    "\n",
    "login()"
   ]
  }
 ],
 "metadata": {
  "kernelspec": {
   "display_name": ".venv",
   "language": "python",
   "name": "python3"
  },
  "language_info": {
   "codemirror_mode": {
    "name": "ipython",
    "version": 3
   },
   "file_extension": ".py",
   "mimetype": "text/x-python",
   "name": "python",
   "nbconvert_exporter": "python",
   "pygments_lexer": "ipython3",
   "version": "3.11.11"
  }
 },
 "nbformat": 4,
 "nbformat_minor": 4
}
