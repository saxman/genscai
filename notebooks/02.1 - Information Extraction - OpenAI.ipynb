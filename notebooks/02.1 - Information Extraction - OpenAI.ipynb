{
 "cells": [
  {
   "cell_type": "markdown",
   "metadata": {},
   "source": [
    "# 02.1 - Information Extraction using OpenAI\n",
    "\n",
    "In this notebook, we explore ways that OpenAI LLMs can be used for extracting information relevant to infections disease modeling, such as categorical keywords (e.g. diseases, treatments, populations, etc.), from publication titles/abstracts. This information will be used later for publication search, clustering, etc.\n",
    "\n",
    "The OpenAI Platrform requires an API key for accessing the web service (https://platform.openai.com/docs/quickstart). To avoid inadvertently sharing a personal API key, the key should be added to the Jupyter notebook kernel that's used by this notebook. Instructions for adding environment variables to a notebook kernel can be found at https://stackoverflow.com/a/53595397/763176."
   ]
  },
  {
   "cell_type": "code",
   "execution_count": null,
   "metadata": {},
   "outputs": [],
   "source": [
    "%pip install --upgrade --quiet openai"
   ]
  },
  {
   "cell_type": "markdown",
   "metadata": {},
   "source": [
    "Load the publications from the database, skipping any publications without abstracts."
   ]
  },
  {
   "cell_type": "code",
   "execution_count": 1,
   "metadata": {},
   "outputs": [
    {
     "name": "stdout",
     "output_type": "stream",
     "text": [
      "loaded 1398 articles\n",
      "retaining 1320 articles\n"
     ]
    }
   ],
   "source": [
    "from tinydb import TinyDB\n",
    "\n",
    "db = TinyDB(\"db.json\")\n",
    "table = db.table(\"articles\")\n",
    "\n",
    "articles = table.all()\n",
    "print(f\"loaded {len(articles)} articles\")\n",
    "\n",
    "articles = [x for x in articles if x[\"abstract\"] != \"No abstract available.\"]\n",
    "print(f\"retaining {len(articles)} articles\")"
   ]
  },
  {
   "cell_type": "code",
   "execution_count": 2,
   "metadata": {},
   "outputs": [],
   "source": [
    "KEYWORD_PROMPT_TEMPLATE = \"\"\"\n",
    "Your goal is to identify important keywords in scientific paper abstracts.\n",
    "For the abstract below, identify all diseases, treatments, interventions, and vectors mentioned.\n",
    "List the keywords identified in a JSON array, with each item in the array including keyword_type and value.\n",
    "The only valid keyword types are disease, treatment, intervention, and vector.\n",
    "Only return the JSON array.\n",
    "\n",
    "abstract:\n",
    "{abstract}\n",
    "\"\"\""
   ]
  },
  {
   "cell_type": "code",
   "execution_count": 4,
   "metadata": {},
   "outputs": [
    {
     "name": "stdout",
     "output_type": "stream",
     "text": [
      "```json\n",
      "[\n",
      "    {\n",
      "        \"keyword_type\": \"disease\",\n",
      "        \"value\": \"respiratory conditions\"\n",
      "    },\n",
      "    {\n",
      "        \"keyword_type\": \"treatment\",\n",
      "        \"value\": \"prescription medication for respiratory conditions\"\n",
      "    }\n",
      "]\n",
      "```\n"
     ]
    }
   ],
   "source": [
    "from openai import OpenAI\n",
    "\n",
    "client = OpenAI()\n",
    "\n",
    "article = articles[0]\n",
    "\n",
    "completion = client.chat.completions.create(\n",
    "    model=\"gpt-4o\",\n",
    "    messages=[\n",
    "        {\"role\": \"system\", \"content\": \"You are a helpful assistant.\"},\n",
    "        {\n",
    "            \"role\": \"user\",\n",
    "            \"content\": KEYWORD_PROMPT_TEMPLATE.format(abstract=article[\"abstract\"]),\n",
    "        },\n",
    "    ],\n",
    ")\n",
    "\n",
    "print(completion.choices[0].message.content)"
   ]
  },
  {
   "cell_type": "markdown",
   "metadata": {},
   "source": [
    "Using Structured Ouptuts: https://platform.openai.com/docs/guides/structured-outputs"
   ]
  },
  {
   "cell_type": "code",
   "execution_count": null,
   "metadata": {},
   "outputs": [],
   "source": [
    "from pydantic import BaseModel\n",
    "\n",
    "\n",
    "class Keyword(BaseModel):\n",
    "    type: str\n",
    "    value: str\n",
    "\n",
    "\n",
    "class KeywordResults(BaseModel):\n",
    "    keywords: list[Keyword]\n",
    "\n",
    "\n",
    "completion = client.beta.chat.completions.parse(\n",
    "    model=\"gpt-4o\",\n",
    "    messages=[\n",
    "        # {\"role\": \"system\", \"content\": \"You are a helpful assistant.\"},\n",
    "        {\n",
    "            \"role\": \"user\",\n",
    "            \"content\": KEYWORD_PROMPT_TEMPLATE.format(abstract=article[\"abstract\"]),\n",
    "        }\n",
    "    ],\n",
    "    response_format=KeywordResults,\n",
    ")\n",
    "\n",
    "print(completion.choices[0].message.parsed)"
   ]
  },
  {
   "cell_type": "code",
   "execution_count": 14,
   "metadata": {},
   "outputs": [],
   "source": [
    "MODEL_CLASSIFICATION_PROMPT_TEMPLATE = \"\"\"\n",
    "Given the following scientific publication abstract,\n",
    "identify if the publication references an infectious disease modeling technique.\n",
    "Only return YES or NO.\n",
    "If YES, also return the name of the tecnhique or techniques used.\n",
    "\n",
    "abstract:\n",
    "{abstract}\n",
    "\"\"\""
   ]
  },
  {
   "cell_type": "code",
   "execution_count": 15,
   "metadata": {},
   "outputs": [
    {
     "name": "stdout",
     "output_type": "stream",
     "text": [
      "Diet profoundly influences the composition of an animal's microbiome, especially in holometabolous insects, offering a valuable model to explore the impact of diet on gut microbiome dynamics throughout metamorphosis. Here, we use monarch butterflies (Danaus plexippus), specialist herbivores that feed as larvae on many species of chemically well-defined milkweed plants (Asclepias sp.), to investigate the impacts of development and diet on the composition of the gut microbial community. While a few microbial taxa are conserved across life stages of monarchs, the microbiome appears to be highly dynamic throughout the life cycle. Microbial diversity gradually diminishes throughout the larval instars, ultimately reaching its lowest point during the pupal stage and then recovering again in the adult stage. The microbial composition then undergoes a substantial shift upon the transition from pupa to adult, with female adults having significantly different microbial communities than the eggs that they lay, indicating limited evidence for vertical transmission of gut microbiota. While diet did not significantly impact overall microbial composition, our results suggest that fourth instar larvae exhibit higher microbial diversity when consuming milkweed with high concentrations of toxic cardenolide phytochemicals. This study underscores how diet and developmental stage collectively shape the monarch's gut microbiota.\n",
      "NO\n",
      "Residual blood specimens provide a sample repository that could be analyzed to estimate and track changes in seroprevalence with fewer resources than household-based surveys. We conducted parallel facility and community-based cross-sectional serological surveys in two districts in India, Kanpur Nagar District, Uttar Pradesh, and Palghar District, Maharashtra, before and after a measles-rubella supplemental immunization activity (MR-SIA) from 2018 to 2019. Anonymized residual specimens from children 9 months to younger than 15 years of age were collected from public and private diagnostic laboratories and public hospitals and tested for IgG antibodies to measles and rubella viruses. Significant increases in seroprevalence were observed following the MR SIA using the facility-based specimens. Younger children whose specimens were tested at a public facility in Kanpur Nagar District had significantly lower rubella seroprevalence prior to the SIA compared to those attending a private hospital, but this difference was not observed following the SIA. Similar increases in rubella seroprevalence were observed in facility-based and community-based serosurveys following the MR SIA, but trends in measles seroprevalence were inconsistent between the two specimen sources. Despite challenges with representativeness and limited metadata, residual specimens can be useful in estimating seroprevalence and assessing trends through facility-based sentinel surveillance.\n",
      "NO\n",
      "The history of people's movements and interactions shapes both genetic and linguistic variation. Genes and languages are transmitted separately and their distributions reflect different aspects of human history, but some demographic processes can cause them to be similarly distributed. In particular, forms of societal organization, including movements in and out of a community, may have shaped the transmission of both genes and languages. If children were more likely to learn their mother's language than their father's when their parents were from populations that spoke different languages or dialects, then language variation might show a closer association with maternally transmitted genetic markers than autosomal ones; this association could be further reinforced if children reside with predominantly maternal kin. We analyze the worldwide relationship between linguistic and genomic variation, leveraging the sex-biased transmission of X chromosomes to assess whether language has tended to be preferentially transmitted along the male or female line. In addition, we measure the effects of postmarital residence with female kin, matrilineal descent, and endogamy on the covariation of mitochondrial DNA and languages, using mtDNA because genomic data were available for very few populations with these ethnographic traits. We find that while there is little evidence for a consistent or widespread sex bias in the transmission of language, such biased transmission may have occurred locally in several parts of the world and might have been influenced by population-level ethnographic characteristics, such as female-based descent or residence patterns. Our results highlight the complex relationships between genes, language, ethnography, and geography.\n",
      "NO\n",
      "This study examined changes in \"smoker\" and \"vaper\" identities and product use behaviors over one year among adults who used both cigarettes and e-cigarettes. We hypothesized that stronger baseline vaping identities would be associated with higher odds of smoking cessation, and stronger baseline smoking identities would be associated with continued cigarette use.Individuals who use both cigarettes and e-cigarettes may have multiple nicotine product use self-identities, each of which may be associated with patterns of use, including cessation.Participants (N = 364), who were recruited for an observational study of cigarette and e-cigarette use, completed measures of \"smoker\" and \"vaper\" identity, nicotine dependence, and product use at baseline and 12 months. We examined associations between smoking and vaping identities and tobacco product use. Logistic regression evaluated the effects of age, gender, and baseline smoking and vaping identities on continued smoking or abstinence at 12 months.Smoking and vaping identities were independent at baseline (p = .51) but associated at 12 months (p = .0001). At 12 months, \"ex-smokers\" had higher e-cigarette use than \"smokers\" and \"social/occasional smokers\" (p <.0001). Those who identified as \"vapers\" at baseline had lower odds of smoking at 12 months (OR = 2.27, \"non-/ex-vaper\" vs \"vaper\"; OR = 2.05, \"social/occasional vaper\" vs \"vaper\").Smoking and vaping identities are associated with changes in tobacco product use over time.\n",
      "NO\n",
      "The aim of this study was to examine relationships among trauma burden, post-traumatic stress disorder, and perceived social support in a large, diverse group of trauma-exposed children and adolescents followed longitudinally. Specifically, we tested the social erosion hypothesis (i.e., mental health challenges negatively affect the quality of social relationships and contribute to reduced social support over time) using a sample of 1,829 trauma-exposed youth (aged 8-21) recruited through the multi-site Texas Childhood Trauma Research Network. Youth who reported more trauma burden (i.e., a greater number of traumas) perceived significantly lower levels of social support from family and peers, and those with more interpersonal trauma perceived significantly lower levels of social support from all sources, after controlling for multiple demographic variables and psychiatric comorbidities. Notably, the negative associations between trauma and perceived social support were most prominent among individuals without a PTSD diagnosis. Trauma burden was not associated with declines in perceived social support over a 12-month period. Additionally, in these trauma-exposed youth, being assigned female at birth was positively associated with perceived support from family members and negatively associated with perceived social support from a close friend. These findings extend our understanding of how trauma and PTSD independently predict and interact to predict perceived social support.\n",
      "NO\n"
     ]
    }
   ],
   "source": [
    "for i in range(10, 15):\n",
    "    completion = client.chat.completions.create(\n",
    "        model=\"gpt-4o\",\n",
    "        messages=[\n",
    "            {\n",
    "                \"role\": \"user\",\n",
    "                \"content\": MODEL_CLASSIFICATION_PROMPT_TEMPLATE.format(abstract=articles[i][\"abstract\"]),\n",
    "            }\n",
    "        ],\n",
    "    )\n",
    "\n",
    "    print(articles[i][\"abstract\"])\n",
    "    print(completion.choices[0].message.content)"
   ]
  },
  {
   "cell_type": "code",
   "execution_count": null,
   "metadata": {},
   "outputs": [],
   "source": []
  }
 ],
 "metadata": {
  "kernelspec": {
   "display_name": "Python 3 (ipykernel)",
   "language": "python",
   "name": "python3"
  },
  "language_info": {
   "codemirror_mode": {
    "name": "ipython",
    "version": 3
   },
   "file_extension": ".py",
   "mimetype": "text/x-python",
   "name": "python",
   "nbconvert_exporter": "python",
   "pygments_lexer": "ipython3",
   "version": "3.9.6"
  }
 },
 "nbformat": 4,
 "nbformat_minor": 4
}
