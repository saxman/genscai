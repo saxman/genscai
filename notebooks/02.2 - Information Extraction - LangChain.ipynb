{
 "cells": [
  {
   "cell_type": "markdown",
   "id": "dc9cadd3",
   "metadata": {},
   "source": [
    "# 02.2 - Information Extraction using LangChain\n",
    "\n",
    "In this notebook, we will explore how to use LangChain's Pydantic support for information extraction. We will create a simple Pydantic model for disease modeling, to extract information from paper abstracts."
   ]
  },
  {
   "cell_type": "code",
   "execution_count": null,
   "id": "e39cf81f",
   "metadata": {},
   "outputs": [],
   "source": [
    "%pip install --upgrade --quiet langchain langchain-community langchain-experimental langchain-openai langchain-ollama"
   ]
  },
  {
   "cell_type": "code",
   "execution_count": null,
   "id": "376d2717",
   "metadata": {},
   "outputs": [],
   "source": [
    "%pip install --upgrade --quiet python-dotenv"
   ]
  },
  {
   "cell_type": "markdown",
   "id": "8968fb61",
   "metadata": {},
   "source": [
    "Load the papers classified as modeling papers into LangChain Document objects, for later use in the pipeline."
   ]
  },
  {
   "cell_type": "code",
   "execution_count": null,
   "id": "8c8e23e2",
   "metadata": {},
   "outputs": [],
   "source": [
    "import json\n",
    "from genscai import paths\n",
    "\n",
    "with open(paths.data / \"training_modeling_papers.json\", \"r\") as f:\n",
    "    papers = json.load(f)\n",
    "\n",
    "len(papers)"
   ]
  },
  {
   "cell_type": "code",
   "execution_count": null,
   "id": "f2dd9f09",
   "metadata": {},
   "outputs": [],
   "source": [
    "import dotenv\n",
    "from genscai import paths\n",
    "\n",
    "dotenv.load_dotenv(paths.root / \"../.env\")"
   ]
  },
  {
   "cell_type": "code",
   "execution_count": null,
   "id": "bf0b2d96",
   "metadata": {},
   "outputs": [],
   "source": [
    "from langchain.chat_models import init_chat_model\n",
    "\n",
    "llm = init_chat_model(\"gpt-4o-mini\", model_provider=\"openai\")"
   ]
  },
  {
   "cell_type": "code",
   "execution_count": null,
   "id": "cae75beb",
   "metadata": {},
   "outputs": [],
   "source": [
    "from langchain.chat_models import init_chat_model\n",
    "\n",
    "llm = init_chat_model(\"gemma3:12b\", model_provider=\"ollama\")"
   ]
  },
  {
   "cell_type": "code",
   "execution_count": null,
   "id": "36cb59eb",
   "metadata": {},
   "outputs": [],
   "source": [
    "from pydantic import BaseModel, Field\n",
    "from typing import List\n",
    "\n",
    "\n",
    "class DiseaseModelingInformation(BaseModel):\n",
    "    diseases_modeled: List[str] = Field(description=\"diseases modeled using a disease modeling technique\")\n",
    "    disease_modeling_goals: List[str] = Field(description=\"goals of disease modeling\")\n",
    "    disease_modeling_techniques: List[str] = Field(description=\"disease modeling techniques used to model diseases\")\n",
    "    disease_modeling_locations: List[str] = Field(\n",
    "        description=\"continents, countries, regions, and cities where disease modeling was performed\"\n",
    "    )\n",
    "\n",
    "\n",
    "for paper in papers[:5]:\n",
    "    print(paper[\"abstract\"])\n",
    "    print()\n",
    "\n",
    "    structured_llm = llm.with_structured_output(DiseaseModelingInformation)\n",
    "    results = structured_llm.invoke(paper[\"abstract\"])\n",
    "\n",
    "    print(results)\n",
    "    print(\"\\n\\n\")"
   ]
  },
  {
   "cell_type": "code",
   "execution_count": null,
   "id": "75bc0f59",
   "metadata": {},
   "outputs": [],
   "source": []
  }
 ],
 "metadata": {
  "kernelspec": {
   "display_name": ".venv",
   "language": "python",
   "name": "python3"
  },
  "language_info": {
   "codemirror_mode": {
    "name": "ipython",
    "version": 3
   },
   "file_extension": ".py",
   "mimetype": "text/x-python",
   "name": "python",
   "nbconvert_exporter": "python",
   "pygments_lexer": "ipython3",
   "version": "3.11.11"
  }
 },
 "nbformat": 4,
 "nbformat_minor": 5
}
