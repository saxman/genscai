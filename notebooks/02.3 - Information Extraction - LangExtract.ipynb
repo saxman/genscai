{
 "cells": [
  {
   "cell_type": "code",
   "execution_count": null,
   "id": "e1cd4bb8",
   "metadata": {},
   "outputs": [],
   "source": [
    "import langextract as lx\n",
    "import textwrap\n",
    "\n",
    "prompt = textwrap.dedent(\"\"\"\\\n",
    "    Extract characters, emotions, and relationships in order of appearance.\n",
    "    Use exact text for extractions. Do not paraphrase or overlap entities.\n",
    "    Provide meaningful attributes for each entity to add context.\"\"\")\n",
    "\n",
    "examples = [\n",
    "    lx.data.ExampleData(\n",
    "        text=\"ROMEO. But soft! What light through yonder window breaks? It is the east, and Juliet is the sun.\",\n",
    "        extractions=[\n",
    "            lx.data.Extraction(\n",
    "                extraction_class=\"character\",\n",
    "                extraction_text=\"ROMEO\",\n",
    "                attributes={\"emotional_state\": \"wonder\"}\n",
    "            ),\n",
    "            lx.data.Extraction(\n",
    "                extraction_class=\"emotion\",\n",
    "                extraction_text=\"But soft!\",\n",
    "                attributes={\"feeling\": \"gentle awe\"}\n",
    "            ),\n",
    "            lx.data.Extraction(\n",
    "                extraction_class=\"relationship\",\n",
    "                extraction_text=\"Juliet is the sun\",\n",
    "                attributes={\"type\": \"metaphor\"}\n",
    "            ),\n",
    "        ]\n",
    "    )\n",
    "]"
   ]
  },
  {
   "cell_type": "code",
   "execution_count": 4,
   "id": "10b12084",
   "metadata": {},
   "outputs": [],
   "source": [
    "input_text = \"Lady Juliet gazed longingly at the stars, her heart aching for Romeo\"\n",
    "\n",
    "result = lx.extract(\n",
    "    text_or_documents=input_text,\n",
    "    prompt_description=prompt,\n",
    "    examples=examples,\n",
    "    model_id=\"gemma3:12b\",  # Automatically selects Ollama provider\n",
    "    model_url=\"http://localhost:11434\",\n",
    "    fence_output=False,\n",
    "    use_schema_constraints=False\n",
    ")"
   ]
  },
  {
   "cell_type": "code",
   "execution_count": 7,
   "id": "e1c00f13",
   "metadata": {},
   "outputs": [
    {
     "name": "stdout",
     "output_type": "stream",
     "text": [
      "character: Lady Juliet | Attributes: {'action': 'gazed', 'object': 'stars'}\n",
      "emotion: her heart aching | Attributes: {'feeling': 'longing', 'target': 'Romeo'}\n",
      "character: Romeo | Attributes: {'relation': 'target of longing'}\n"
     ]
    }
   ],
   "source": [
    "for extraction in result.extractions:\n",
    "    print(f\"{extraction.extraction_class}: {extraction.extraction_text} | Attributes: {extraction.attributes}\")"
   ]
  }
 ],
 "metadata": {
  "kernelspec": {
   "display_name": "genscai",
   "language": "python",
   "name": "python3"
  },
  "language_info": {
   "codemirror_mode": {
    "name": "ipython",
    "version": 3
   },
   "file_extension": ".py",
   "mimetype": "text/x-python",
   "name": "python",
   "nbconvert_exporter": "python",
   "pygments_lexer": "ipython3",
   "version": "3.12.3"
  }
 },
 "nbformat": 4,
 "nbformat_minor": 5
}
