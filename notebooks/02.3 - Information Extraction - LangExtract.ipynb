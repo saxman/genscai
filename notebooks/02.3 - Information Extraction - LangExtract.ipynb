{
 "cells": [
  {
   "cell_type": "code",
   "execution_count": null,
   "id": "e1cd4bb8",
   "metadata": {},
   "outputs": [],
   "source": [
    "import langextract as lx\n",
    "import textwrap\n",
    "\n",
    "prompt = textwrap.dedent(\"\"\"\\\n",
    "    Extract the relevant entities from the following text. Use exact text for extractions. Do not paraphrase or overlap entities.\n",
    "    \"\"\")\n",
    "\n",
    "sample_text = textwrap.dedent(\"\"\"\\\n",
    "    In 2020, the WHO launched its first Global Strategy to Accelerate the Elimination of Cervical Cancer, outlining an ambitious set of targets for countries to achieve over the next decade. At the same time, new tools, technologies, and strategies are in the pipeline that may improve screening performance, expand the reach of prophylactic vaccines, and prevent the acquisition, persistence and progression of oncogenic HPV. Detailed mechanistic modeling can help identify the combinations of current and future strategies to combat cervical cancer. Open-source modeling tools are needed to shift the capacity for such evaluations in-country. Here, we introduce the Human papillomavirus simulator (HPVsim), a new open-source software package for creating flexible agent-based models parameterized with country-specific vital dynamics, structured sexual networks, and co-transmitting HPV genotypes. HPVsim includes a novel methodology for modeling cervical disease progression, designed to be readily adaptable to new forms of screening. The software itself is implemented in Python, has built-in tools for simulating commonly-used interventions, includes a comprehensive set of tests and documentation, and runs quickly (seconds to minutes) on a laptop. Performance is greatly enhanced by HPVsim’s multi-scale modeling functionality. HPVsim is open source under the MIT License and available via both the Python Package Index (via pip install) and GitHub (hpvsim.org).\"\"\")\n",
    "\n",
    "examples = [\n",
    "    lx.data.ExampleData(\n",
    "        text= sample_text,\n",
    "        extractions=[\n",
    "            lx.data.Extraction(\n",
    "                extraction_class=\"disease\", extraction_text=\"cervical cancer\"\n",
    "            ),\n",
    "            lx.data.Extraction(\n",
    "                extraction_class=\"model\", extraction_text=\"Human papillomavirus simulator (HPVsim)\"\n",
    "            ),\n",
    "            lx.data.Extraction(\n",
    "                extraction_class=\"intervention\", extraction_text=\"prophylactic vaccine\"\n",
    "            ),\n",
    "        ],\n",
    "    )\n",
    "]"
   ]
  },
  {
   "cell_type": "code",
   "execution_count": null,
   "id": "10b12084",
   "metadata": {},
   "outputs": [],
   "source": [
    "input_text = textwrap.dedent(\"\"\"\\\n",
    "    Background: Recent declines in HIV incidence among adolescent girls and young women (AGYW) in Africa are often attributed to the expansion of biomedical interventions such as antiretroviral therapy and voluntary medical male circumcision. However, changes in sexual behaviour may also play a critical role. Understanding the relative contributions of these factors is essential for developing strategies to sustain and further reduce HIV transmission.\n",
    "\n",
    "    Methods: We conducted a mathematical modelling study of data from the Rakai Community Cohort Study (RCCS), an open, population-based cohort of 15- to 49-year-olds in 30 communities in Rakai, Uganda, to investigate the biomedical and behavioural drivers of HIV incidence decline in AGYW (15-24 years of age). We estimated changes in the HIV incidence rate between 2000-2019 using retrospective cohort data to validate our modelled incidence estimates. We ran modelled counterfactual scenarios to quantify the independent and combined effects (cumulative infections averted and difference in incidence rates) of antiretroviral therapy (ART), voluntary medical male circumcision (VMMC), and delays in age of first sex (AFS) over historical (between 2000-2020) and projected (between 2000-2050) time horizons.\n",
    "\n",
    "    Findings: Incidence in women 15-24 years of age declined by 83% between 2000-2019 (from 1.72 per 100 person-years in 2000 to 0.30 per 100 person-years in 2019), the largest reduction in incidence of all age groups of women. Increasing AFS over the last two decades (by 3 years in women and 2 years in men) was the largest contributor to incidence decline in women 15-19 years of age, averting 17% of cumulative infections between 2000-2020 and 37% between 2000-2050. Incidence in 15-19-year-old women was 69% lower in 2020 and 75% lower in 2050 compared to counterfactual scenarios without changes in AFS. ART scale-up contributed the most to incidence declines among women 20-24 years of age, averting 13% of infections between 2000-2020 and 43% of infections between 2000-2050. VMMC averted < 5% of infections in 15-24-year-olds to-date, with larger reductions in incidence between 2000-2050 in both 15-19 year-olds (13% reduction in cumulative infections) and 20-24 year-olds (22% of cumulative infections). ART, VMMC, and increasing AFS acted additively to reduce HIV incidence in AGYW, with little redundancy when combined.\n",
    "\n",
    "    Interpretation: Our results provide strong support for maintaining both the protective changes in sexual behaviours and effective biomedical interventions to sustain continued reductions in HIV incidence among AGYW.\n",
    "    \"\"\")\n",
    "\n",
    "result = lx.extract(\n",
    "    text_or_documents=input_text,\n",
    "    prompt_description=prompt,\n",
    "    examples=examples,\n",
    "    model_id=\"gemma3:12b\",  # Automatically selects Ollama provider\n",
    "    model_url=\"http://localhost:11434\",\n",
    "    fence_output=False,\n",
    "    use_schema_constraints=False,\n",
    ")"
   ]
  },
  {
   "cell_type": "code",
   "execution_count": null,
   "id": "e1c00f13",
   "metadata": {},
   "outputs": [],
   "source": [
    "for extraction in result.extractions:\n",
    "    print(f\"{extraction.extraction_class}: {extraction.extraction_text} | Attributes: {extraction.attributes}\")"
   ]
  }
 ],
 "metadata": {
  "kernelspec": {
   "display_name": "genscai (3.11.11)",
   "language": "python",
   "name": "python3"
  },
  "language_info": {
   "codemirror_mode": {
    "name": "ipython",
    "version": 3
   },
   "file_extension": ".py",
   "mimetype": "text/x-python",
   "name": "python",
   "nbconvert_exporter": "python",
   "pygments_lexer": "ipython3",
   "version": "3.11.11"
  }
 },
 "nbformat": 4,
 "nbformat_minor": 5
}
