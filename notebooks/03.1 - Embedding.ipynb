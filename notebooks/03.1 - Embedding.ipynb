{
 "cells": [
  {
   "cell_type": "markdown",
   "id": "356bb64b-d81b-4845-9021-3cb438081239",
   "metadata": {},
   "source": [
    "# 03.1 Embedding with Chroma\n",
    "\n",
    "For finding semantically related documents, we'll use Chroma (https://www.trychroma.com/), which is a lightweight vector data store. Chroma supports swappable embedding models, filtering using metadata, keyword search, and multiple distance measurements. We'll use these features for evlauating approaches to organizing papers for downstream processing (search, summarization, keyword extraction, etc.)."
   ]
  },
  {
   "cell_type": "code",
   "execution_count": 7,
   "id": "61d618c4-ebad-4db6-b52e-207bba46fad9",
   "metadata": {
    "scrolled": true
   },
   "outputs": [
    {
     "name": "stdout",
     "output_type": "stream",
     "text": [
      "Note: you may need to restart the kernel to use updated packages.\n"
     ]
    }
   ],
   "source": [
    "%pip install --upgrade --quiet chromadb"
   ]
  },
  {
   "cell_type": "code",
   "execution_count": 8,
   "id": "37bc6a4f-1ea3-4442-8194-b235141c7f9c",
   "metadata": {},
   "outputs": [
    {
     "name": "stdout",
     "output_type": "stream",
     "text": [
      "Note: you may need to restart the kernel to use updated packages.\n"
     ]
    }
   ],
   "source": [
    "%pip install --upgrade --quiet sentence_transformers"
   ]
  },
  {
   "cell_type": "markdown",
   "id": "db0e62dd-ee4d-4097-913e-a2ae4cc0035d",
   "metadata": {},
   "source": [
    "Load articles and prune ones without abstracts, since we're using the abstracts for generating the embeddings."
   ]
  },
  {
   "cell_type": "code",
   "execution_count": 9,
   "id": "176e8f57-7526-48ed-a7ad-9d13451efd06",
   "metadata": {},
   "outputs": [
    {
     "name": "stdout",
     "output_type": "stream",
     "text": [
      "loaded 1398 articles\n",
      "retaining 1320 articles\n"
     ]
    }
   ],
   "source": [
    "from tinydb import TinyDB, Query\n",
    "\n",
    "db = TinyDB('db.json')\n",
    "table = db.table('articles')\n",
    "\n",
    "articles = table.all()\n",
    "print(f'loaded {len(articles)} articles')\n",
    "\n",
    "articles = [x for x in articles if x['abstract'] != 'No abstract available.']\n",
    "print(f'retaining {len(articles)} articles')"
   ]
  },
  {
   "cell_type": "markdown",
   "id": "46457603-69de-40ff-9b4a-b87edf94e4a8",
   "metadata": {},
   "source": [
    "Stage the articles so that they can easily be loaded into the vector database. Remove duplicates."
   ]
  },
  {
   "cell_type": "code",
   "execution_count": 10,
   "id": "4bb4ba10-444a-435f-be13-dff032f71c71",
   "metadata": {},
   "outputs": [
    {
     "name": "stdout",
     "output_type": "stream",
     "text": [
      "loaded 1318 articles\n"
     ]
    }
   ],
   "source": [
    "documents = []\n",
    "ids = []\n",
    "\n",
    "for article in articles:\n",
    "    doc_id = article['link']\n",
    "    if doc_id not in ids:\n",
    "        documents.append(article['abstract'])\n",
    "        ids.append(doc_id)\n",
    "\n",
    "print(f'loaded {len(ids)} articles')"
   ]
  },
  {
   "cell_type": "code",
   "execution_count": 11,
   "id": "31d402e9-0f45-4986-a767-3e6c11ddcd52",
   "metadata": {},
   "outputs": [],
   "source": [
    "import chromadb\n",
    "\n",
    "client = chromadb.PersistentClient(path=\"vectors_db\")"
   ]
  },
  {
   "cell_type": "code",
   "execution_count": 12,
   "id": "4e6730fc-d920-4e7f-87c8-2281ad6b7bb6",
   "metadata": {},
   "outputs": [
    {
     "name": "stdout",
     "output_type": "stream",
     "text": [
      "creating collection articles-default-embeddings\n"
     ]
    }
   ],
   "source": [
    "from chromadb.errors import InvalidCollectionException\n",
    "\n",
    "collection_name = 'articles-default-embeddings'\n",
    "\n",
    "try:\n",
    "    collection = client.get_collection(\n",
    "        name=collection_name\n",
    "    )\n",
    "\n",
    "    print(f'loaded collection {collection_name}')\n",
    "except InvalidCollectionException:\n",
    "    print(f'creating collection {collection_name}')\n",
    "    \n",
    "    collection = client.create_collection(\n",
    "        name=collection_name\n",
    "    )"
   ]
  },
  {
   "cell_type": "markdown",
   "id": "164e1db5-cc8a-4f9c-b4dd-f3a6840723b5",
   "metadata": {},
   "source": [
    "Add documents to the collection if the collection is new, or there are new documents to add."
   ]
  },
  {
   "cell_type": "code",
   "execution_count": 13,
   "id": "7ac36156-4c0c-420b-aee6-b09b05f37658",
   "metadata": {},
   "outputs": [],
   "source": [
    "collection.add(\n",
    "    documents=documents,\n",
    "    ids=ids\n",
    ")"
   ]
  },
  {
   "cell_type": "code",
   "execution_count": 15,
   "id": "8663f552-cd08-40f2-9e0a-979483990876",
   "metadata": {},
   "outputs": [
    {
     "data": {
      "text/plain": [
       "{'ids': [['https://journals.plos.org/plosone/article?id=10.1371/journal.pone.0310480',\n",
       "   'https://www.nature.com/articles/s41467-024-49080-9?error=cookies_not_supported&code=97f93c4a-08eb-43ca-a702-1d5b9904a90a',\n",
       "   'https://parasitesandvectors.biomedcentral.com/articles/10.1186/s13071-024-06279-5',\n",
       "   'https://linkinghub.elsevier.com/retrieve/pii/S2542519623002528',\n",
       "   'https://journals.plos.org/plosntds/article?id=10.1371/journal.pntd.0011908',\n",
       "   'https://linkinghub.elsevier.com/retrieve/pii/S0025556424001792',\n",
       "   'https://doi.org/10.1126/sciadv.adp1657',\n",
       "   'https://www.ebm-journal.org/journals/experimental-biology-and-medicine/articles/10.3389/ebm.2024.10114/full',\n",
       "   'https://academic.oup.com/jid/advance-article/doi/10.1093/infdis/jiae335/7701446',\n",
       "   'https://doi.org/10.1371/journal.pntd.0012616']],\n",
       " 'embeddings': None,\n",
       " 'documents': [['Aedes mosquito-borne viruses (ABVs) place a substantial strain on public health resources in the Americas. Vector control of Aedes mosquitoes is an important public health strategy to decrease or prevent spread of ABVs. The ongoing Targeted Indoor Residual Spraying (TIRS) trial is an NIH-sponsored clinical trial to study the efficacy of a novel, proactive vector control technique to prevent dengue virus (DENV), Zika virus (ZIKV), and chikungunya virus (CHIKV) infections in the endemic city of Merida, Yucatan, Mexico. The primary outcome of the trial is laboratory-confirmed ABV infections in neighborhood clusters. Despite the difficulties caused by the COVID-19 pandemic, by early 2021 the TIRS trial completed enrollment of 4,792 children aged 2-15 years in 50 neighborhood clusters which were allocated to control or intervention arms via a covariate-constrained randomization algorithm. Here, we describe the makeup and ABV seroprevalence of participants and mosquito population characteristics in both arms before TIRS administration. Baseline surveys showed similar distribution of age, sex, and socio-economic factors between the arms. Serum samples from 1,399 children were tested by commercially available ELISAs for presence of anti-ABV antibodies. We found that 45.1% of children were seropositive for one or more flaviviruses and 24.0% were seropositive for CHIKV. Of the flavivirus-positive participants, most were positive for ZIKV-neutralizing antibodies by focus reduction neutralization testing which indicated a higher proportion of participants with previous ZIKV than DENV infections within the cohort. Both study arms had statistically similar seroprevalence for all viruses tested, similar socio-demographic compositions, similar levels of Ae. aegypti infestation, and similar observed mosquito susceptibility to insecticides. These findings describe a population with a high rate of previous exposure to ZIKV and lower titers of neutralizing antibodies against DENV serotypes, suggesting susceptibility to future outbreaks of flaviviruses is possible, but proactive vector control may mitigate these risks.',\n",
       "   'The human infectious reservoir of Plasmodium falciparum is governed by transmission efficiency during vector-human contact and mosquito biting preferences. Understanding biting bias in a natural setting can help target interventions to interrupt transmission. In a 15-month cohort in western Kenya, we detected P. falciparum in indoor-resting Anopheles and human blood samples by qPCR and matched mosquito bloodmeals to cohort participants using short-tandem repeat genotyping. Using risk factor analyses and discrete choice models, we assessed mosquito biting behavior with respect to parasite transmission. Biting was highly unequal; 20% of people received 86% of bites. Biting rates were higher on males (biting rate ratio (BRR): 1.68; CI: 1.28-2.19), children 5-15 years (BRR: 1.49; CI: 1.13-1.98), and P. falciparum-infected individuals (BRR: 1.25; CI: 1.01-1.55). In aggregate, P. falciparum-infected school-age (5-15 years) boys accounted for 50% of bites potentially leading to onward transmission and had an entomological inoculation rate 6.4x higher than any other group. Additionally, infectious mosquitoes were nearly 3x more likely than non-infectious mosquitoes to bite P. falciparum-infected individuals (relative risk ratio 2.76, 95% CI 1.65-4.61). Thus, persistent P. falciparum transmission was characterized by disproportionate onward transmission from school-age boys and by the preference of infected mosquitoes to feed upon infected people.',\n",
       "   'Our results show that Ae. japonicus mosquitoes are actively host seeking throughout the day, with peaks in activity in the morning and evening. Their abundance in August was higher than in June and September. For the host-preference experiment, we documented a small number of mosquitoes feeding on birds: only six blood-fed females were caught over 4 full days of sampling. Finally, our vector competence experiments with Ae. japonicus compared to its natural vector Culex pipiens showed a higher infection and transmission rate when infected with a local, Dutch, WNV isolate compared to a Greek isolate of the virus. Interestingly, we also found a small number of infected Cx. pipiens males with virus-positive leg and saliva samples.Combining the field and laboratory derived data, our model predicts that Ae. japonicus could act as a spillover vector for WNV and could be responsible for a high initial invasion risk of WNV when present in large numbers.In recent years the Asian bush mosquito Aedes japonicus has invaded Europe, including the Netherlands. This species is a known vector for a range of arboviruses, possibly including West Nile virus (WNV). As WNV emerged in the Netherlands in 2020, it is important to investigate the vectorial capacity of mosquito species present in the Netherlands to estimate the risk of future outbreaks and further spread of the virus. Therefore, this study evaluates the potential role of Ae. japonicus in WNV transmission and spillover from birds to dead-end hosts in the Netherlands.We conducted human landing collections in allotment gardens (Lelystad, the Netherlands) in June, August and September 2021 to study the diurnal and seasonal host-seeking behaviour of Ae. japonicus. Furthermore, their host preference in relation to birds using live chicken-baited traps was investigated. Vector competence of field-collected Ae. japonicus mosquitoes for two isolates of WNV at two different temperatures was determined. Based on the data generated from these studies, we developed a Susceptible-Exposed-Infectious-Recovered (SEIR) model to calculate the risk of WNV spillover from birds to humans via Ae. japonicus, under the condition that the virus is introduced and circulates in an enzootic cycle in a given area.',\n",
       "   \"We developed a computational model to quantify the daily abundance of Aedes mosquitoes, leveraging temperature and precipitation records. The model was calibrated on mosquito surveillance data collected in 115 locations in Europe and the Americas between 2007 and 2018. Model estimates were used to quantify the reproduction number of dengue virus, Zika virus, and chikungunya in Europe and the Americas, at a high spatial resolution.In areas colonised by both Aedes species, A aegypti was estimated to be the main vector for the transmission of dengue virus, Zika virus, and chikungunya, being associated with a higher estimate of R0 when compared with A albopictus. Our estimates highlighted that these arboviruses were endemic in tropical and subtropical countries, with the highest risks of transmission found in central America, Venezuela, Colombia, and central-east Brazil. A non-negligible potential risk of transmission was also estimated for Florida, Texas, and Arizona (USA). The broader ecological niche of A albopictus could contribute to the emergence of chikungunya outbreaks and clusters of dengue autochthonous cases in temperate areas of the Americas, as well as in mediterranean Europe (in particular, in Italy, southern France, and Spain).Our results provide a comprehensive overview of the transmission potential of arboviral diseases in Europe and the Americas, highlighting areas where surveillance and mosquito control capacities should be prioritised.EU and Ministero dell'Università e della Ricerca, Italy (Piano Nazionale di Ripresa e Resilienza Extended Partnership initiative on Emerging Infectious Diseases); EU (Horizon 2020); Ministero dell'Università e della Ricerca, Italy (Progetti di ricerca di Rilevante Interesse Nazionale programme); Brazilian National Council of Science, Technology and Innovation; Ministry of Health, Brazil; and Foundation of Research for Minas Gerais, Brazil.Estimates of the spatiotemporal distribution of different mosquito vector species and the associated risk of transmission of arboviruses are key to design adequate policies for preventing local outbreaks and reducing the number of human infections in endemic areas. In this study, we quantified the abundance of Aedes albopictus and Aedes aegypti and the local transmission potential for three arboviral infections at an unprecedented spatiotemporal resolution in areas where no entomological surveillance is available.\",\n",
       "   'We performed an arboviral survey in mosquitoes from four endemic Ecuadorian cities (Huaquillas, Machala, Portovelo and Zaruma) during the epidemic period 2016-2018. Collections were performed during the pre-rainy season (2016), peak transmission season (2017) and post-rainy season (2018). Ae. aegypti mosquitoes were pooled by date, location and sex. Pools were screened by RT-PCR for the presence of ZIKV RNA, and infection rates (IRs) per 1,000 specimens were calculated. A total of 2,592 pools (comprising 6,197 mosquitoes) were screened. Our results reveal high IRs in all cities and periods sampled. Overall IRs among female mosquitoes were highest in Machala (89.2), followed by Portovelo (66.4), Zaruma (47.4) and Huaquillas (41.9). Among male mosquitoes, overall IRs were highest in Machala (35.6), followed by Portovelo (33.1), Huaquillas (31.9) and Zaruma (27.9), suggesting that alternative transmission routes (vertical/venereal) can play important roles for ZIKV maintenance in the vector population of these areas. Additionally, we propose that the stabilization of ZIKV vertical transmission in the vector population could help explain the presence of high IRs in field-caught mosquitoes during inter-epidemic periods.',\n",
       "   'Malaria is one of the most common mosquito-borne diseases widespread in tropical and subtropical regions, causing thousands of deaths every year in the world. In a previous paper, we formulated an age-structured model containing three structural variables: (i) the chronological age of human and mosquito populations, (ii) the time since they are infected, and (iii) humans waning immunity (i.e. the progressive loss of protective antibodies after recovery). In the present paper, we expand the analysis of this age-structured model and focus on the derivation of entomological and epidemiological results commonly used in the literature, following the works of Smith and McKenzie. We generalize their results to the age-structured case. In order to quantify the impact of neglecting structuring variables such as chronological age, we assigned values from the literature to our model parameters. While some parameters values are readily accessible from the literature, at least those about the human population, the parameters concerning mosquitoes are less commonly documented and the values of a number of them (e.g. mosquito survival in the presence or in absence of infection) can be discussed extensively. Our analysis, informed by parameter values from the literature, demonstrates that overlooking those structural variables of human and mosquito populations may result in inaccurate epidemiological predictions and suboptimal control strategies. We highlight the epidemiological implications of these findings and emphasize the necessity of considering age structure in future malaria control programs.',\n",
       "   'Japanese encephalitis virus (JEV) is a major threat to human health. Bangladesh is considering introducing a JEV vaccine; however, the investment case is hampered by a limited understanding of key aspects of JEV ecology. We conducted a seroprevalence study in a high-incidence region using an assay that limits cross-reactivity with dengue virus. We also trapped mosquitoes and collected information about potential host species. We used mathematical models to recover risk factors for infection and underlying probabilities of severe disease and death. We observed 19.0% [95% confidence interval (CI):17.1 to 21.1] of JEV antibodies. On average, 0.7% (95% CI: 0.2 to 2.0) of the susceptible population gets infected yearly, with pig proximity being the main human infection risk factor. Our traps captured 10 different mosquito species that have been linked with JEV transmission. We estimated that 1 in 1000 infections results in severe disease, 1 in 10,000 results in death, and 76% of severe cases are missed by surveillance.',\n",
       "   'Bunyamwera virus (BUNV) (Bunyamwera orthobunyavirus) has been found in Sub-Saharan Africa and demonstrated recently as cocirculating with Rift Valley Fever Virus (RVFV). Little is known regarding the breadth of transmission modalities of Bunyamwera. Given its co-occurence with RVFV, we hypothesized the transmission system of BUNV shared similarities to the RVFV system including transmission by Ae. aegypti mosquitoes and environmentally mediated transmission through fomites and environmental contamination. We exposed Ae. aegypti mosquitoes to BUNV and evaluated their ability to transmit both vertically and horizontally. Further, we investigated the potential for a novel transmission modality via environmental contamination. We found that the LSU colony of Ae. aegypti was not competent for the virus for either horizontal or vertical transmission; but, 20% of larva exposed to virus via contaminated aquatic habitat were positive. However, transstadial clearance of the virus was absolute. Finally, under simulated temperature conditions that matched peak transmission in Rwanda, we found that BUNV was stable in both whole blood and serum for up to 28\\xa0days at higher total volume in tubes at moderate quantities (103-5 genome copies/mL). In addition, infectiousness of these samples was demonstrated in 80% of the replicates. At lower volume samples (in plates), infectiousness was retained out to 6-8\\xa0days with a maximum infectious titer of 104\\xa0PFU/mL. Thus, the potential for contamination of the environment and/or transmission via contaminated fomites exists. Our findings have implications for biosafety and infection control, especially in the context of food animal production.',\n",
       "   'There is an increasing global burden from chikungunya virus (CHIKV). Bangladesh reported a major epidemic in 2017, however, it was unclear if there had been prior widespread transmission. We conducted a nationally representative seroprevalence survey in 70 randomly selected communities immediately prior to the epidemic. We found 69/2,938 (2.4%) of sampled individuals were seropositive to CHIKV. Being seropositive to dengue virus (aOR 3.13 [95% CIs: 1.86-5.27]), male sex (aOR 0.59 [95% CIs: 0.36-0.99]), and community presence of Aedes aegypti mosquitoes (aOR: 1.80, 95% CI: 1.05-3.07) were significantly associated with CHIKV seropositivity. Using a spatial prediction model, we estimated that across the country, 4.99 (95% CI: 4.89 - 5.08) million people had been previously infected. These findings highlight high population susceptibility prior to the major outbreak and that previous outbreaks must have been spatially isolated.',\n",
       "   'Dengue virus (DENV) and chikungunya virus (CHIKV) are causes of endemic febrile disease among Kenyan children. The exposure risk to these infections is highly multifactorial and linked to environmental factors and human behavior. We investigated relationships between household, socio-economic, demographic, and behavioral risk factors for DENV and CHIKV seropositivity and seroconversion in four settlements in Kenya. We prospectively followed a pediatric cohort of 3,445 children between 2014-2018. We utilized the Kaplan-Meier curves to describe the temporal patterns of seroconversion among tested participants. We employed logistic regression built using generalized linear mixed models, to identify potential exposure risk factors for DENV and CHIKV seroconversion and seropositivity. Overall, 5.2% children were seropositive for DENV, of which 59% seroconverted during the study period. The seroprevalence for CHIKV was 9.2%, of which 54% seroconverted. The fraction of seroconversions per year in the study cohort was <2% for both viruses. Multivariable analysis indicated that older age and the presence of water containers ((OR: 1.15 [95% CI: 1.10, 1.21]), (OR: 1.50 [95% CI: 1.07, 2.10])) increased the odds of DENV seropositivity, whereas higher wealth (OR: 0.83 [95% CI: 0.73, 0.96]) decreased the odds of DENV seropositivity. Multivariable analysis for CHIKV seropositivity showed older age and the presence of trash in the housing compound to be associated with increased odds of CHIKV seropositivity ((OR: 1.11[95% CI: 1.07, 1.15]), (OR: 1.34 [95% CI: 1.04, 1.73])), while higher wealth decreased the odds of CHIKV seropositivity (OR: 0.74[95% CI: 0.66, 0.83]). A higher wealth index (OR: 0.82 [95% CI: 0.69, 0.97]) decreased the odds of DENV seroconversion, whereas a higher age (OR: 1.08 [95% CI: 1.02, 1.15]) and the presence of water containers in the household (OR: 1.91[95% CI: 1.24, 2.95]) were significantly associated with increased odds of DENV seroconversion. Higher wealth was associated with decreased odds for CHIKV seroconversion (OR: 0.75 [95% CI: 0.66, 0.89]), whereas presence of water containers in the house (OR: 1.57 [95% CI: 1.11, 2.21]) was a risk factor for CHIKV seroconversion. Our study links ongoing CHIKV and DENV exposure to decreased wealth and clean water access, underscoring the need to combat inequity and poverty and further enhance ongoing surveillance for arboviruses in Kenya to decrease disease transmission. The study emphasizes the co-circulation of DENV and CHIKV and calls for strengthening the targeted control strategies of mosquito borne diseases in Kenya including vector control, environmental management, public education, community engagement and personal protection.']],\n",
       " 'uris': None,\n",
       " 'data': None,\n",
       " 'metadatas': [[None, None, None, None, None, None, None, None, None, None]],\n",
       " 'distances': [[0.7873256206512451,\n",
       "   0.8421846628189087,\n",
       "   0.844662070274353,\n",
       "   0.9168122714423705,\n",
       "   0.9595862627029419,\n",
       "   0.9607937932014465,\n",
       "   0.963485836982727,\n",
       "   0.9674050211906433,\n",
       "   0.9863682985305786,\n",
       "   0.988444983959198]],\n",
       " 'included': [<IncludeEnum.distances: 'distances'>,\n",
       "  <IncludeEnum.documents: 'documents'>,\n",
       "  <IncludeEnum.metadatas: 'metadatas'>]}"
      ]
     },
     "execution_count": 15,
     "metadata": {},
     "output_type": "execute_result"
    }
   ],
   "source": [
    "results = collection.query(\n",
    "    query_texts=[\"infectious diseases transmitted by mosquitoes that affect children\"],\n",
    "    n_results=10\n",
    ")\n",
    "\n",
    "results"
   ]
  },
  {
   "cell_type": "code",
   "execution_count": 17,
   "id": "93983d3a-a1b5-4839-862b-fce58d230661",
   "metadata": {},
   "outputs": [
    {
     "data": {
      "text/plain": [
       "{'ids': [['https://link.springer.com/article/10.1007/s11538-024-01326-9?error=cookies_not_supported&code=20758f1b-cc00-482f-91c4-2eb161967b2f',\n",
       "   'https://www.cambridge.org/core/journals/infection-control-and-hospital-epidemiology/article/expanding-the-use-of-mathematical-modeling-in-healthcare-epidemiology-and-infection-prevention-and-control/2C400B94C466610D0F00D920313A34ED',\n",
       "   'http://biorxiv.org/lookup/doi/10.1101/2024.06.29.601123',\n",
       "   'https://linkinghub.elsevier.com/retrieve/pii/S1879625724000427',\n",
       "   'https://linkinghub.elsevier.com/retrieve/pii/S002555642400110X',\n",
       "   'https://journals.plos.org/plosone/article?id=10.1371/journal.pone.0294579',\n",
       "   'https://journals.plos.org/plosone/article?id=10.1371/journal.pone.0290821',\n",
       "   'https://doi.org/10.1002/sim.10050',\n",
       "   'http://medrxiv.org/lookup/doi/10.1101/2024.10.11.24314870',\n",
       "   'https://linkinghub.elsevier.com/retrieve/pii/S0025556424001251']],\n",
       " 'embeddings': None,\n",
       " 'documents': [[\"Fred Brauer was an eminent mathematician who studied dynamical systems, especially differential equations. He made many contributions to mathematical epidemiology, a field that is strongly connected to data, but he always chose to avoid data analysis. Nevertheless, he recognized that fitting models to data is usually necessary when attempting to apply infectious disease transmission models to real public health problems. He was curious to know how one goes about fitting dynamical models to data, and why it can be hard. Initially in response to Fred's questions, we developed a user-friendly R package, fitode, that facilitates fitting ordinary differential equations to observed time series. Here, we use this package to provide a brief tutorial introduction to fitting compartmental epidemic models to a single observed time series. We assume that, like Fred, the reader is familiar with dynamical systems from a mathematical perspective, but has limited experience with statistical methodology or optimization techniques.\",\n",
       "   'During the coronavirus disease 2019 pandemic, mathematical modeling has been widely used to understand epidemiological burden, trends, and transmission dynamics, to facilitate policy decisions, and, to a lesser extent, to evaluate infection prevention and control (IPC) measures. This review highlights the added value of using conventional epidemiology and modeling approaches to address the complexity of healthcare-associated infections (HAI) and antimicrobial resistance. It demonstrates how epidemiological surveillance data and modeling can be used to infer transmission dynamics in healthcare settings and to forecast healthcare impact, how modeling can be used to improve the validity of interpretation of epidemiological surveillance data, how modeling can be used to estimate the impact of IPC interventions, and how modeling can be used to guide IPC and antimicrobial treatment and stewardship decision-making. There are several priority areas for expanding the use of modeling in healthcare epidemiology and IPC. Importantly, modeling should be viewed as complementary to conventional healthcare epidemiological approaches, and this requires collaboration and active coordination between IPC, healthcare epidemiology, and mathematical modeling groups.',\n",
       "   \"Infectious disease dynamics are driven by the complex interplay of epidemiological, ecological, and evolutionary processes. Accurately modeling these interactions is crucial for understanding pathogen spread and informing public health strategies. However, existing simulators often fail to capture the dynamic interplay between these processes, resulting in oversimplified models that do not fully reflect real-world complexities in which the pathogen's genetic evolution dynamically influences disease transmission. We introduce the epidemiological-ecological-evolutionary simulator (e3SIM), an open-source framework that concurrently models the transmission dynamics and molecular evolution of pathogens within a host population while integrating environmental factors. Using an agent-based, discrete-generation, forward-in-time approach, e3SIM incorporates compartmental models, host-population contact networks, and quantitative-trait models for pathogens. This integration allows for realistic simulations of disease spread and pathogen evolution. Key features include a modular and scalable design, flexibility in modeling various epidemiological and population-genetic complexities, incorporation of time-varying environmental factors, and a user-friendly graphical interface. We demonstrate e3SIM's capabilities through simulations of realistic outbreak scenarios with SARS-CoV-2 and Mycobacterium tuberculosis, illustrating its flexibility for studying the genomic epidemiology of diverse pathogen types.\",\n",
       "   'The 2013-2016 Ebola virus disease epidemic and the coronavirus disease 2019 pandemic galvanized tremendous growth in models for emerging zoonotic and vector-borne viruses. Therefore, we have reviewed the main goals and methods of models to guide scientists and decision-makers. The elements of models for emerging viruses vary across spectrums: from understanding the past to forecasting the future, using data across space and time, and using statistical versus mechanistic methods. Hybrid/ensemble models and artificial intelligence offer new opportunities for modeling. Despite this progress, challenges remain in translating models into actionable decisions, particularly in areas at highest risk for viral disease outbreaks. To address this issue, we must identify gaps in models for specific viruses, strengthen validation, and involve policymakers in model development.',\n",
       "   \"COVID-19 highlighted the importance of considering human behavior change when modeling disease dynamics. This led to developing various models that incorporate human behavior. Our objective is to contribute to an in-depth, mathematical examination of such models. Here, we consider a simple deterministic compartmental model with endogenous incorporation of human behavior (i.e., behavioral feedback) through transmission in a classic Susceptible-Exposed-Infectious-Recovered (SEIR) structure. Despite its simplicity, the SEIR structure with behavior (SEIRb) was shown to perform well in forecasting, especially compared to more complicated models. We contrast this model with an SEIR model that excludes endogenous incorporation of behavior. Both models assume permanent immunity to COVID-19, so we also consider a modification of the models which include waning immunity (SEIRS and SEIRSb). We perform equilibria, sensitivity, and identifiability analyses on all models and examine the fidelity of the models to replicate COVID-19 data across the United States. Endogenous incorporation of behavior significantly improves a model's ability to produce realistic outbreaks. While the two endogenous models are similar with respect to identifiability and sensitivity, the SEIRSb model, with the more accurate assumption of the waning immunity, strengthens the initial SEIRb model by allowing for the existence of an endemic equilibrium, a realistic feature of COVID-19 dynamics. When fitting the model to data, we further consider the addition of simple seasonality affecting disease transmission to highlight the explanatory power of the models.\",\n",
       "   'The cacao swollen shoot virus disease (CSSVD) is among the most economically damaging diseases of cacao trees and accounts for almost 15-50% of harvest losses in Ghana. This virus is transmitted by several species of mealybugs (Pseudococcidae, Homoptera) when they feed on cacao plants. One of the mitigation strategies for CSSVD investigated at the Cocoa Research Institute of Ghana (CRIG) is the use of mild-strain cross-protection of cacao trees against the effects of severe strains. In this study, simple deterministic, delay, and stochastic ordinary differential equation-based models to describe the dynamic of the disease and spread of the virus are suggested. Model parameters are estimated using detailed empirical data from CRIG. The modeling outcomes demonstrate a remarkable resemblance between real and simulated dynamics. We have found that models with delay approximate the data better and this agrees with the knowledge that CSSVD epidemics develop slowly. Also, since there are large variations in the data, stochastic models lead to better results. We show that these models can be used to gain useful informative insights about the nature of disease spread.',\n",
       "   \"Mathematical models are a valuable tool for studying and predicting the spread of infectious agents. The accuracy of model simulations and predictions invariably depends on the specification of model parameters. Estimation of these parameters is therefore extremely important; however, while some parameters can be derived from observational studies, the values of others are difficult to measure. Instead, models can be coupled with inference algorithms (i.e., data assimilation methods, or statistical filters), which fit model simulations to existing observations and estimate unobserved model state variables and parameters. Ideally, these inference algorithms should find the best fitting solution for a given model and set of observations; however, as those estimated quantities are unobserved, it is typically uncertain whether the correct parameters have been identified. Further, it is unclear what 'correct' really means for abstract parameters defined based on specific model forms. In this work, we explored the problem of non-identifiability in a stochastic system which, when overlooked, can significantly impede model prediction. We used a network, agent-based model to simulate the transmission of Methicillin-resistant staphylococcus aureus (MRSA) within hospital settings and attempted to infer key model parameters using the Ensemble Adjustment Kalman Filter, an efficient Bayesian inference algorithm. We show that even though the inference method converged and that simulations using the estimated parameters produced an agreement with observations, the true parameters are not fully identifiable. While the model-inference system can exclude a substantial area of parameter space that is unlikely to contain the true parameters, the estimated parameter range still included multiple parameter combinations that can fit observations equally well. We show that analyzing synthetic trajectories can support or contradict claims of identifiability. While we perform this on a specific model system, this approach can be generalized for a variety of stochastic representations of partially observable systems. We also suggest data manipulations intended to improve identifiability that might be applicable in many systems of interest.\",\n",
       "   'Throughout the course of an epidemic, the rate at which disease spreads varies with behavioral changes, the emergence of new disease variants, and the introduction of mitigation policies. Estimating such changes in transmission rates can help us better model and predict the dynamics of an epidemic, and provide insight into the efficacy of control and intervention strategies. We present a method for likelihood-based estimation of parameters in the stochastic susceptible-infected-removed model under a time-inhomogeneous transmission rate comprised of piecewise constant components. In doing so, our method simultaneously learns change points in the transmission rate via a Markov chain Monte Carlo algorithm. The method targets the exact model posterior in a difficult missing data setting given only partially observed case counts over time. We validate performance on simulated data before applying our approach to data from an Ebola outbreak in Western Africa and COVID-19 outbreak on a university campus.',\n",
       "   'In September 2022, an outbreak of Sudan virus (SUDV) was confirmed in Uganda. Following the first case report, we developed an individual based modelling platform (IBM-SUDV) to estimate the burden of cases and deaths, as well as the duration of the unfolding SUDV outbreak, using different scenarios. Modelled projections were within the range of cases and deaths ultimately observed.',\n",
       "   'In epidemiology, realistic disease dynamics often require Susceptible-Exposed-Infected-Recovered (SEIR)-like models because they account for incubation periods before individuals become infectious. However, for the sake of analytical tractability, simpler Susceptible-Infected-Recovered (SIR) models are commonly used, despite their lack of biological realism. Bridging these models is crucial for accurately estimating parameters and fitting models to observed data, particularly in population-level studies of infectious diseases. This paper investigates stochastic versions of the SEIR and SIR frameworks and demonstrates that the SEIR model can be effectively approximated by a SIR model with time-dependent infection and recovery rates. The validity of this approximation is supported by the derivation of a large-population Functional Law of Large Numbers (FLLN) limit and a finite-population concentration inequality. To apply this approximation in practice, the paper introduces a parameter inference methodology based on the Dynamic Survival Analysis (DSA) survival analysis framework. This method enables the fitting of the SIR model to data simulated from the more complex SEIR dynamics, as illustrated through simulated experiments.']],\n",
       " 'uris': None,\n",
       " 'data': None,\n",
       " 'metadatas': [[None, None, None, None, None, None, None, None, None, None]],\n",
       " 'distances': [[0.636229932308197,\n",
       "   0.673806369304657,\n",
       "   0.6754282116889954,\n",
       "   0.7384027242660522,\n",
       "   0.7734676599502563,\n",
       "   0.7818485498428345,\n",
       "   0.782921314239502,\n",
       "   0.7848924398422241,\n",
       "   0.7862355709075928,\n",
       "   0.7874612808227539]],\n",
       " 'included': [<IncludeEnum.distances: 'distances'>,\n",
       "  <IncludeEnum.documents: 'documents'>,\n",
       "  <IncludeEnum.metadatas: 'metadatas'>]}"
      ]
     },
     "execution_count": 17,
     "metadata": {},
     "output_type": "execute_result"
    }
   ],
   "source": [
    "results = collection.query(\n",
    "    query_texts=[\"infectious diseases modeling\"],\n",
    "    n_results=10\n",
    ")\n",
    "\n",
    "results"
   ]
  },
  {
   "cell_type": "code",
   "execution_count": 19,
   "id": "ae1b5588-1ead-4884-b1c9-67a70188d92e",
   "metadata": {},
   "outputs": [
    {
     "data": {
      "text/plain": [
       "{'ids': [['https://www.ncbi.nlm.nih.gov/pubmed/?term=38827450',\n",
       "   'https://linkinghub.elsevier.com/retrieve/pii/S1755436524000409',\n",
       "   'https://linkinghub.elsevier.com/retrieve/pii/S1755436524000355',\n",
       "   'https://journals.plos.org/plosone/article?id=10.1371/journal.pone.0297247',\n",
       "   'https://journals.plos.org/plosone/article?id=10.1371/journal.pone.0290821',\n",
       "   'https://www.canada.ca/content/dam/phac-aspc/documents/services/reports-publications/canada-communicable-disease-report-ccdr/monthly-issue/2024-50/issue-10-october-2024/ccdrv50i10a03-eng.pdf',\n",
       "   'https://doi.org/10.1098/rsif.2024.0217',\n",
       "   'https://linkinghub.elsevier.com/retrieve/pii/S2772653324000157',\n",
       "   'https://linkinghub.elsevier.com/retrieve/pii/S2468042724000058',\n",
       "   'https://linkinghub.elsevier.com/retrieve/pii/S1755436524000136']],\n",
       " 'embeddings': None,\n",
       " 'documents': [[\"The vision of personalized medicine is to identify interventions that maintain or restore a person's health based on their individual biology. Medical digital twins, computational models that integrate a wide range of health-related data about a person and can be dynamically updated, are a key technology that can help guide medical decisions. Such medical digital twin models can be high-dimensional, multi-scale, and stochastic. To be practical for healthcare applications, they often need to be simplified into low-dimensional surrogate models that can be used for optimal design of interventions. This paper introduces surrogate modeling algorithms for the purpose of optimal control applications. As a use case, we focus on agent-based models (ABMs), a common model type in biomedicine for which there are no readily available optimal control algorithms. By deriving surrogate models that are based on systems of ordinary differential equations, we show how optimal control methods can be employed to compute effective interventions, which can then be lifted back to a given ABM. The relevance of the methods introduced here extends beyond medical digital twins to other complex dynamical systems.\",\n",
       "   'UVA-EpiHiper is a national scale agent-based model to support the US COVID-19 Scenario Modeling Hub (SMH). UVA-EpiHiper uses a detailed representation of the underlying social contact network along with data measured during the course of the pandemic to initialize and calibrate the model. In this paper, we study the role of heterogeneity on model complexity and resulting epidemic dynamics using UVA-EpiHiper. We discuss various sources of heterogeneity that we encounter in the use of UVA-EpiHiper to support modeling and analysis of epidemic dynamics under various scenarios. We also discuss how this affects model complexity and computational complexity of the corresponding simulations. Using round 13 of the SMH as an example, we discuss how UVA-EpiHiper was initialized and calibrated. We then discuss how the detailed output produced by UVA-EpiHiper can be analyzed to obtain interesting insights. We find that despite the complexity in the model, the software, and the computation incurred to an agent-based model in scenario modeling, it is capable of capturing various heterogeneities of real-world systems, especially those in networks and behaviors, and enables analyzing heterogeneities in epidemiological outcomes between different demographic, geographic, and social cohorts. In applying UVA-EpiHiper to round 13 scenario modeling, we find that disease outcomes are different between and within states, and between demographic groups, which can be attributed to heterogeneities in population demographics, network structures, and initial immunity.',\n",
       "   'The onset of the COVID-19 pandemic drove a widespread, often uncoordinated effort by research groups to develop mathematical models of SARS-CoV-2 to study its spread and inform control efforts. The urgent demand for insight at the outset of the pandemic meant early models were typically either simple or repurposed from existing research agendas. Our group predominantly uses agent-based models (ABMs) to study fine-scale intervention scenarios. These high-resolution models are large, complex, require extensive empirical data, and are often more detailed than strictly necessary for answering qualitative questions like \"Should we lockdown?\" During the early stages of an extraordinary infectious disease crisis, particularly before clear empirical evidence is available, simpler models are more appropriate. As more detailed empirical evidence becomes available, however, and policy decisions become more nuanced and complex, fine-scale approaches like ours become more useful. In this manuscript, we discuss how our group navigated this transition as we modeled the pandemic. The role of modelers often included nearly real-time analysis, and the massive undertaking of adapting our tools quickly. We were often playing catch up with a firehose of evidence, while simultaneously struggling to do both academic research and real-time decision support, under conditions conducive to neither. By reflecting on our experiences of responding to the pandemic and what we learned from these challenges, we can better prepare for future demands.',\n",
       "   \"To end the AIDS epidemic by 2030, despite the increasing poverty and inequalities, policies should be designed to deal with population heterogeneity and environmental changes. Bottom-up designs, such as the Agent-Based Model (ABM), can model these features, dealing with such complexity. HIV/AIDS has a complex dynamic of structural factors, risk behaviors, biomedical characteristics and interventions. All embedded in unequal, stigmatized and heterogeneous social structure. To understand how ABMs can model this complexity, we performed a scoping review of HIV applications, highlighting their potentialities.While ABM is among the most sophisticated techniques available to model HIV/AIDS complexity. Their applications are still restricted to some realities. However, researchers are challenged to think about social structure due model characteristics, the inclusion of these features is still restricted to case-specific. Data and computational power availability can enhance this feature providing insightful results.We searched on PubMed, Web of Science, and Scopus repositories following the PRISMA extension for scoping reviews. Our inclusion criteria were HIV/AIDS studies with an ABM application. We identified the main articles using a local co-citation analysis and categorized the overall literature aims, (sub)populations, regions, and if the papers declared the use of ODD protocol and limitations.We found 154 articles. We identified eleven main papers, and discussed them using the overall category results. Most studies model Transmission Dynamics (37/154), about Men who have sex with Men (MSM) (41/154), or individuals living in the US or South Africa (84/154). Recent studies applied ABM to model PrEP interventions (17/154) and Racial Disparities (12/154). Only six papers declared the use of ODD Protocol (6/154), and 34/154 didn't mention the study limitations.\",\n",
       "   \"Mathematical models are a valuable tool for studying and predicting the spread of infectious agents. The accuracy of model simulations and predictions invariably depends on the specification of model parameters. Estimation of these parameters is therefore extremely important; however, while some parameters can be derived from observational studies, the values of others are difficult to measure. Instead, models can be coupled with inference algorithms (i.e., data assimilation methods, or statistical filters), which fit model simulations to existing observations and estimate unobserved model state variables and parameters. Ideally, these inference algorithms should find the best fitting solution for a given model and set of observations; however, as those estimated quantities are unobserved, it is typically uncertain whether the correct parameters have been identified. Further, it is unclear what 'correct' really means for abstract parameters defined based on specific model forms. In this work, we explored the problem of non-identifiability in a stochastic system which, when overlooked, can significantly impede model prediction. We used a network, agent-based model to simulate the transmission of Methicillin-resistant staphylococcus aureus (MRSA) within hospital settings and attempted to infer key model parameters using the Ensemble Adjustment Kalman Filter, an efficient Bayesian inference algorithm. We show that even though the inference method converged and that simulations using the estimated parameters produced an agreement with observations, the true parameters are not fully identifiable. While the model-inference system can exclude a substantial area of parameter space that is unlikely to contain the true parameters, the estimated parameter range still included multiple parameter combinations that can fit observations equally well. We show that analyzing synthetic trajectories can support or contradict claims of identifiability. While we perform this on a specific model system, this approach can be generalized for a variety of stochastic representations of partially observable systems. We also suggest data manipulations intended to improve identifiability that might be applicable in many systems of interest.\",\n",
       "   'Modelling can best support pandemic preparedness in two ways: 1) by modelling to support decisions on resource needs for likely future pandemics by estimating numbers of infections, hospitalized cases and cases needing intensive care, associated with epidemics of \"hypothetical-yet-plausible\" pandemic pathogens in Canada; and 2) by having ready-to-go modelling methods that can be readily adapted to the features of an emerging pandemic pathogen and used for long-range forecasting of the epidemic in Canada, as well as to explore scenarios to support public health decisions on the use of interventions.The COVID-19 pandemic underlined the need for pandemic planning but also brought into focus the use of mathematical modelling to support public health decisions. The types of models needed (compartment, agent-based, importation) are described. Best practices regarding biological realism (including the need for multidisciplinary expert advisors to modellers), model complexity, consideration of uncertainty and communications to decision-makers and the public are outlined.There is a need for modelling expertise within public health organizations in Canada, linked to modellers in academia in a community of practice, within which relationships built outside of times of crisis can be applied to enhance modelling during public health emergencies. Key challenges to modelling for pandemic preparedness include the availability of linked public health, hospital and genomic data in Canada.A narrative review was developed from the experiences of COVID-19 by members of the Public Health Agency of Canada External Modelling Network for Infectious Diseases (PHAC EMN-ID), a national community of practice on mathematical modelling of infectious diseases for public health.',\n",
       "   'Mathematical models in ecology and epidemiology must be consistent with observed data in order to generate reliable knowledge and evidence-based policy. Metapopulation systems, which consist of a network of connected sub-populations, pose technical challenges in statistical inference owing to nonlinear, stochastic interactions. Numerical difficulties encountered in conducting inference can obstruct the core scientific questions concerning the link between the mathematical models and the data. Recently, an algorithm has been proposed that enables computationally tractable likelihood-based inference for high-dimensional partially observed stochastic dynamic models of metapopulation systems. We use this algorithm to build a statistically principled data analysis workflow for metapopulation systems. Via a case study of COVID-19, we show how this workflow addresses the limitations of previous approaches. The COVID-19 pandemic provides a situation where mathematical models and their policy implications are widely visible, and we revisit an influential metapopulation model used to inform basic epidemiological understanding early in the pandemic. Our methods support self-critical data analysis, enabling us to identify and address model weaknesses, leading to a new model with substantially improved statistical fit and parameter identifiability. Our results suggest that the lockdown initiated on 23 January 2020 in China was more effective than previously thought.',\n",
       "   'During the COVID-19 pandemic there was a plethora of dynamical forecasting models created, but their ability to effectively describe future trajectories of disease was mixed. A major challenge in evaluating future case trends was forecasting the behavior of individuals. When behavior was incorporated into models, it was primarily incorporated exogenously (e.g., fitting to cellphone mobility data). Fewer models incorporated behavior endogenously (e.g., dynamically changing a model parameter throughout the simulation).This review aimed to qualitatively characterize models that included an adaptive (endogenous) behavioral element in the context of COVID-19 transmission. We categorized studies into three approaches: 1) feedback loops, 2) game theory/utility theory, and 3) information/opinion spread.While many COVID-19 models incorporated behavior exogenously, these approaches may fail to capture future adaptations in human behavior, resulting in under- or overestimates of disease burden. By incorporating behavior endogenously, the next generation of infectious disease models could more effectively predict outcomes so that decision makers can better prepare for and respond to epidemics.This study was funded in-part by Centers for Disease Control and Prevention (CDC) MInD-Healthcare Program (1U01CK000536), the National Science Foundation (NSF) Modeling Dynamic Disease-Behavior Feedbacks for Improved Epidemic Prediction and Response grant (2229996), and the NSF PIPP Phase I: Evaluating the Effectiveness of Messaging and Modeling during Pandemics grant (2200256).Of the 92 included studies, 72% employed a feedback loop, 27% used game/utility theory, and 9% used a model if information/opinion spread. Among all studies, 89% used a compartmental model alone or in combination with other model types. Similarly, 15% used a network model, 11% used an agent-based model, 7% used a system dynamics model, and 1% used a Markov chain model. Descriptors of behavior change included mask-wearing, social distancing, vaccination, and others. Sixty-eight percent of studies calibrated their model to observed data and 25% compared simulated forecasts to observed data. Forty-one percent of studies compared versions of their model with and without endogenous behavior. Models with endogenous behavior tended to show a smaller and delayed initial peak with subsequent periodic waves.',\n",
       "   'This paper presents a comprehensive agent-based model for the spread of an infection in a network of cities. Directional mobility is defined between each two cities and can take different values. The work examines the role that such mobility levels play in containing the infection with various vaccination coverage and age distributions. The results indicate that mobility reduction is sufficient to control the disease under all circumstances and full lockdowns are not a necessity. It has to be reduced to different ratios depending on the vaccination level and age distribution. A key finding is that increasing vaccination coverage above a certain level does not affect the mobility suppression level required to control the infection anymore for the cases of young population and heterogeneous age distributions. By investigating several migration and commuting patterns, it is found that shutting mobility in a few local places is favored against reducing mobility over the entire country network. In addition, commuting -and not migration-influences the spread level of the infection. The work offers an exclusive combined network-based and agent-based model that makes use of randomly generated mobility matrices.',\n",
       "   'We document the evolution and use of the stochastic agent-based COVID-19 simulation model (COVSIM) to study the impact of population behaviors and public health policy on disease spread within age, race/ethnicity, and urbanicity subpopulations in North Carolina. We detail the methodologies used to model the complexities of COVID-19, including multiple agent attributes (i.e., age, race/ethnicity, high-risk medical status), census tract-level interaction network, disease state network, agent behavior (i.e., masking, pharmaceutical intervention (PI) uptake, quarantine, mobility), and variants. We describe its uses outside of the COVID-19 Scenario Modeling Hub (CSMH), which has focused on the interplay of nonpharmaceutical and pharmaceutical interventions, equitability of vaccine distribution, and supporting local county decision-makers in North Carolina. This work has led to multiple publications and meetings with a variety of local stakeholders. When COVSIM joined the CSMH in January 2022, we found it was a sustainable way to support new COVID-19 challenges and allowed the group to focus on broader scientific questions. The CSMH has informed adaptions to our modeling approach, including redesigning our high-performance computing implementation.']],\n",
       " 'uris': None,\n",
       " 'data': None,\n",
       " 'metadatas': [[None, None, None, None, None, None, None, None, None, None]],\n",
       " 'distances': [[0.9656153917312622,\n",
       "   1.0488693714141846,\n",
       "   1.1085494756698608,\n",
       "   1.1402461528778076,\n",
       "   1.1913431882858276,\n",
       "   1.194432020187378,\n",
       "   1.2026782035827637,\n",
       "   1.2116553783416748,\n",
       "   1.2242136001586914,\n",
       "   1.245016098022461]],\n",
       " 'included': [<IncludeEnum.distances: 'distances'>,\n",
       "  <IncludeEnum.documents: 'documents'>,\n",
       "  <IncludeEnum.metadatas: 'metadatas'>]}"
      ]
     },
     "execution_count": 19,
     "metadata": {},
     "output_type": "execute_result"
    }
   ],
   "source": [
    "results = collection.query(\n",
    "    query_texts=[\"agent-based models\"],\n",
    "    n_results=10\n",
    ")\n",
    "\n",
    "results"
   ]
  },
  {
   "cell_type": "markdown",
   "id": "7ada2268-717c-48b7-8231-cbc78dd4e3f0",
   "metadata": {},
   "source": [
    "Create a new collection using Cosign distance rather than Squred L2 (default). Ref: https://docs.trychroma.com/guides#changing-the-distance-function"
   ]
  },
  {
   "cell_type": "code",
   "execution_count": null,
   "id": "f16c46e9-d226-439c-bdef-b49379ee8af8",
   "metadata": {
    "scrolled": true
   },
   "outputs": [],
   "source": [
    "collection_name = 'articles-default-embeddings-cosign-distance'\n",
    "\n",
    "try:\n",
    "    print(f'loading collection {collection_name}')\n",
    "    \n",
    "    collection = client.get_collection(\n",
    "        name=collection_name\n",
    "    )\n",
    "except InvalidCollectionException:\n",
    "    print(f'creating collection {collection_name}')\n",
    "    \n",
    "    collection = client.create_collection(\n",
    "        name=collection_name,\n",
    "        metadata={\"hnsw:space\": \"cosine\"}\n",
    "    )"
   ]
  },
  {
   "cell_type": "code",
   "execution_count": null,
   "id": "9ea145b1-5a72-4172-8603-e31975837cfa",
   "metadata": {
    "scrolled": true
   },
   "outputs": [],
   "source": [
    "collection.add(\n",
    "    documents=documents,\n",
    "    ids=ids\n",
    ")"
   ]
  },
  {
   "cell_type": "code",
   "execution_count": null,
   "id": "4bb5edd7-79bd-4b8c-8afe-1f7161304f98",
   "metadata": {},
   "outputs": [],
   "source": [
    "results = collection.query(\n",
    "    query_texts=[\"infectious diseases transmitted by mosquitoes and that affect children\"],\n",
    "    n_results=10\n",
    ")\n",
    "\n",
    "results"
   ]
  },
  {
   "cell_type": "code",
   "execution_count": null,
   "id": "22530882-003c-4e40-acfd-1b1a20fe3fc0",
   "metadata": {},
   "outputs": [],
   "source": []
  }
 ],
 "metadata": {
  "kernelspec": {
   "display_name": "Python 3 (ipykernel)",
   "language": "python",
   "name": "python3"
  },
  "language_info": {
   "codemirror_mode": {
    "name": "ipython",
    "version": 3
   },
   "file_extension": ".py",
   "mimetype": "text/x-python",
   "name": "python",
   "nbconvert_exporter": "python",
   "pygments_lexer": "ipython3",
   "version": "3.12.3"
  }
 },
 "nbformat": 4,
 "nbformat_minor": 5
}
