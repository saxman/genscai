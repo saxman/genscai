{
 "cells": [
  {
   "cell_type": "markdown",
   "id": "356bb64b-d81b-4845-9021-3cb438081239",
   "metadata": {},
   "source": [
    "# 03.1 - Embedding with Chroma\n",
    "\n",
    "For finding semantically related documents, we'll use Chroma (https://www.trychroma.com/), which is a lightweight vector data store. Chroma supports swappable embedding models, filtering using metadata, keyword search, and multiple distance measurements. We'll use these features for evlauating approaches to organizing papers for downstream processing (search, summarization, keyword extraction, etc.).\n",
    "\n",
    "The default Chroma embedding model is used in this notebook. The other \"03\" notebooks show how different embedding models can be used."
   ]
  },
  {
   "cell_type": "markdown",
   "id": "466a18fd-3c57-4c10-9821-6c04da224c4b",
   "metadata": {},
   "source": [
    "## Section 0 - Notebook Setup"
   ]
  },
  {
   "cell_type": "code",
   "execution_count": null,
   "id": "1985436d-5c4d-4726-86e2-603f428caf98",
   "metadata": {},
   "outputs": [],
   "source": [
    "%pip install --upgrade --quiet chromadb"
   ]
  },
  {
   "cell_type": "code",
   "execution_count": null,
   "id": "37bc6a4f-1ea3-4442-8194-b235141c7f9c",
   "metadata": {},
   "outputs": [],
   "source": [
    "%pip install --upgrade --quiet sentence_transformers"
   ]
  },
  {
   "cell_type": "markdown",
   "id": "db0e62dd-ee4d-4097-913e-a2ae4cc0035d",
   "metadata": {},
   "source": [
    "Load articles and prune ones without abstracts, since we're using the abstracts for generating the embeddings."
   ]
  },
  {
   "cell_type": "code",
   "execution_count": null,
   "id": "176e8f57-7526-48ed-a7ad-9d13451efd06",
   "metadata": {},
   "outputs": [],
   "source": [
    "import pandas as pd\n",
    "from genscai import paths\n",
    "\n",
    "df_modeling_papers = pd.read_json(paths.data / \"modeling_papers_0.json\", orient=\"records\", lines=True)\n",
    "df_modeling_papers.shape"
   ]
  },
  {
   "cell_type": "markdown",
   "id": "3b88d776-633a-4ffc-9129-74cc66fd1b71",
   "metadata": {},
   "source": [
    "## Section I - Create a Vector Database using Chroma"
   ]
  },
  {
   "cell_type": "markdown",
   "id": "12a7b458-6e0e-44da-ac4b-61d65ba66a34",
   "metadata": {},
   "source": [
    "Create a Chroma database for storing the vector data, and create a collection in the database. Chroma collections can each have their own embedding and distance measurements."
   ]
  },
  {
   "cell_type": "code",
   "execution_count": null,
   "id": "4e6730fc-d920-4e7f-87c8-2281ad6b7bb6",
   "metadata": {},
   "outputs": [],
   "source": [
    "import chromadb\n",
    "from genscai import paths\n",
    "\n",
    "client = chromadb.PersistentClient(path=str(paths.output / \"chroma_db\"))\n",
    "\n",
    "collection_name = \"articles-default-embeddings\"\n",
    "\n",
    "collection = client.create_collection(name=collection_name)\n",
    "# collection = client.get_collection(name=collection_name)\n",
    "# collection = client.delete_collection(name=collection_name)"
   ]
  },
  {
   "cell_type": "markdown",
   "id": "164e1db5-cc8a-4f9c-b4dd-f3a6840723b5",
   "metadata": {},
   "source": [
    "Add documents to the collection if the collection is new, or there are new documents to add."
   ]
  },
  {
   "cell_type": "code",
   "execution_count": null,
   "id": "7ac36156-4c0c-420b-aee6-b09b05f37658",
   "metadata": {},
   "outputs": [],
   "source": [
    "from tqdm import tqdm\n",
    "\n",
    "# use only the first 100 documents for testing\n",
    "documents = df_modeling_papers.get(\"abstract\").tolist()[:100]\n",
    "ids = df_modeling_papers.get(\"id\").tolist()[:100]\n",
    "\n",
    "for i in tqdm(range(len(documents))):\n",
    "    collection.add(documents=documents[i], ids=ids[i])"
   ]
  },
  {
   "cell_type": "code",
   "execution_count": null,
   "id": "93983d3a-a1b5-4839-862b-fce58d230661",
   "metadata": {
    "collapsed": true,
    "jupyter": {
     "outputs_hidden": true
    }
   },
   "outputs": [],
   "source": [
    "results = collection.query(query_texts=[\"agent-based models for malaria\"], n_results=10)\n",
    "\n",
    "results"
   ]
  },
  {
   "cell_type": "markdown",
   "id": "7ada2268-717c-48b7-8231-cbc78dd4e3f0",
   "metadata": {},
   "source": [
    "Create a new collection using Cosign distance rather than Squred L2 (default). Ref: https://docs.trychroma.com/guides#changing-the-distance-function"
   ]
  },
  {
   "cell_type": "code",
   "execution_count": 8,
   "id": "f16c46e9-d226-439c-bdef-b49379ee8af8",
   "metadata": {},
   "outputs": [],
   "source": [
    "collection_name = \"articles-default-embeddings-cosign-distance\"\n",
    "\n",
    "collection = client.create_collection(name=collection_name, metadata={\"hnsw:space\": \"cosine\"})"
   ]
  },
  {
   "cell_type": "code",
   "execution_count": 9,
   "id": "9ea145b1-5a72-4172-8603-e31975837cfa",
   "metadata": {
    "scrolled": true
   },
   "outputs": [
    {
     "name": "stderr",
     "output_type": "stream",
     "text": [
      "100%|██████████| 100/100 [02:25<00:00,  1.45s/it]\n"
     ]
    }
   ],
   "source": [
    "for i in tqdm(range(len(documents))):\n",
    "    collection.add(documents=documents[i], ids=ids[i])"
   ]
  },
  {
   "cell_type": "code",
   "execution_count": null,
   "id": "4bb5edd7-79bd-4b8c-8afe-1f7161304f98",
   "metadata": {},
   "outputs": [
    {
     "data": {
      "text/plain": [
       "{'ids': [['6c6ba8c664304e2e0bab2fedf0ab7172',\n",
       "   'd09d1bf9621aa34f3def62f792832afb',\n",
       "   '720774c69f06f1db3d52d62cd5c8dea1',\n",
       "   'bd125f9c55d413d1cb7818e6e6193340',\n",
       "   '338f54dd377e7ca36a88b0960325b332',\n",
       "   '970de68ec0c738b559989f8a466900a1',\n",
       "   'c470587524fc04e2f2cb569987ff2601',\n",
       "   '7ad12941613f8c448d0e14b02b1f8931',\n",
       "   '15b0cbbeca7b62fce9e34e0f1db428ec',\n",
       "   'c92d823b6a0f1819d36c0f99067a22b4']],\n",
       " 'embeddings': None,\n",
       " 'documents': [['In February 2019, a major flooding event occurred in Townsville, North Queensland, Australia. Here we present a prediction of the occurrence of mosquito-borne diseases (MBDs) after the flooding. We used a mathematical modelling approach based on mosquito population abundance, survival, and size as well as current infectiousness to predict the changes in the occurrences of MBDs due to flooding in the study area. Based on 2019 year-to-date number of notifiable MBDs, we predicted an increase in number of cases, with a peak at 104 by one-half month after the flood receded. The findings in this study indicate that Townsville may see an upsurge in the cases of MBDs in the coming days. However, the burden of diseases will go down again if the mosquito control program being implemented by the City Council continues. As our predictions focus on the near future, longer term effects of flooding on the occurrence of mosquito-borne diseases need to be studied further.',\n",
       "   'Mosquitoes positive for WNV and human cases.Substantial delays in data reporting exist for both infected mosquitoes and human WNV cases. For human cases, confirmed data (n\\u2009=\\u200937) lagged behind the onset of illness by a mean (SD) of 5.5 (2.3) weeks (range, 2-14 weeks). These human case reporting lags reduced mean forecast accuracy for the total number of human cases over the season in 110 simulated outbreaks for 2 forecasting systems by 26% and 14%, from 2 weeks before to 3 weeks after the predicted peak of infected mosquitoes. This period is the time span during which 47% of human cases are reported. Of 7064 mosquito pools, 500 (7%) tested positive; the reporting lag for these data associated with viral testing at a state laboratory was a mean (SD) of 6.6 (2.6) days (range, 4-11 days). This reporting lag was associated with decreased mean forecast accuracy for the 3 mosquito infection indicators, timing, magnitude, and season, by approximately 5% for both forecasting systems.To develop real-time WNV forecasts of infected mosquitoes and human cases.Delays in reporting mosquito WNV assay results and human medical records and the association of these delays with real-time WNV forecast accuracy.Delays in reporting human WNV disease and infected mosquito information are associated with difficulties in outbreak surveillance and decreased real-time forecast accuracy. Infected mosquito lags were short enough that skillful forecasts could still be generated for mosquito infection indicators, but the human WNV case lags were too great to support accurate forecasting in real time. Forecasting WNV is potentially an important evidence-based decision support tool for public health officials and mosquito abatement districts; however, to operationalize real-time forecasting, more resources are needed to reduce human case reporting lags between illness onset and case confirmation.West Nile virus (WNV) is the leading cause of domestically acquired arboviral disease.Real-time forecasts of WNV in 4 geographically dispersed locations in the United States were generated using a WNV model-inference forecasting system previously validated with retrospective data. Analysis was performed to evaluate how observational reporting delays of mosquito WNV assay results and human medical records were associated with real-time forecast accuracy.',\n",
       "   'Our model predicted vector status with over 91% accuracy, and identified 14 Ixodes species with high probabilities (80%) of transmitting infections from animal hosts to humans on the basis of their traits. Distinguishing characteristics of zoonotic tick vectors of Ixodes tick species include several anatomical structures that influence host seeking behavior and blood-feeding efficiency from a greater diversity of host species compared to non-vectors.Overall, these results suggest that zoonotic tick vectors are most likely to be those species where adult females hold a fecundity advantage by producing more eggs per clutch, which develop into larvae that feed on a greater diversity of host species compared to non-vector species. These larvae develop into nymphs whose anatomy are well suited for more efficient and longer feeding times on soft-bodied hosts compared to non-vectors, leading to larger adult females with greater fecundity. In addition to identifying novel, testable hypotheses about intrinsic features driving vectorial capacity across Ixodes tick species, our model identifies particular Ixodes species with the highest probability of carrying zoonotic diseases, offering specific targets for increased zoonotic investigation and surveillance.With the resurgence of tick-borne diseases such as Lyme disease and the emergence of new tick-borne pathogens such as Powassan virus, understanding what distinguishes vectors from non-vectors, and predicting undiscovered tick vectors is a crucial step towards mitigating disease risk in humans. We aimed to identify intrinsic traits that predict which Ixodes tick species are confirmed or strongly suspected to be vectors of zoonotic pathogens.We focused on the well-studied tick genus Ixodes from which many species are known to transmit zoonotic diseases to humans. We apply generalized boosted regression to interrogate over 90 features for over 240 species of Ixodes ticks to learn what intrinsic features distinguish zoonotic vectors from non-vector species. In addition to better understanding the biological underpinnings of tick vectorial capacity, the model generates a per species probability of being a zoonotic vector on the basis of intrinsic biological similarity with known Ixodes vector species.',\n",
       "   'Here we develop a patch-based mathematical model of spatial dengue spread and fit it to spatiotemporal datasets from Singapore. Simulations from this model suggest CATI strategies could be effective, particularly if used in lower density areas. To maximise effectiveness, increasing the size of the radius around an index case should be prioritised even if it results in delays in the intervention being applied. This is partially because large intervention radii ensure individuals receive multiple and regular rounds of drug dosing or vector control, and thus boost overall coverage. Given equivalent efficacy, CATIs using prophylactic drugs are predicted to be more effective than adult mosquito-killing vector control methods and may even offer the possibility of interrupting individual chains of transmission if rapidly deployed. CATI strategies quickly lose their effectiveness if baseline transmission increases or case detection rates fall.Targeting interventions to areas that have recently experienced cases of disease is one strategy to contain outbreaks of infectious disease. Such case-area targeted interventions (CATI) have become an increasingly popular approach for dengue control but there is little evidence to suggest how precisely targeted or how recent cases need to be, to mount an effective response. The growing interest in the development of prophylactic and therapeutic drugs for dengue has also given new relevance for CATI strategies to interrupt transmission or deliver early treatment.These results suggest CATI strategies can play an important role in dengue control but are likely to be most relevant for low transmission areas where high coverage of other non-reactive interventions already exists. Controlled field trials are needed to assess the field efficacy and practical constraints of large operational CATI strategies.',\n",
       "   'Plague is a zoonotic vector-borne disease caused by the bacterium Yersinia pestis. In Madagascar, it persists in identified foci, where it is a threat to public health generally from September to April. A more complete understanding of how the disease persists could guide control strategies. Fleas are the main vector for transmission between small mammal hosts and humans, and fleas likely play a role in the maintenance of plague. This study characterized the dynamics of flea populations in plague foci alongside the occurrence of human cases. From 2018 to 2020, small mammals were trapped at sites in the central Highlands of Madagascar. A total of 2,762 small mammals were captured and 5,295 fleas were collected. The analysis examines 2 plague vector species in Madagascar (Synopsyllus fonquerniei and Xenopsylla cheopis). Generalized linear models were used to relate flea abundance to abiotic factors, with adjustments for trap location and flea species. We observed significant effects of abiotic factors on the abundance, intensity, and infestation rate by the outdoor-associated flea species, S. fonquerniei, but weak seasonality for the indoor-associated flea species, X. cheopis. A difference in the timing of peak abundance was observed between the 2 flea species during and outside the plague season. While the present study did not identify a clear link between flea population dynamics and plague maintenance, as only one collected X. cheopis was infected, the results presented herein can be used by local health authorities to improve monitoring and control strategies of plague vector fleas in Madagascar.',\n",
       "   'While much progress has been achieved over the last decades, malaria surveillance and control remain a challenge in countries with limited health care access and resources. High-resolution predictions of malaria incidence using routine surveillance data could represent a powerful tool to health practitioners by targeting malaria control activities where and when they are most needed. Here, we investigate the predictors of spatio-temporal malaria dynamics in rural Madagascar, estimated from facility-based passive surveillance data. Specifically, this study integrates climate, land-use, and representative household survey data to explain and predict malaria dynamics at a high spatial resolution (i.e., by Fokontany, a cluster of villages) relevant to health care practitioners. Combining generalized linear mixed models (GLMM) and path analyses, we found that socio-economic, land use and climatic variables are all important predictors of monthly malaria incidence at fine spatial scales, via both direct and indirect effects. In addition, out-of-sample predictions from our model were able to identify 58% of the Fokontany in the top quintile for malaria incidence and account for 77% of the variation in the Fokontany incidence rank. These results suggest that it is possible to build a predictive framework using environmental and social predictors that can be complementary to standard surveillance systems and help inform control strategies by field actors at local scales.',\n",
       "   \"Pursuing a business-as-usual strategy was projected to result in a 5% and 9% increase in malaria incidence in 2025 and 2030 compared with 2020, while deaths were projected to remain unchanged by 2030. The greatest intervention impact was associated with the NMSP scenario with 80% or greater coverage of standard interventions coupled with intermittent preventive treatment in infants and extension of seasonal malaria chemoprevention (SMC) to 404 LGAs, compared to 80 LGAs in 2019. The budget-prioritized scenario with SMC expansion to 310 LGAs, high bed net coverage with new formulations, and increase in effective case management rate at the same pace as historical levels was adopted as an adequate alternative for the resources available.Dynamical models can be applied for relative assessment of the impact of intervention scenarios but improved subnational data collection systems are required\\xa0to allow increased\\xa0confidence in predictions at sub-national level.For their 2021-2025 National Malaria Strategic Plan (NMSP), Nigeria's National Malaria Elimination Programme (NMEP), in partnership with the World Health Organization (WHO), developed a targeted approach to intervention deployment at the local government area (LGA) level as part of the High Burden to High Impact response. Mathematical models of malaria transmission were used to predict the impact of proposed intervention strategies on malaria burden.An agent-based model of Plasmodium falciparum transmission was used to simulate malaria morbidity and mortality in Nigeria's 774 LGAs under four possible intervention strategies from 2020 to 2030. The scenarios represented the previously implemented plan (business-as-usual), the NMSP at an 80% or higher coverage level and two prioritized plans according to the resources available to Nigeria. LGAs were clustered into 22 epidemiological archetypes using monthly rainfall, temperature suitability index, vector abundance, pre-2010 parasite prevalence, and pre-2010 vector control coverage. Routine incidence data were used to parameterize seasonality in each archetype. Each LGA's baseline malaria transmission intensity was calibrated to parasite prevalence in children under the age of five years measured in the 2010 Malaria Indicator Survey (MIS). Intervention coverage in the 2010-2019 period was obtained from the Demographic and Health Survey, MIS, the NMEP, and post-campaign surveys.\",\n",
       "   'Over the past decade, the countries of the Asia-Pacific region have made significant progress towards the goal of malaria elimination by the year 2030. It is widely accepted that for the region to meet this goal, an intensification of efforts supported by sustained funding is required. However, robust estimates are needed for the optimal coverage and components of malaria elimination packages and the resources required to implement them. In this collection, a multispecies mathematical and economic modelling approach supported by the estimated burden of disease is used to make preliminary estimates for the cost of elimination and develop an evidence-based investment case for the region.',\n",
       "   'Since its emergence in 2016, extensively drug resistant (XDR) Salmonella enterica serovar Typhi (S. Typhi) has become the dominant cause of typhoid fever in Pakistan. The establishment of sustained XDR S. Typhi transmission in other countries represents a major public health threat. We show that the annual volume of air travel from Pakistan strongly discriminates between countries that have and have not imported XDR S. Typhi in the past, and identify a significant association between air travel volume and the rate of between-country movement of the H58 haplotype of S. Typhi from fitted phylogeographic models. Applying these insights, we analyze flight itinerary data cross-referenced with model-based estimates of typhoid fever incidence to identify the countries at highest risk of importation and sustained onward transmission of XDR S. Typhi. Future outbreaks of XDR typhoid are most likely to occur in countries that can support efficient local S. Typhi transmission and have strong travel links to regions with ongoing XDR typhoid outbreaks (currently Pakistan). Public health activities to track and mitigate the spread of XDR S. Typhi should be prioritized in these countries.',\n",
       "   'Intense non-pharmaceutical interventions were put in place in China to stop transmission of the novel coronavirus disease (COVID-19). As transmission intensifies in other countries, the interplay between age, contact patterns, social distancing, susceptibility to infection, and COVID-19 dynamics remains unclear. To answer these questions, we analyze contact surveys data for Wuhan and Shanghai before and during the outbreak and contact tracing information from Hunan Province. Daily contacts were reduced 7-8-fold during the COVID-19 social distancing period, with most interactions restricted to the household. We find that children 0-14 years are less susceptible to SARS-CoV-2 infection than adults 15-64 years of age (odd ratio 0.34, 95%CI 0.24-0.49), while in contrast, individuals over 65 years are more susceptible to infection (odd ratio 1.47, 95%CI: 1.12-1.92). Based on these data, we build a transmission model to study the impact of social distancing and school closure on transmission. We find that social distancing alone, as implemented in China during the outbreak, is sufficient to control COVID-19. While proactive school closures cannot interrupt transmission on their own, they can reduce peak incidence by 40-60% and delay the epidemic.']],\n",
       " 'uris': None,\n",
       " 'included': ['metadatas', 'documents', 'distances'],\n",
       " 'data': None,\n",
       " 'metadatas': [[None, None, None, None, None, None, None, None, None, None]],\n",
       " 'distances': [[0.4582831859588623,\n",
       "   0.486306369304657,\n",
       "   0.6118704080581665,\n",
       "   0.6155832409858704,\n",
       "   0.6238518357276917,\n",
       "   0.6487033367156982,\n",
       "   0.6503955125808716,\n",
       "   0.6694799661636353,\n",
       "   0.6707202196121216,\n",
       "   0.6747615337371826]]}"
      ]
     },
     "execution_count": 10,
     "metadata": {},
     "output_type": "execute_result"
    }
   ],
   "source": [
    "results = collection.query(\n",
    "    query_texts=[\"agent-based model for malaria\"],\n",
    "    n_results=10,\n",
    ")\n",
    "\n",
    "results"
   ]
  },
  {
   "cell_type": "code",
   "execution_count": null,
   "id": "22530882-003c-4e40-acfd-1b1a20fe3fc0",
   "metadata": {},
   "outputs": [],
   "source": []
  }
 ],
 "metadata": {
  "kernelspec": {
   "display_name": ".venv",
   "language": "python",
   "name": "python3"
  },
  "language_info": {
   "codemirror_mode": {
    "name": "ipython",
    "version": 3
   },
   "file_extension": ".py",
   "mimetype": "text/x-python",
   "name": "python",
   "nbconvert_exporter": "python",
   "pygments_lexer": "ipython3",
   "version": "3.11.11"
  }
 },
 "nbformat": 4,
 "nbformat_minor": 5
}
