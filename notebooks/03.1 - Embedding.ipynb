{
 "cells": [
  {
   "cell_type": "markdown",
   "id": "356bb64b-d81b-4845-9021-3cb438081239",
   "metadata": {},
   "source": [
    "# 03.1 - Embedding with Chroma\n",
    "\n",
    "For finding semantically related documents, we'll use Chroma (https://www.trychroma.com/), which is a lightweight vector data store. Chroma supports swappable embedding models, filtering using metadata, keyword search, and multiple distance measurements. We'll use these features for evlauating approaches to organizing papers for downstream processing (search, summarization, keyword extraction, etc.).\n",
    "\n",
    "The default Chroma embedding model is used in this notebook. The other \"03\" notebooks show how different embedding models can be used."
   ]
  },
  {
   "cell_type": "markdown",
   "id": "466a18fd-3c57-4c10-9821-6c04da224c4b",
   "metadata": {},
   "source": [
    "## Section 0 - Notebook Setup"
   ]
  },
  {
   "cell_type": "code",
   "execution_count": null,
   "id": "860a1aee-0ec6-4bc2-b24c-e5affd44acf1",
   "metadata": {},
   "outputs": [],
   "source": [
    "%pip install --upgrade --quiet tinydb"
   ]
  },
  {
   "cell_type": "code",
   "execution_count": null,
   "id": "1985436d-5c4d-4726-86e2-603f428caf98",
   "metadata": {},
   "outputs": [],
   "source": [
    "%pip install --upgrade --quiet chromadb"
   ]
  },
  {
   "cell_type": "code",
   "execution_count": null,
   "id": "37bc6a4f-1ea3-4442-8194-b235141c7f9c",
   "metadata": {},
   "outputs": [],
   "source": [
    "%pip install --upgrade --quiet sentence_transformers"
   ]
  },
  {
   "cell_type": "markdown",
   "id": "db0e62dd-ee4d-4097-913e-a2ae4cc0035d",
   "metadata": {},
   "source": [
    "Load articles and prune ones without abstracts, since we're using the abstracts for generating the embeddings."
   ]
  },
  {
   "cell_type": "code",
   "execution_count": 1,
   "id": "176e8f57-7526-48ed-a7ad-9d13451efd06",
   "metadata": {},
   "outputs": [
    {
     "name": "stdout",
     "output_type": "stream",
     "text": [
      "loaded 1600 articles\n",
      "retaining 1505 articles\n"
     ]
    }
   ],
   "source": [
    "from tinydb import TinyDB, Query\n",
    "\n",
    "db = TinyDB('../data/data.json')\n",
    "table = db.table('articles')\n",
    "\n",
    "articles = table.all()\n",
    "print(f'loaded {len(articles)} articles')\n",
    "\n",
    "articles = [x for x in articles if x['abstract'] != 'No abstract available.']\n",
    "print(f'retaining {len(articles)} articles')"
   ]
  },
  {
   "cell_type": "markdown",
   "id": "46457603-69de-40ff-9b4a-b87edf94e4a8",
   "metadata": {},
   "source": [
    "Stage the articles so that they can easily be loaded into the vector database. Remove duplicates."
   ]
  },
  {
   "cell_type": "code",
   "execution_count": 2,
   "id": "4bb4ba10-444a-435f-be13-dff032f71c71",
   "metadata": {},
   "outputs": [
    {
     "name": "stdout",
     "output_type": "stream",
     "text": [
      "loaded 1479 articles\n"
     ]
    }
   ],
   "source": [
    "documents = []\n",
    "ids = []\n",
    "\n",
    "for article in articles:\n",
    "    doc_id = article['link']\n",
    "    if doc_id not in ids:\n",
    "        documents.append(article['abstract'])\n",
    "        ids.append(doc_id)\n",
    "\n",
    "print(f'loaded {len(ids)} articles')"
   ]
  },
  {
   "cell_type": "markdown",
   "id": "3b88d776-633a-4ffc-9129-74cc66fd1b71",
   "metadata": {},
   "source": [
    "## Section I - Create a Vector Database using Chroma"
   ]
  },
  {
   "cell_type": "markdown",
   "id": "a1a9035c-8846-422e-87c4-8d6a938265f1",
   "metadata": {},
   "source": [
    "Create a Chroma database for storing the vector data."
   ]
  },
  {
   "cell_type": "code",
   "execution_count": 4,
   "id": "31d402e9-0f45-4986-a767-3e6c11ddcd52",
   "metadata": {},
   "outputs": [],
   "source": [
    "import chromadb\n",
    "\n",
    "client = chromadb.PersistentClient(path=\"../data/chroma_db\")"
   ]
  },
  {
   "cell_type": "markdown",
   "id": "12a7b458-6e0e-44da-ac4b-61d65ba66a34",
   "metadata": {},
   "source": [
    "Create a collection in the database. Chroma collections can each have their own embedding and distance measurements."
   ]
  },
  {
   "cell_type": "code",
   "execution_count": 5,
   "id": "4e6730fc-d920-4e7f-87c8-2281ad6b7bb6",
   "metadata": {},
   "outputs": [
    {
     "name": "stdout",
     "output_type": "stream",
     "text": [
      "creating collection articles-default-embeddings\n"
     ]
    }
   ],
   "source": [
    "from chromadb.errors import InvalidCollectionException\n",
    "\n",
    "collection_name = 'articles-default-embeddings'\n",
    "\n",
    "try:\n",
    "    collection = client.get_collection(\n",
    "        name=collection_name\n",
    "    )\n",
    "\n",
    "    print(f'loaded collection {collection_name}')\n",
    "except InvalidCollectionException:\n",
    "    print(f'creating collection {collection_name}')\n",
    "    \n",
    "    collection = client.create_collection(\n",
    "        name=collection_name\n",
    "    )"
   ]
  },
  {
   "cell_type": "markdown",
   "id": "164e1db5-cc8a-4f9c-b4dd-f3a6840723b5",
   "metadata": {},
   "source": [
    "Add documents to the collection if the collection is new, or there are new documents to add."
   ]
  },
  {
   "cell_type": "code",
   "execution_count": 6,
   "id": "7ac36156-4c0c-420b-aee6-b09b05f37658",
   "metadata": {},
   "outputs": [],
   "source": [
    "collection.add(\n",
    "    documents=documents,\n",
    "    ids=ids\n",
    ")"
   ]
  },
  {
   "cell_type": "code",
   "execution_count": 7,
   "id": "93983d3a-a1b5-4839-862b-fce58d230661",
   "metadata": {
    "collapsed": true,
    "jupyter": {
     "outputs_hidden": true
    }
   },
   "outputs": [
    {
     "data": {
      "text/plain": [
       "{'ids': [['https://link.springer.com/article/10.1007/s11538-024-01326-9?error=cookies_not_supported&code=20758f1b-cc00-482f-91c4-2eb161967b2f',\n",
       "   'https://www.cambridge.org/core/journals/infection-control-and-hospital-epidemiology/article/expanding-the-use-of-mathematical-modeling-in-healthcare-epidemiology-and-infection-prevention-and-control/2C400B94C466610D0F00D920313A34ED',\n",
       "   'http://biorxiv.org/lookup/doi/10.1101/2024.06.29.601123',\n",
       "   'https://linkinghub.elsevier.com/retrieve/pii/S1879625724000427',\n",
       "   'https://doi.org/10.1098/rspb.2024.1296',\n",
       "   'https://linkinghub.elsevier.com/retrieve/pii/S002555642400110X',\n",
       "   'https://doi.org/10.1016/j.epidem.2024.100809',\n",
       "   'https://journals.plos.org/plosone/article?id=10.1371/journal.pone.0294579',\n",
       "   'https://journals.plos.org/plosone/article?id=10.1371/journal.pone.0290821',\n",
       "   'https://doi.org/10.1002/sim.10050']],\n",
       " 'embeddings': None,\n",
       " 'documents': [[\"Fred Brauer was an eminent mathematician who studied dynamical systems, especially differential equations. He made many contributions to mathematical epidemiology, a field that is strongly connected to data, but he always chose to avoid data analysis. Nevertheless, he recognized that fitting models to data is usually necessary when attempting to apply infectious disease transmission models to real public health problems. He was curious to know how one goes about fitting dynamical models to data, and why it can be hard. Initially in response to Fred's questions, we developed a user-friendly R package, fitode, that facilitates fitting ordinary differential equations to observed time series. Here, we use this package to provide a brief tutorial introduction to fitting compartmental epidemic models to a single observed time series. We assume that, like Fred, the reader is familiar with dynamical systems from a mathematical perspective, but has limited experience with statistical methodology or optimization techniques.\",\n",
       "   'During the coronavirus disease 2019 pandemic, mathematical modeling has been widely used to understand epidemiological burden, trends, and transmission dynamics, to facilitate policy decisions, and, to a lesser extent, to evaluate infection prevention and control (IPC) measures. This review highlights the added value of using conventional epidemiology and modeling approaches to address the complexity of healthcare-associated infections (HAI) and antimicrobial resistance. It demonstrates how epidemiological surveillance data and modeling can be used to infer transmission dynamics in healthcare settings and to forecast healthcare impact, how modeling can be used to improve the validity of interpretation of epidemiological surveillance data, how modeling can be used to estimate the impact of IPC interventions, and how modeling can be used to guide IPC and antimicrobial treatment and stewardship decision-making. There are several priority areas for expanding the use of modeling in healthcare epidemiology and IPC. Importantly, modeling should be viewed as complementary to conventional healthcare epidemiological approaches, and this requires collaboration and active coordination between IPC, healthcare epidemiology, and mathematical modeling groups.',\n",
       "   \"Infectious disease dynamics are driven by the complex interplay of epidemiological, ecological, and evolutionary processes. Accurately modeling these interactions is crucial for understanding pathogen spread and informing public health strategies. However, existing simulators often fail to capture the dynamic interplay between these processes, resulting in oversimplified models that do not fully reflect real-world complexities in which the pathogen's genetic evolution dynamically influences disease transmission. We introduce the epidemiological-ecological-evolutionary simulator (e3SIM), an open-source framework that concurrently models the transmission dynamics and molecular evolution of pathogens within a host population while integrating environmental factors. Using an agent-based, discrete-generation, forward-in-time approach, e3SIM incorporates compartmental models, host-population contact networks, and quantitative-trait models for pathogens. This integration allows for realistic simulations of disease spread and pathogen evolution. Key features include a modular and scalable design, flexibility in modeling various epidemiological and population-genetic complexities, incorporation of time-varying environmental factors, and a user-friendly graphical interface. We demonstrate e3SIM's capabilities through simulations of realistic outbreak scenarios with SARS-CoV-2 and Mycobacterium tuberculosis, illustrating its flexibility for studying the genomic epidemiology of diverse pathogen types.\",\n",
       "   'The 2013-2016 Ebola virus disease epidemic and the coronavirus disease 2019 pandemic galvanized tremendous growth in models for emerging zoonotic and vector-borne viruses. Therefore, we have reviewed the main goals and methods of models to guide scientists and decision-makers. The elements of models for emerging viruses vary across spectrums: from understanding the past to forecasting the future, using data across space and time, and using statistical versus mechanistic methods. Hybrid/ensemble models and artificial intelligence offer new opportunities for modeling. Despite this progress, challenges remain in translating models into actionable decisions, particularly in areas at highest risk for viral disease outbreaks. To address this issue, we must identify gaps in models for specific viruses, strengthen validation, and involve policymakers in model development.',\n",
       "   \"The spread of viral respiratory infections is intricately linked to human interactions, and this relationship can be characterized and modelled using social contact data. However, many analyses tend to overlook the recurrent nature of these contacts. To bridge this gap, we undertake the task of describing individuals' contact patterns over time by characterizing the interactions made with distinct individuals during a week. Moreover, we gauge the implications of this temporal reconstruction on disease transmission by juxtaposing it with the assumption of random mixing over time. This involves the development of an age-structured individual-based model, using social contact data from a pre-pandemic scenario (the POLYMOD study) and a pandemic setting (the Belgian CoMix study), respectively. We found that accounting for the frequency of contacts impacts the number of new, distinct, contacts, revealing a lower total count than a naive approach, where contact repetition is neglected. As a consequence, failing to account for the repetition of contacts can result in an underestimation of the transmission probability given a contact, potentially leading to inaccurate conclusions when using mathematical models for disease control. We, therefore, underscore the necessity of acknowledging contact repetition when formulating effective public health strategies.\",\n",
       "   \"COVID-19 highlighted the importance of considering human behavior change when modeling disease dynamics. This led to developing various models that incorporate human behavior. Our objective is to contribute to an in-depth, mathematical examination of such models. Here, we consider a simple deterministic compartmental model with endogenous incorporation of human behavior (i.e., behavioral feedback) through transmission in a classic Susceptible-Exposed-Infectious-Recovered (SEIR) structure. Despite its simplicity, the SEIR structure with behavior (SEIRb) was shown to perform well in forecasting, especially compared to more complicated models. We contrast this model with an SEIR model that excludes endogenous incorporation of behavior. Both models assume permanent immunity to COVID-19, so we also consider a modification of the models which include waning immunity (SEIRS and SEIRSb). We perform equilibria, sensitivity, and identifiability analyses on all models and examine the fidelity of the models to replicate COVID-19 data across the United States. Endogenous incorporation of behavior significantly improves a model's ability to produce realistic outbreaks. While the two endogenous models are similar with respect to identifiability and sensitivity, the SEIRSb model, with the more accurate assumption of the waning immunity, strengthens the initial SEIRb model by allowing for the existence of an endemic equilibrium, a realistic feature of COVID-19 dynamics. When fitting the model to data, we further consider the addition of simple seasonality affecting disease transmission to highlight the explanatory power of the models.\",\n",
       "   'The prevention and control of infectious disease outbreaks in carceral settings face unique challenges. Transmission modeling is a powerful tool for understanding and addressing these challenges, but reviews of modeling work in this context pre-date the proliferation of outbreaks in jails and prisons during the SARS-CoV-2 pandemic. We conducted a systematic review of studies using transmission models of respiratory infections in carceral settings before and during the pandemic.We searched PubMed, Embase, Scopus, CINAHL, and PsycInfo to identify studies published between 1970 and 2024 that modeled transmission of respiratory infectious diseases in carceral settings. We extracted information on the diseases, populations, and settings modeled; approaches used for parameterizing models and simulating transmission; outcomes of interest and techniques for model calibration, validation, and sensitivity analyses; and types, impacts, and ethical aspects of modeled interventions.The pandemic prompted urgent attention to transmission dynamics in jails and prisons, but there has been little modeling of respiratory infections other than SARS-CoV-2 and tuberculosis. Increased attention to calibration, validation, and the practical and ethical aspects of intervention implementation could improve translation of model estimates into tangible benefits for the highly vulnerable populations in carceral settings.Forty-six studies met eligibility criteria, with transmission dynamics of tuberculosis modeled in 24 (52\\u202f%), SARS-CoV-2 in 20 (43\\u202f%), influenza in one (2\\u202f%), and varicella-zoster virus in one (2\\u202f%). Carceral facilities in the United States were the most common focus (15, 33\\u202f%), followed by Brazil (8, 17\\u202f%). Most studies (36, 80\\u202f%) used compartmental models (vs. individual- or agent-based). Tuberculosis studies typically modeled transmission within a single facility, while most SARS-CoV-2 studies simulated transmission in multiple places, including between carceral and community settings. Half of studies fit models to epidemiological data; three validated model predictions. Models were used to estimate past or potential future intervention impacts in 32 (70\\u202f%) studies, forecast the status quo (without changing conditions) in six (13\\u202f%), and examine only theoretical aspects of transmission in eight (17\\u202f%). Interventions commonly involved testing and treatment, quarantine and isolation, and/or facility ventilation. Modeled interventions substantially reduced transmission, but some were not well-defined or did not consider ethical issues.',\n",
       "   'The cacao swollen shoot virus disease (CSSVD) is among the most economically damaging diseases of cacao trees and accounts for almost 15-50% of harvest losses in Ghana. This virus is transmitted by several species of mealybugs (Pseudococcidae, Homoptera) when they feed on cacao plants. One of the mitigation strategies for CSSVD investigated at the Cocoa Research Institute of Ghana (CRIG) is the use of mild-strain cross-protection of cacao trees against the effects of severe strains. In this study, simple deterministic, delay, and stochastic ordinary differential equation-based models to describe the dynamic of the disease and spread of the virus are suggested. Model parameters are estimated using detailed empirical data from CRIG. The modeling outcomes demonstrate a remarkable resemblance between real and simulated dynamics. We have found that models with delay approximate the data better and this agrees with the knowledge that CSSVD epidemics develop slowly. Also, since there are large variations in the data, stochastic models lead to better results. We show that these models can be used to gain useful informative insights about the nature of disease spread.',\n",
       "   \"Mathematical models are a valuable tool for studying and predicting the spread of infectious agents. The accuracy of model simulations and predictions invariably depends on the specification of model parameters. Estimation of these parameters is therefore extremely important; however, while some parameters can be derived from observational studies, the values of others are difficult to measure. Instead, models can be coupled with inference algorithms (i.e., data assimilation methods, or statistical filters), which fit model simulations to existing observations and estimate unobserved model state variables and parameters. Ideally, these inference algorithms should find the best fitting solution for a given model and set of observations; however, as those estimated quantities are unobserved, it is typically uncertain whether the correct parameters have been identified. Further, it is unclear what 'correct' really means for abstract parameters defined based on specific model forms. In this work, we explored the problem of non-identifiability in a stochastic system which, when overlooked, can significantly impede model prediction. We used a network, agent-based model to simulate the transmission of Methicillin-resistant staphylococcus aureus (MRSA) within hospital settings and attempted to infer key model parameters using the Ensemble Adjustment Kalman Filter, an efficient Bayesian inference algorithm. We show that even though the inference method converged and that simulations using the estimated parameters produced an agreement with observations, the true parameters are not fully identifiable. While the model-inference system can exclude a substantial area of parameter space that is unlikely to contain the true parameters, the estimated parameter range still included multiple parameter combinations that can fit observations equally well. We show that analyzing synthetic trajectories can support or contradict claims of identifiability. While we perform this on a specific model system, this approach can be generalized for a variety of stochastic representations of partially observable systems. We also suggest data manipulations intended to improve identifiability that might be applicable in many systems of interest.\",\n",
       "   'Throughout the course of an epidemic, the rate at which disease spreads varies with behavioral changes, the emergence of new disease variants, and the introduction of mitigation policies. Estimating such changes in transmission rates can help us better model and predict the dynamics of an epidemic, and provide insight into the efficacy of control and intervention strategies. We present a method for likelihood-based estimation of parameters in the stochastic susceptible-infected-removed model under a time-inhomogeneous transmission rate comprised of piecewise constant components. In doing so, our method simultaneously learns change points in the transmission rate via a Markov chain Monte Carlo algorithm. The method targets the exact model posterior in a difficult missing data setting given only partially observed case counts over time. We validate performance on simulated data before applying our approach to data from an Ebola outbreak in Western Africa and COVID-19 outbreak on a university campus.']],\n",
       " 'uris': None,\n",
       " 'data': None,\n",
       " 'metadatas': [[None, None, None, None, None, None, None, None, None, None]],\n",
       " 'distances': [[0.6362369060516357,\n",
       "   0.6737976670265198,\n",
       "   0.6754408478736877,\n",
       "   0.7383993268013,\n",
       "   0.7596378922462463,\n",
       "   0.7734495401382446,\n",
       "   0.7758916020393372,\n",
       "   0.7818463444709778,\n",
       "   0.7829125155243406,\n",
       "   0.7848682403564453]],\n",
       " 'included': [<IncludeEnum.distances: 'distances'>,\n",
       "  <IncludeEnum.documents: 'documents'>,\n",
       "  <IncludeEnum.metadatas: 'metadatas'>]}"
      ]
     },
     "execution_count": 7,
     "metadata": {},
     "output_type": "execute_result"
    }
   ],
   "source": [
    "results = collection.query(\n",
    "    query_texts=[\"infectious diseases modeling\"],\n",
    "    n_results=10\n",
    ")\n",
    "\n",
    "results"
   ]
  },
  {
   "cell_type": "code",
   "execution_count": null,
   "id": "ae1b5588-1ead-4884-b1c9-67a70188d92e",
   "metadata": {},
   "outputs": [],
   "source": [
    "results = collection.query(\n",
    "    query_texts=[\"agent-based models\"],\n",
    "    n_results=10\n",
    ")\n",
    "\n",
    "results"
   ]
  },
  {
   "cell_type": "markdown",
   "id": "7ada2268-717c-48b7-8231-cbc78dd4e3f0",
   "metadata": {},
   "source": [
    "Create a new collection using Cosign distance rather than Squred L2 (default). Ref: https://docs.trychroma.com/guides#changing-the-distance-function"
   ]
  },
  {
   "cell_type": "code",
   "execution_count": 8,
   "id": "f16c46e9-d226-439c-bdef-b49379ee8af8",
   "metadata": {},
   "outputs": [
    {
     "name": "stdout",
     "output_type": "stream",
     "text": [
      "loading collection articles-default-embeddings-cosign-distance\n",
      "creating collection articles-default-embeddings-cosign-distance\n"
     ]
    }
   ],
   "source": [
    "collection_name = 'articles-default-embeddings-cosign-distance'\n",
    "\n",
    "try:\n",
    "    print(f'loading collection {collection_name}')\n",
    "    \n",
    "    collection = client.get_collection(\n",
    "        name=collection_name\n",
    "    )\n",
    "except InvalidCollectionException:\n",
    "    print(f'creating collection {collection_name}')\n",
    "    \n",
    "    collection = client.create_collection(\n",
    "        name=collection_name,\n",
    "        metadata={\"hnsw:space\": \"cosine\"}\n",
    "    )"
   ]
  },
  {
   "cell_type": "code",
   "execution_count": 9,
   "id": "9ea145b1-5a72-4172-8603-e31975837cfa",
   "metadata": {
    "scrolled": true
   },
   "outputs": [],
   "source": [
    "collection.add(\n",
    "    documents=documents,\n",
    "    ids=ids\n",
    ")"
   ]
  },
  {
   "cell_type": "code",
   "execution_count": 10,
   "id": "4bb5edd7-79bd-4b8c-8afe-1f7161304f98",
   "metadata": {},
   "outputs": [
    {
     "data": {
      "text/plain": [
       "{'ids': [['https://journals.plos.org/plosone/article?id=10.1371/journal.pone.0310480',\n",
       "   'https://www.nature.com/articles/s41467-024-49080-9?error=cookies_not_supported&code=97f93c4a-08eb-43ca-a702-1d5b9904a90a',\n",
       "   'https://parasitesandvectors.biomedcentral.com/articles/10.1186/s13071-024-06279-5',\n",
       "   'https://doi.org/10.3390/pathogens13121105',\n",
       "   'https://linkinghub.elsevier.com/retrieve/pii/S0025556424001792',\n",
       "   'https://doi.org/10.1093/infdis/jiae609',\n",
       "   'https://doi.org/10.1126/sciadv.adp1657',\n",
       "   'https://journals.plos.org/plosntds/article?id=10.1371/journal.pntd.0011908',\n",
       "   'https://www.ebm-journal.org/journals/experimental-biology-and-medicine/articles/10.3389/ebm.2024.10114/full',\n",
       "   'https://doi.org/10.1111/gcb.17610']],\n",
       " 'embeddings': None,\n",
       " 'documents': [['Aedes mosquito-borne viruses (ABVs) place a substantial strain on public health resources in the Americas. Vector control of Aedes mosquitoes is an important public health strategy to decrease or prevent spread of ABVs. The ongoing Targeted Indoor Residual Spraying (TIRS) trial is an NIH-sponsored clinical trial to study the efficacy of a novel, proactive vector control technique to prevent dengue virus (DENV), Zika virus (ZIKV), and chikungunya virus (CHIKV) infections in the endemic city of Merida, Yucatan, Mexico. The primary outcome of the trial is laboratory-confirmed ABV infections in neighborhood clusters. Despite the difficulties caused by the COVID-19 pandemic, by early 2021 the TIRS trial completed enrollment of 4,792 children aged 2-15 years in 50 neighborhood clusters which were allocated to control or intervention arms via a covariate-constrained randomization algorithm. Here, we describe the makeup and ABV seroprevalence of participants and mosquito population characteristics in both arms before TIRS administration. Baseline surveys showed similar distribution of age, sex, and socio-economic factors between the arms. Serum samples from 1,399 children were tested by commercially available ELISAs for presence of anti-ABV antibodies. We found that 45.1% of children were seropositive for one or more flaviviruses and 24.0% were seropositive for CHIKV. Of the flavivirus-positive participants, most were positive for ZIKV-neutralizing antibodies by focus reduction neutralization testing which indicated a higher proportion of participants with previous ZIKV than DENV infections within the cohort. Both study arms had statistically similar seroprevalence for all viruses tested, similar socio-demographic compositions, similar levels of Ae. aegypti infestation, and similar observed mosquito susceptibility to insecticides. These findings describe a population with a high rate of previous exposure to ZIKV and lower titers of neutralizing antibodies against DENV serotypes, suggesting susceptibility to future outbreaks of flaviviruses is possible, but proactive vector control may mitigate these risks.',\n",
       "   'The human infectious reservoir of Plasmodium falciparum is governed by transmission efficiency during vector-human contact and mosquito biting preferences. Understanding biting bias in a natural setting can help target interventions to interrupt transmission. In a 15-month cohort in western Kenya, we detected P. falciparum in indoor-resting Anopheles and human blood samples by qPCR and matched mosquito bloodmeals to cohort participants using short-tandem repeat genotyping. Using risk factor analyses and discrete choice models, we assessed mosquito biting behavior with respect to parasite transmission. Biting was highly unequal; 20% of people received 86% of bites. Biting rates were higher on males (biting rate ratio (BRR): 1.68; CI: 1.28-2.19), children 5-15 years (BRR: 1.49; CI: 1.13-1.98), and P. falciparum-infected individuals (BRR: 1.25; CI: 1.01-1.55). In aggregate, P. falciparum-infected school-age (5-15 years) boys accounted for 50% of bites potentially leading to onward transmission and had an entomological inoculation rate 6.4x higher than any other group. Additionally, infectious mosquitoes were nearly 3x more likely than non-infectious mosquitoes to bite P. falciparum-infected individuals (relative risk ratio 2.76, 95% CI 1.65-4.61). Thus, persistent P. falciparum transmission was characterized by disproportionate onward transmission from school-age boys and by the preference of infected mosquitoes to feed upon infected people.',\n",
       "   'Our results show that Ae. japonicus mosquitoes are actively host seeking throughout the day, with peaks in activity in the morning and evening. Their abundance in August was higher than in June and September. For the host-preference experiment, we documented a small number of mosquitoes feeding on birds: only six blood-fed females were caught over 4 full days of sampling. Finally, our vector competence experiments with Ae. japonicus compared to its natural vector Culex pipiens showed a higher infection and transmission rate when infected with a local, Dutch, WNV isolate compared to a Greek isolate of the virus. Interestingly, we also found a small number of infected Cx. pipiens males with virus-positive leg and saliva samples.Combining the field and laboratory derived data, our model predicts that Ae. japonicus could act as a spillover vector for WNV and could be responsible for a high initial invasion risk of WNV when present in large numbers.In recent years the Asian bush mosquito Aedes japonicus has invaded Europe, including the Netherlands. This species is a known vector for a range of arboviruses, possibly including West Nile virus (WNV). As WNV emerged in the Netherlands in 2020, it is important to investigate the vectorial capacity of mosquito species present in the Netherlands to estimate the risk of future outbreaks and further spread of the virus. Therefore, this study evaluates the potential role of Ae. japonicus in WNV transmission and spillover from birds to dead-end hosts in the Netherlands.We conducted human landing collections in allotment gardens (Lelystad, the Netherlands) in June, August and September 2021 to study the diurnal and seasonal host-seeking behaviour of Ae. japonicus. Furthermore, their host preference in relation to birds using live chicken-baited traps was investigated. Vector competence of field-collected Ae. japonicus mosquitoes for two isolates of WNV at two different temperatures was determined. Based on the data generated from these studies, we developed a Susceptible-Exposed-Infectious-Recovered (SEIR) model to calculate the risk of WNV spillover from birds to humans via Ae. japonicus, under the condition that the virus is introduced and circulates in an enzootic cycle in a given area.',\n",
       "   'Aedes aegypti are indoor-dwelling vectors of many arboviruses, including Zika (ZIKV) and chikungunya (CHIKV). The dynamics of these viruses within the mosquito are known to be temperature-dependent, and models that address risk and predictions of the transmission efficiency and patterns typically use meteorological temperature data. These data do not differentiate the temperatures experienced by mosquitoes in different microclimates, such as indoor vs. outdoor. Using temperature data collected from Neiva Colombia, we investigated the impact of two microclimate temperature profiles on ZIKV and CHIKV infection dynamics in Ae. aegypti. We found that the vector mortality was not significantly impacted by the difference in temperature profiles. Further, we found that the infection and dissemination rates were largely unaffected, with only ZIKV experiencing a significant increase in infection at outdoor temperatures at 21 days post-infection (dpi). Further, there was a significant increase in viral titers in the abdomens of ZIKV-infected mosquitoes at 21 dpi. With CHIKV, there was a significant titer difference in the abdomens of mosquitoes at both 7 and 14 dpi. While there were differences in vector infection kinetics that were not statistically significant, we developed a simple stochastic SEIR-SEI model to determine if the observed differences might translate to notable differences in simulated outbreaks. With ZIKV, while the probability of secondary transmission was high (>90%) under both microenvironmental scenarios, there was often only one secondary case. However, CHIKV differences between microenvironments were more prominent. With over 90% probability of secondary transmission, at indoor conditions, the peak of transmission was higher (over 850 cases) compared to the outdoor conditions (<350 cases). Further, the time-to-peak for indoor was 130 days compared to 217 days for outdoor scenarios. Further investigations into microenvironmental conditions, including temperature, may be key to increasing our understanding of the nuances of CHIKV and ZIKV vectorial capacity, epidemiology, and risk assessment, especially as it affects other aspects of transmission, such as biting rate. Overall, it is critical to understand the variability of how extrinsic factors affect transmission systems, and these data add to the growing catalog of knowledge of how temperature affects arboviral systems.',\n",
       "   'Malaria is one of the most common mosquito-borne diseases widespread in tropical and subtropical regions, causing thousands of deaths every year in the world. In a previous paper, we formulated an age-structured model containing three structural variables: (i) the chronological age of human and mosquito populations, (ii) the time since they are infected, and (iii) humans waning immunity (i.e. the progressive loss of protective antibodies after recovery). In the present paper, we expand the analysis of this age-structured model and focus on the derivation of entomological and epidemiological results commonly used in the literature, following the works of Smith and McKenzie. We generalize their results to the age-structured case. In order to quantify the impact of neglecting structuring variables such as chronological age, we assigned values from the literature to our model parameters. While some parameters values are readily accessible from the literature, at least those about the human population, the parameters concerning mosquitoes are less commonly documented and the values of a number of them (e.g. mosquito survival in the presence or in absence of infection) can be discussed extensively. Our analysis, informed by parameter values from the literature, demonstrates that overlooking those structural variables of human and mosquito populations may result in inaccurate epidemiological predictions and suboptimal control strategies. We highlight the epidemiological implications of these findings and emphasize the necessity of considering age structure in future malaria control programs.',\n",
       "   'Indoor residual spraying (IRS) is a malaria control strategy implemented before the rainy season. Nchelenge District, Zambia is a holoendemic setting where IRS has been conducted since 2008 with little impact on malaria incidence or parasite prevalence. Pre-rainy season IRS may not reduce the post-rainy season peak abundance of the major vector, Anopheles funestus.Seventy two percent of participants tested positive by rapid diagnostic test at least once and incidence by microscopy was 3.4 infections per person-year. Residing in a household in a sprayed area was associated with a 52% reduction in infection hazard (hazards ratio: 0.48, 95% confidence interval [0.29, 0.78]) but not with changes in incidence, prevalence, or vector abundance. The study-wide entomological inoculation rate was 34 infectious bites per person per year.A controlled, pre-post, prospective cohort study assessed the impact of late-rainy season IRS on malaria prevalence, incidence, hazard, and vector abundance. Three hundred eighty-two individuals were enrolled across four household clusters, of which two were sprayed in April 2022 toward the end of the rainy season. Monthly household and individual surveys and indoor overnight vector collections were conducted through August 2022. Multivariate regression and time-to-event analyses estimated the impact of IRS on outcomes measured by rapid diagnostic tests, microscopy, and quantitative polymerase chain reaction.Monthly tracking of incidence and prevalence did not demonstrate meaningful changes in holoendemic transmission intensity. However, hazard of infection, which provides greater power for detecting changes in transmission, demonstrated that late rainy season IRS reduced malaria risk.',\n",
       "   'Japanese encephalitis virus (JEV) is a major threat to human health. Bangladesh is considering introducing a JEV vaccine; however, the investment case is hampered by a limited understanding of key aspects of JEV ecology. We conducted a seroprevalence study in a high-incidence region using an assay that limits cross-reactivity with dengue virus. We also trapped mosquitoes and collected information about potential host species. We used mathematical models to recover risk factors for infection and underlying probabilities of severe disease and death. We observed 19.0% [95% confidence interval (CI):17.1 to 21.1] of JEV antibodies. On average, 0.7% (95% CI: 0.2 to 2.0) of the susceptible population gets infected yearly, with pig proximity being the main human infection risk factor. Our traps captured 10 different mosquito species that have been linked with JEV transmission. We estimated that 1 in 1000 infections results in severe disease, 1 in 10,000 results in death, and 76% of severe cases are missed by surveillance.',\n",
       "   'We performed an arboviral survey in mosquitoes from four endemic Ecuadorian cities (Huaquillas, Machala, Portovelo and Zaruma) during the epidemic period 2016-2018. Collections were performed during the pre-rainy season (2016), peak transmission season (2017) and post-rainy season (2018). Ae. aegypti mosquitoes were pooled by date, location and sex. Pools were screened by RT-PCR for the presence of ZIKV RNA, and infection rates (IRs) per 1,000 specimens were calculated. A total of 2,592 pools (comprising 6,197 mosquitoes) were screened. Our results reveal high IRs in all cities and periods sampled. Overall IRs among female mosquitoes were highest in Machala (89.2), followed by Portovelo (66.4), Zaruma (47.4) and Huaquillas (41.9). Among male mosquitoes, overall IRs were highest in Machala (35.6), followed by Portovelo (33.1), Huaquillas (31.9) and Zaruma (27.9), suggesting that alternative transmission routes (vertical/venereal) can play important roles for ZIKV maintenance in the vector population of these areas. Additionally, we propose that the stabilization of ZIKV vertical transmission in the vector population could help explain the presence of high IRs in field-caught mosquitoes during inter-epidemic periods.',\n",
       "   'Bunyamwera virus (BUNV) (Bunyamwera orthobunyavirus) has been found in Sub-Saharan Africa and demonstrated recently as cocirculating with Rift Valley Fever Virus (RVFV). Little is known regarding the breadth of transmission modalities of Bunyamwera. Given its co-occurence with RVFV, we hypothesized the transmission system of BUNV shared similarities to the RVFV system including transmission by Ae. aegypti mosquitoes and environmentally mediated transmission through fomites and environmental contamination. We exposed Ae. aegypti mosquitoes to BUNV and evaluated their ability to transmit both vertically and horizontally. Further, we investigated the potential for a novel transmission modality via environmental contamination. We found that the LSU colony of Ae. aegypti was not competent for the virus for either horizontal or vertical transmission; but, 20% of larva exposed to virus via contaminated aquatic habitat were positive. However, transstadial clearance of the virus was absolute. Finally, under simulated temperature conditions that matched peak transmission in Rwanda, we found that BUNV was stable in both whole blood and serum for up to 28\\xa0days at higher total volume in tubes at moderate quantities (103-5 genome copies/mL). In addition, infectiousness of these samples was demonstrated in 80% of the replicates. At lower volume samples (in plates), infectiousness was retained out to 6-8\\xa0days with a maximum infectious titer of 104\\xa0PFU/mL. Thus, the potential for contamination of the environment and/or transmission via contaminated fomites exists. Our findings have implications for biosafety and infection control, especially in the context of food animal production.',\n",
       "   \"Climate warming is expected to substantially impact the global landscape of mosquito-borne disease, but these impacts will vary across disease systems and regions. Understanding which diseases, and where within their distributions, these impacts are most likely to occur is critical for preparing public health interventions. While research has centered on potential warming-driven expansions in vector transmission, less is known about the potential for vectors to experience warming-driven stress or even local extirpations. In conservation biology, species risk from climate warming is often quantified through vulnerability indices such as thermal safety margins-the difference between an organism's upper thermal limit and its habitat temperature. Here, we estimated thermal safety margins for 8 mosquito species that are the vectors of malaria, dengue, chikungunya, Zika, West Nile and other major arboviruses, across their known ranges to investigate which mosquitoes and regions are most and least vulnerable to climate warming. We find that several of the most medically important mosquito vector species, including Ae. aegypti and An. gambiae, have positive thermal safety margins across the majority of their ranges when realistic assumptions of mosquito behavioral thermoregulation are incorporated. On average, the lowest climate vulnerability, in terms of both the magnitude and duration of thermal safety, was just south of the equator and at northern temperate range edges, and the highest climate vulnerability was in the subtropics. Mosquitoes living in regions including the Middle East, the western Sahara, and southeastern Australia, which are largely comprised of desert and xeric shrubland biomes, have the highest climate vulnerability across vector species.\"]],\n",
       " 'uris': None,\n",
       " 'data': None,\n",
       " 'metadatas': [[None, None, None, None, None, None, None, None, None, None]],\n",
       " 'distances': [[0.3941813111305237,\n",
       "   0.41221433877944946,\n",
       "   0.41595011949539185,\n",
       "   0.44617462158203125,\n",
       "   0.46328651905059814,\n",
       "   0.46831214427948,\n",
       "   0.4729458689689636,\n",
       "   0.4750543192967859,\n",
       "   0.4751187562942505,\n",
       "   0.47723710536956787]],\n",
       " 'included': [<IncludeEnum.distances: 'distances'>,\n",
       "  <IncludeEnum.documents: 'documents'>,\n",
       "  <IncludeEnum.metadatas: 'metadatas'>]}"
      ]
     },
     "execution_count": 10,
     "metadata": {},
     "output_type": "execute_result"
    }
   ],
   "source": [
    "results = collection.query(\n",
    "    query_texts=[\"infectious diseases transmitted by mosquitoes and that affect children\"],\n",
    "    n_results=10\n",
    ")\n",
    "\n",
    "results"
   ]
  },
  {
   "cell_type": "code",
   "execution_count": null,
   "id": "22530882-003c-4e40-acfd-1b1a20fe3fc0",
   "metadata": {},
   "outputs": [],
   "source": []
  }
 ],
 "metadata": {
  "kernelspec": {
   "display_name": "Python 3 (ipykernel)",
   "language": "python",
   "name": "python3"
  },
  "language_info": {
   "codemirror_mode": {
    "name": "ipython",
    "version": 3
   },
   "file_extension": ".py",
   "mimetype": "text/x-python",
   "name": "python",
   "nbconvert_exporter": "python",
   "pygments_lexer": "ipython3",
   "version": "3.13.1"
  }
 },
 "nbformat": 4,
 "nbformat_minor": 5
}
