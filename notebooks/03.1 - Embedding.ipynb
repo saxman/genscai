{
 "cells": [
  {
   "cell_type": "markdown",
   "id": "356bb64b-d81b-4845-9021-3cb438081239",
   "metadata": {},
   "source": [
    "# 03.1 - Embedding with Chroma\n",
    "\n",
    "For finding semantically related documents, we'll use Chroma (https://www.trychroma.com/), which is a lightweight vector data store. Chroma supports swappable embedding models, filtering using metadata, keyword search, and multiple distance measurements. We'll use these features for evlauating approaches to organizing papers for downstream processing (search, summarization, keyword extraction, etc.).\n",
    "\n",
    "The default Chroma embedding model is used in this notebook. The other \"03\" notebooks show how different embedding models can be used."
   ]
  },
  {
   "cell_type": "markdown",
   "id": "466a18fd-3c57-4c10-9821-6c04da224c4b",
   "metadata": {},
   "source": [
    "## Section 0 - Notebook Setup"
   ]
  },
  {
   "cell_type": "code",
   "execution_count": null,
   "id": "1985436d-5c4d-4726-86e2-603f428caf98",
   "metadata": {},
   "outputs": [],
   "source": [
    "%pip install --upgrade --quiet chromadb"
   ]
  },
  {
   "cell_type": "code",
   "execution_count": null,
   "id": "37bc6a4f-1ea3-4442-8194-b235141c7f9c",
   "metadata": {},
   "outputs": [],
   "source": [
    "%pip install --upgrade --quiet sentence_transformers"
   ]
  },
  {
   "cell_type": "markdown",
   "id": "db0e62dd-ee4d-4097-913e-a2ae4cc0035d",
   "metadata": {},
   "source": [
    "Load articles and prune ones without abstracts, since we're using the abstracts for generating the embeddings."
   ]
  },
  {
   "cell_type": "code",
   "execution_count": null,
   "id": "176e8f57-7526-48ed-a7ad-9d13451efd06",
   "metadata": {},
   "outputs": [],
   "source": [
    "import pandas as pd\n",
    "from genscai import paths\n",
    "\n",
    "df_modeling_papers = pd.read_json(paths.data / \"modeling_papers_0.json\", orient=\"records\", lines=True)\n",
    "df_modeling_papers.shape"
   ]
  },
  {
   "cell_type": "markdown",
   "id": "3b88d776-633a-4ffc-9129-74cc66fd1b71",
   "metadata": {},
   "source": [
    "## Section I - Create a Vector Database using Chroma"
   ]
  },
  {
   "cell_type": "markdown",
   "id": "12a7b458-6e0e-44da-ac4b-61d65ba66a34",
   "metadata": {},
   "source": [
    "Create a Chroma database for storing the vector data, and create a collection in the database. Chroma collections can each have their own embedding and distance measurements."
   ]
  },
  {
   "cell_type": "code",
   "execution_count": null,
   "id": "4e6730fc-d920-4e7f-87c8-2281ad6b7bb6",
   "metadata": {},
   "outputs": [],
   "source": [
    "import chromadb\n",
    "from genscai import paths\n",
    "\n",
    "client = chromadb.PersistentClient(path=str(paths.output / \"chroma_db\"))\n",
    "\n",
    "collection_name = \"papers-default-embeddings\"\n",
    "\n",
    "collection = client.create_collection(name=collection_name)\n",
    "# collection = client.get_collection(name=collection_name)\n",
    "# collection = client.delete_collection(name=collection_name)"
   ]
  },
  {
   "cell_type": "markdown",
   "id": "164e1db5-cc8a-4f9c-b4dd-f3a6840723b5",
   "metadata": {},
   "source": [
    "Add documents to the collection if the collection is new, or there are new documents to add."
   ]
  },
  {
   "cell_type": "code",
   "execution_count": null,
   "id": "7ac36156-4c0c-420b-aee6-b09b05f37658",
   "metadata": {},
   "outputs": [],
   "source": [
    "from tqdm import tqdm\n",
    "\n",
    "# use only the first 100 documents for testing\n",
    "documents = df_modeling_papers.get(\"abstract\").tolist()[:100]\n",
    "ids = df_modeling_papers.get(\"id\").tolist()[:100]\n",
    "\n",
    "for i in tqdm(range(len(documents))):\n",
    "    collection.add(documents=documents[i], ids=ids[i])"
   ]
  },
  {
   "cell_type": "code",
   "execution_count": null,
   "id": "93983d3a-a1b5-4839-862b-fce58d230661",
   "metadata": {
    "collapsed": true,
    "jupyter": {
     "outputs_hidden": true
    }
   },
   "outputs": [],
   "source": [
    "results = collection.query(query_texts=[\"agent-based models for malaria\"], n_results=10)\n",
    "results"
   ]
  },
  {
   "cell_type": "markdown",
   "id": "7ada2268-717c-48b7-8231-cbc78dd4e3f0",
   "metadata": {},
   "source": [
    "Create a new collection using Cosign distance rather than Squred L2 (default). Ref: https://docs.trychroma.com/guides#changing-the-distance-function"
   ]
  },
  {
   "cell_type": "code",
   "execution_count": null,
   "id": "f16c46e9-d226-439c-bdef-b49379ee8af8",
   "metadata": {},
   "outputs": [],
   "source": [
    "collection_name = \"papers-default-embeddings-cosign-distance\"\n",
    "\n",
    "collection = client.create_collection(name=collection_name, metadata={\"hnsw:space\": \"cosine\"})\n",
    "# collection = client.get_collection(name=collection_name)\n",
    "# collection = client.delete_collection(name=collection_name)"
   ]
  },
  {
   "cell_type": "code",
   "execution_count": null,
   "id": "9ea145b1-5a72-4172-8603-e31975837cfa",
   "metadata": {
    "scrolled": true
   },
   "outputs": [],
   "source": [
    "for i in tqdm(range(len(documents))):\n",
    "    collection.add(documents=documents[i], ids=ids[i])"
   ]
  },
  {
   "cell_type": "code",
   "execution_count": null,
   "id": "4bb5edd7-79bd-4b8c-8afe-1f7161304f98",
   "metadata": {},
   "outputs": [],
   "source": [
    "results = collection.query(query_texts=[\"agent-based model for malaria\"], n_results=10)\n",
    "results"
   ]
  },
  {
   "cell_type": "code",
   "execution_count": null,
   "id": "22530882-003c-4e40-acfd-1b1a20fe3fc0",
   "metadata": {},
   "outputs": [],
   "source": []
  }
 ],
 "metadata": {
  "kernelspec": {
   "display_name": ".venv",
   "language": "python",
   "name": "python3"
  },
  "language_info": {
   "codemirror_mode": {
    "name": "ipython",
    "version": 3
   },
   "file_extension": ".py",
   "mimetype": "text/x-python",
   "name": "python",
   "nbconvert_exporter": "python",
   "pygments_lexer": "ipython3",
   "version": "3.11.11"
  }
 },
 "nbformat": 4,
 "nbformat_minor": 5
}
