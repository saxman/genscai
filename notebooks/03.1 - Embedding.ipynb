{
 "cells": [
  {
   "cell_type": "code",
   "execution_count": null,
   "id": "c0bb78fb-351c-4e25-85c2-0a08a1c3a759",
   "metadata": {
    "scrolled": true
   },
   "outputs": [],
   "source": [
    "%pip install --upgrade --quiet chromadb"
   ]
  },
  {
   "cell_type": "code",
   "execution_count": null,
   "id": "37bc6a4f-1ea3-4442-8194-b235141c7f9c",
   "metadata": {},
   "outputs": [],
   "source": [
    "%pip install --upgrade --quiet sentence_transformers"
   ]
  },
  {
   "cell_type": "markdown",
   "id": "db0e62dd-ee4d-4097-913e-a2ae4cc0035d",
   "metadata": {},
   "source": [
    "Load articles and prune ones without abstracts, since we're using the abstracts for generating the embeddings."
   ]
  },
  {
   "cell_type": "code",
   "execution_count": null,
   "id": "176e8f57-7526-48ed-a7ad-9d13451efd06",
   "metadata": {},
   "outputs": [],
   "source": [
    "from tinydb import TinyDB, Query\n",
    "\n",
    "db = TinyDB('db.json')\n",
    "table = db.table('articles')\n",
    "\n",
    "articles = table.all()\n",
    "print(f'loaded {len(articles)} articles')\n",
    "\n",
    "articles = [x for x in articles if x['abstract'] != 'No abstract available.']\n",
    "print(f'retaining {len(articles)} articles')"
   ]
  },
  {
   "cell_type": "markdown",
   "id": "46457603-69de-40ff-9b4a-b87edf94e4a8",
   "metadata": {},
   "source": [
    "Stage the articles so that they can easily be loaded into the vector database. Remove duplicates."
   ]
  },
  {
   "cell_type": "code",
   "execution_count": null,
   "id": "4bb4ba10-444a-435f-be13-dff032f71c71",
   "metadata": {},
   "outputs": [],
   "source": [
    "documents = []\n",
    "ids = []\n",
    "\n",
    "for article in articles:\n",
    "    doc_id = article['link']\n",
    "    if doc_id not in ids:\n",
    "        documents.append(article['abstract'])\n",
    "        ids.append(doc_id)\n",
    "\n",
    "print(f'loaded {len(ids)} articles')"
   ]
  },
  {
   "cell_type": "markdown",
   "id": "b1cac16c-2d11-4647-b5fe-688f6ded3f11",
   "metadata": {},
   "source": [
    "For finding semantically related documents, we'll use Chroma (https://www.trychroma.com/), which is a lightweight vector data store. Chroma supports swappable embedding models, filtering using metadata, keyword search, and multiple distance measurements. We'll use these features for evlauating approaches to organizing papers for downstream processing (search, summarization, keyword extraction, etc.)."
   ]
  },
  {
   "cell_type": "code",
   "execution_count": null,
   "id": "31d402e9-0f45-4986-a767-3e6c11ddcd52",
   "metadata": {},
   "outputs": [],
   "source": [
    "import chromadb\n",
    "\n",
    "client = chromadb.PersistentClient(path=\"vectors_db\")"
   ]
  },
  {
   "cell_type": "code",
   "execution_count": null,
   "id": "4e6730fc-d920-4e7f-87c8-2281ad6b7bb6",
   "metadata": {},
   "outputs": [],
   "source": [
    "from chromadb.errors import InvalidCollectionException\n",
    "\n",
    "collection_name = 'articles-default-embeddings'\n",
    "\n",
    "try:\n",
    "    collection = client.get_collection(\n",
    "        name=collection_name\n",
    "    )\n",
    "\n",
    "    print(f'loaded collection {collection_name}')\n",
    "except InvalidCollectionException:\n",
    "    print(f'creating collection {collection_name}')\n",
    "    \n",
    "    collection = client.create_collection(\n",
    "        name=collection_name\n",
    "    )"
   ]
  },
  {
   "cell_type": "markdown",
   "id": "164e1db5-cc8a-4f9c-b4dd-f3a6840723b5",
   "metadata": {},
   "source": [
    "Add documents to the collection if the collection is new, or there are new documents to add."
   ]
  },
  {
   "cell_type": "code",
   "execution_count": null,
   "id": "7ac36156-4c0c-420b-aee6-b09b05f37658",
   "metadata": {},
   "outputs": [],
   "source": [
    "collection.add(\n",
    "    documents=documents,\n",
    "    ids=ids\n",
    ")"
   ]
  },
  {
   "cell_type": "code",
   "execution_count": null,
   "id": "8663f552-cd08-40f2-9e0a-979483990876",
   "metadata": {},
   "outputs": [],
   "source": [
    "results = collection.query(\n",
    "    query_texts=[\"infectious diseases transmitted by mosquitoes and that affect children\"],\n",
    "    n_results=10\n",
    ")\n",
    "\n",
    "results"
   ]
  },
  {
   "cell_type": "markdown",
   "id": "7ada2268-717c-48b7-8231-cbc78dd4e3f0",
   "metadata": {},
   "source": [
    "Create a new collection using Cosign distance rather than Squred L2 (default). Ref: https://docs.trychroma.com/guides#changing-the-distance-function"
   ]
  },
  {
   "cell_type": "code",
   "execution_count": null,
   "id": "f16c46e9-d226-439c-bdef-b49379ee8af8",
   "metadata": {
    "scrolled": true
   },
   "outputs": [],
   "source": [
    "collection_name = 'articles-default-embeddings-cosign-distance'\n",
    "\n",
    "try:\n",
    "    print(f'loading collection {collection_name}')\n",
    "    \n",
    "    collection = client.get_collection(\n",
    "        name=collection_name\n",
    "    )\n",
    "except InvalidCollectionException:\n",
    "    print(f'creating collection {collection_name}')\n",
    "    \n",
    "    collection = client.create_collection(\n",
    "        name=collection_name,\n",
    "        metadata={\"hnsw:space\": \"cosine\"}\n",
    "    )"
   ]
  },
  {
   "cell_type": "code",
   "execution_count": null,
   "id": "9ea145b1-5a72-4172-8603-e31975837cfa",
   "metadata": {
    "scrolled": true
   },
   "outputs": [],
   "source": [
    "collection.add(\n",
    "    documents=documents,\n",
    "    ids=ids\n",
    ")"
   ]
  },
  {
   "cell_type": "code",
   "execution_count": null,
   "id": "4bb5edd7-79bd-4b8c-8afe-1f7161304f98",
   "metadata": {},
   "outputs": [],
   "source": [
    "results = collection.query(\n",
    "    query_texts=[\"infectious diseases transmitted by mosquitoes and that affect children\"],\n",
    "    n_results=10\n",
    ")\n",
    "\n",
    "results"
   ]
  },
  {
   "cell_type": "code",
   "execution_count": null,
   "id": "22530882-003c-4e40-acfd-1b1a20fe3fc0",
   "metadata": {},
   "outputs": [],
   "source": []
  }
 ],
 "metadata": {
  "kernelspec": {
   "display_name": "Python 3 (ipykernel)",
   "language": "python",
   "name": "python3"
  },
  "language_info": {
   "codemirror_mode": {
    "name": "ipython",
    "version": 3
   },
   "file_extension": ".py",
   "mimetype": "text/x-python",
   "name": "python",
   "nbconvert_exporter": "python",
   "pygments_lexer": "ipython3",
   "version": "3.12.3"
  }
 },
 "nbformat": 4,
 "nbformat_minor": 5
}
