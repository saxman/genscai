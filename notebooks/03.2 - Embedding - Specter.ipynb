{
 "cells": [
  {
   "cell_type": "markdown",
   "id": "db0e62dd-ee4d-4097-913e-a2ae4cc0035d",
   "metadata": {},
   "source": [
    "Load articles and prune ones without abstracts, since we're using the abstracts for generating the embeddings."
   ]
  },
  {
   "cell_type": "code",
   "execution_count": null,
   "id": "176e8f57-7526-48ed-a7ad-9d13451efd06",
   "metadata": {},
   "outputs": [],
   "source": [
    "from tinydb import TinyDB, Query\n",
    "\n",
    "db = TinyDB(\"db.json\")\n",
    "table = db.table(\"articles\")\n",
    "\n",
    "articles = table.all()\n",
    "print(f\"loaded {len(articles)} articles\")\n",
    "\n",
    "articles = [x for x in articles if x[\"abstract\"] != \"No abstract available.\"]\n",
    "print(f\"retaining {len(articles)} articles\")"
   ]
  },
  {
   "cell_type": "markdown",
   "id": "46457603-69de-40ff-9b4a-b87edf94e4a8",
   "metadata": {},
   "source": [
    "Stage the articles so that they can easily be loaded into the vector database."
   ]
  },
  {
   "cell_type": "code",
   "execution_count": null,
   "id": "4bb4ba10-444a-435f-be13-dff032f71c71",
   "metadata": {},
   "outputs": [],
   "source": [
    "documents = []\n",
    "ids = []\n",
    "\n",
    "for article in articles:\n",
    "    doc_id = article[\"link\"]\n",
    "    if doc_id not in ids:\n",
    "        documents.append(article[\"abstract\"])\n",
    "        ids.append(doc_id)\n",
    "\n",
    "print(f\"loaded {len(ids)} articles\")"
   ]
  },
  {
   "cell_type": "markdown",
   "id": "b1cac16c-2d11-4647-b5fe-688f6ded3f11",
   "metadata": {},
   "source": [
    "For finding semantically related documents, we'll use Chroma (https://www.trychroma.com/), which is a lightweight vector data store. Chroma supports swappable embedding models, filtering using metadata, keyword search, and multiple distance measurements. We'll use these features for evlauating approaches to organizing papers for downstream processing (search, summarization, keyword extraction, etc.)."
   ]
  },
  {
   "cell_type": "code",
   "execution_count": null,
   "id": "31d402e9-0f45-4986-a767-3e6c11ddcd52",
   "metadata": {},
   "outputs": [],
   "source": [
    "import chromadb\n",
    "from chromadb.utils import embedding_functions\n",
    "\n",
    "client = chromadb.PersistentClient(path=\"vectors_db\")"
   ]
  },
  {
   "cell_type": "code",
   "execution_count": null,
   "id": "0025a0c8-49bf-4104-843c-2c7a98a2228e",
   "metadata": {},
   "outputs": [],
   "source": [
    "from chromadb.errors import InvalidCollectionException\n",
    "\n",
    "collection_name = \"articles-specter-embeddings\"\n",
    "ef = embedding_functions.SentenceTransformerEmbeddingFunction(model_name=\"allenai-specter\")\n",
    "\n",
    "try:\n",
    "    collection = client.get_collection(name=collection_name, embedding_function=ef)\n",
    "\n",
    "    print(f\"loaded collection {collection_name}\")\n",
    "except InvalidCollectionException:\n",
    "    print(f\"creating collection {collection_name}\")\n",
    "\n",
    "    collection = client.create_collection(name=collection_name, embedding_function=ef)"
   ]
  },
  {
   "cell_type": "code",
   "execution_count": null,
   "id": "4e63572a-a6c8-4781-b951-50d1981f9c31",
   "metadata": {},
   "outputs": [],
   "source": [
    "collection.add(documents=documents, ids=ids)"
   ]
  },
  {
   "cell_type": "code",
   "execution_count": null,
   "id": "225d098f-95e8-4adf-9a57-029a7454b2ef",
   "metadata": {},
   "outputs": [],
   "source": [
    "results = collection.query(\n",
    "    query_texts=[\"infectious diseases transmitted by mosquitoes and that affect children\"],\n",
    "    n_results=10,\n",
    ")\n",
    "\n",
    "results"
   ]
  },
  {
   "cell_type": "code",
   "execution_count": null,
   "id": "8088f2c2-d3d6-4fe8-a601-0de61fef951d",
   "metadata": {},
   "outputs": [],
   "source": []
  }
 ],
 "metadata": {
  "kernelspec": {
   "display_name": "Python 3 (ipykernel)",
   "language": "python",
   "name": "python3"
  },
  "language_info": {
   "codemirror_mode": {
    "name": "ipython",
    "version": 3
   },
   "file_extension": ".py",
   "mimetype": "text/x-python",
   "name": "python",
   "nbconvert_exporter": "python",
   "pygments_lexer": "ipython3",
   "version": "3.13.1"
  }
 },
 "nbformat": 4,
 "nbformat_minor": 5
}
