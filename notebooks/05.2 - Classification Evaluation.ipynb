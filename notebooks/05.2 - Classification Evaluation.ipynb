{
 "cells": [
  {
   "cell_type": "markdown",
   "metadata": {},
   "source": [
    "# 05.5 - Evaluate Auto Tuned Prompts\n",
    "\n",
    "In this notebook, we will evaluate the performance of the prompts tuned by the test models. For this evaluation, we will evlauate inter-model agrement, as well as look at the performance of prompts tuned by a each model against the other models."
   ]
  },
  {
   "cell_type": "code",
   "execution_count": null,
   "metadata": {},
   "outputs": [],
   "source": [
    "from genscai.prompts import PromptCatalog\n",
    "from genscai import paths\n",
    "\n",
    "catalog = PromptCatalog(paths.data / \"prompt_catalog.db\")\n",
    "model_ids = catalog.retrieve_model_ids()\n",
    "model_ids"
   ]
  },
  {
   "cell_type": "code",
   "execution_count": null,
   "metadata": {},
   "outputs": [],
   "source": [
    "import textwrap\n",
    "\n",
    "for model_id in model_ids:\n",
    "    print(f\"model: {model_id}\")\n",
    "\n",
    "    prompt = catalog.retrieve_last(model_id)\n",
    "    print(f\"prompt revision: {prompt.version}\")\n",
    "    print(f\"prompt metrics {prompt.metrics}\")\n",
    "    print(textwrap.fill(f\"prompt: {prompt.prompt}\", 100))\n",
    "    print()"
   ]
  },
  {
   "cell_type": "markdown",
   "metadata": {},
   "source": [
    "## Delete poorly performing prompts from catalog\n",
    "\n",
    "If there are prompts that poor performing and they should't be use for future analysis, they can be removed from the catalog."
   ]
  },
  {
   "cell_type": "code",
   "execution_count": null,
   "metadata": {},
   "outputs": [],
   "source": [
    "# catalog.delete_all(\"deepseek-ai/DeepSeek-R1-Distill-Llama-8B\")"
   ]
  },
  {
   "cell_type": "markdown",
   "metadata": {},
   "source": [
    "## Classify the entire corpus using each of the local models.\n",
    "\n",
    "The following script classifies all of the papers in the corpus using each of the local models. This takes a long time, since the full corpus is large. The script outputs four files (data/modeling_papers_N.json). Unless you'd like to re-run the classifications, ignore the following cell and continue with the analyses."
   ]
  },
  {
   "cell_type": "code",
   "execution_count": null,
   "metadata": {},
   "outputs": [],
   "source": [
    "# !python $paths.root/scripts/06_classification_all_models.py"
   ]
  },
  {
   "cell_type": "markdown",
   "metadata": {},
   "source": [
    "## Evaluate inter-model agreement"
   ]
  },
  {
   "cell_type": "code",
   "execution_count": null,
   "metadata": {},
   "outputs": [],
   "source": [
    "from genscai.models import HuggingFaceClient\n",
    "import pandas as pd\n",
    "\n",
    "MODEL_IDS = [\n",
    "    HuggingFaceClient.MODEL_LLAMA_3_1_8B,\n",
    "    HuggingFaceClient.MODEL_GEMMA_2_9B,\n",
    "    HuggingFaceClient.MODEL_PHI_4_14B,\n",
    "    HuggingFaceClient.MODEL_MISTRAL_NEMO_12B,\n",
    "]\n",
    "\n",
    "data = []\n",
    "for i, model_id in enumerate(MODEL_IDS):\n",
    "    df = pd.read_json(paths.data / f\"modeling_papers_{i}.json\", orient=\"records\", lines=True)\n",
    "    data.append(df)"
   ]
  },
  {
   "cell_type": "code",
   "execution_count": null,
   "metadata": {},
   "outputs": [],
   "source": [
    "from genscai.data import load_midas_data\n",
    "\n",
    "df1, df2, df3 = load_midas_data()\n",
    "df_all = pd.concat([df1, df2, df3])"
   ]
  },
  {
   "cell_type": "code",
   "execution_count": null,
   "metadata": {},
   "outputs": [],
   "source": [
    "rates = [[0] * len(data) for _ in [0] * len(data)]\n",
    "\n",
    "print(f\"total: {len(df_all)}\")\n",
    "\n",
    "for i in range(len(data)):\n",
    "    for j in range(len(data)):\n",
    "        df_intersection = pd.merge(data[i], data[j], how=\"inner\", on=[\"id\"])\n",
    "        df_union = pd.merge(data[i], data[j], how=\"outer\", on=[\"id\"])\n",
    "\n",
    "        rates[i][j] = (len(df_all) - len(df_union) + len(df_intersection)) / len(df_all)\n",
    "\n",
    "        print(\n",
    "            f\"{MODEL_IDS[i]}, {MODEL_IDS[j]}: intersection={len(df_intersection)}, union={len(df_union)}, agreement_rate={rates[i][j]:.3f}\"\n",
    "        )\n",
    "\n",
    "df = pd.DataFrame(data=rates, index=MODEL_IDS, columns=MODEL_IDS)"
   ]
  },
  {
   "cell_type": "code",
   "execution_count": null,
   "metadata": {},
   "outputs": [],
   "source": [
    "import seaborn as sns\n",
    "\n",
    "sns.heatmap(df, annot=True, fmt=\".3f\")"
   ]
  },
  {
   "cell_type": "code",
   "execution_count": null,
   "metadata": {},
   "outputs": [],
   "source": [
    "import genscai.paths as paths\n",
    "import pandas as pd\n",
    "import json\n",
    "\n",
    "dfs = {\"precision\": pd.DataFrame(), \"recall\": pd.DataFrame(), \"accuracy\": pd.DataFrame()}\n",
    "\n",
    "with open(paths.data / \"inter_model_results.txt\", \"r\") as fin:\n",
    "    for line in fin:\n",
    "        if line.startswith(\"prompt\"):\n",
    "            line = line.strip()\n",
    "            parts = line.split(\", \")\n",
    "\n",
    "            parts[0] = parts[0][len(\"prompt: \") :]\n",
    "            parts[1] = parts[1][len(\"model: \") :]\n",
    "            parts[2] = parts[2][len(\"metrics: \") :]\n",
    "\n",
    "            metrics = \", \".join(parts[2:])\n",
    "            metrics = metrics.replace(\"'\", '\"')\n",
    "            data = json.loads(metrics)\n",
    "\n",
    "            dfs[\"precision\"].loc[parts[0], parts[1]] = data[\"precision\"]\n",
    "            dfs[\"recall\"].loc[parts[0], parts[1]] = data[\"recall\"]\n",
    "            dfs[\"accuracy\"].loc[parts[0], parts[1]] = data[\"accuracy\"]\n",
    "\n",
    "for df in dfs.values():\n",
    "    df.rename_axis(\"Model\", axis=\"columns\", inplace=True)\n",
    "    df.rename_axis(\"Prompt\", axis=\"rows\", inplace=True)\n",
    "    df[\"mean\"] = df.mean(axis=1)\n",
    "    df.sort_values(by=\"mean\", ascending=False, inplace=True)\n",
    "\n",
    "dfs[\"accuracy\"]"
   ]
  },
  {
   "cell_type": "code",
   "execution_count": null,
   "metadata": {},
   "outputs": [],
   "source": [
    "import matplotlib.pyplot as plt\n",
    "\n",
    "for key, df in dfs.items():\n",
    "    ax = plt.axes()\n",
    "    ax.set_title(key)\n",
    "    p = sns.heatmap(df, ax=ax, annot=True, fmt=\".3f\")\n",
    "    ax.set_xticklabels(p.get_xticklabels(), rotation=35, horizontalalignment=\"right\")\n",
    "    plt.show()"
   ]
  }
 ],
 "metadata": {
  "kernelspec": {
   "display_name": ".venv",
   "language": "python",
   "name": "python3"
  },
  "language_info": {
   "codemirror_mode": {
    "name": "ipython",
    "version": 3
   },
   "file_extension": ".py",
   "mimetype": "text/x-python",
   "name": "python",
   "nbconvert_exporter": "python",
   "pygments_lexer": "ipython3",
   "version": "3.11.11"
  }
 },
 "nbformat": 4,
 "nbformat_minor": 4
}
