{
 "cells": [
  {
   "cell_type": "markdown",
   "metadata": {},
   "source": [
    "# 05.3 - Compare Prompting to Semantic Search for Scientific Paper Classification"
   ]
  },
  {
   "cell_type": "code",
   "execution_count": null,
   "metadata": {},
   "outputs": [],
   "source": [
    "import json\n",
    "import pandas as pd\n",
    "\n",
    "with open(\"../data/modeling_papers.json\", \"r\") as f:\n",
    "    data = json.load(f)\n",
    "\n",
    "df = pd.json_normalize(data)\n",
    "\n",
    "df.head(5)"
   ]
  },
  {
   "cell_type": "code",
   "execution_count": null,
   "metadata": {},
   "outputs": [],
   "source": [
    "# documents = [x['abstract'] for i, x in df.iterrows()]\n",
    "# ids = [x['id'] for i, x in df.iterrows()]\n",
    "\n",
    "ids = [x.id for x in df.itertuples() if x.abstract]\n",
    "documents = [x.abstract for x in df.itertuples() if x.abstract]\n",
    "\n",
    "collection.add(documents=documents, ids=ids)"
   ]
  },
  {
   "cell_type": "code",
   "execution_count": null,
   "metadata": {},
   "outputs": [],
   "source": [
    "for title in titles:\n",
    "    results = collection.query(query_texts=[title], n_results=1)\n",
    "\n",
    "    print(title)\n",
    "    print(results[\"documents\"][0][0])\n",
    "    print(results[\"distances\"][0][0])\n",
    "    print(\"\\n\")\n",
    "\n",
    "print(f\"identified {sum(is_model)} of {len(data)} modeling papers\")"
   ]
  },
  {
   "cell_type": "markdown",
   "metadata": {},
   "source": [
    "The goal of the model classification prompt is to insruct the LLM to only return YES or NO, if the authors of the paper employ an infectious disease modeling technique or not, respectively."
   ]
  },
  {
   "cell_type": "code",
   "execution_count": null,
   "metadata": {},
   "outputs": [],
   "source": [
    "MODEL_CLASSIFICATION_PROMPT_TEMPLATE = \"\"\"\n",
    "Given the following scientific paper abstract, identify if a disease modeling technique is used in the paper.\n",
    "Some examples of disease modeling techniques include compartmental models, agent-based models, network-based models, and statistical models. \n",
    "Paper abstracts that reference dyanmics, forecasting, or predictors also likely describe disease modeling techniques.\n",
    "Only return YES or NO. Do not include any additional text or information.\n",
    "Do not guess. Your answers must be accurate.\n",
    "\n",
    "abstract:\n",
    "{abstract}\n",
    "\"\"\""
   ]
  },
  {
   "cell_type": "code",
   "execution_count": null,
   "metadata": {},
   "outputs": [],
   "source": [
    "MODEL_CLASSIFICATION_PROMPT_TEMPLATE = \"\"\"\n",
    "Read the following scientific paper abstract. Based on the content, determine if the paper explicitly refers to or uses a disease modeling technique.\n",
    "A disease modeling technique typically involves mathematical or computational models used to simulate, predict, or analyze the spread of a disease,\n",
    "including factors such as transmission dynamics, interventions, or epidemiological parameters.\n",
    "Consider whether the abstract mentions models, simulations, equations, or other approaches used to study or predict disease spread or control.\n",
    "Answer \"YES\" if a disease modeling technique is mentioned or implied, and \"NO\" if it is not.\n",
    "Do not include any additional text or information.\n",
    "\n",
    "Abstract:\n",
    "{abstract}\n",
    "\"\"\""
   ]
  },
  {
   "cell_type": "code",
   "execution_count": null,
   "metadata": {},
   "outputs": [],
   "source": [
    "MODEL_CLASSIFICATION_PROMPT_TEMPLATE = \"\"\"\n",
    "Read the following scientific paper abstract. Based on the content, determine if the paper explicitly refers to or uses a disease modeling technique.\n",
    "A disease modeling technique involves using mathematical, statistical, or computational methods to simulate, analyze, or predict the spread of a disease, its outcomes, or the effects of interventions.\n",
    "These techniques may include models such as compartmental models (e.g., SIR, SEIR), statistical models (e.g., regression, q-statistical models), or other forms of modeling used to describe epidemic dynamics, transmission rates, or epidemic peaks.\n",
    "Consider whether the abstract mentions models, simulations, equations, statistical forms, or other approaches used to study or predict disease spread, outcomes, or the impact of interventions.\n",
    "\n",
    "If the abstract describes using such methods to analyze or forecast the course of a disease, answer \"YES\". If the abstract does not describe a modeling approach but instead focuses on observational data or non-modeling analysis, answer \"NO\".\n",
    "\n",
    "Abstract:\n",
    "{abstract}\n",
    "\"\"\""
   ]
  },
  {
   "cell_type": "code",
   "execution_count": null,
   "metadata": {},
   "outputs": [],
   "source": [
    "_PROMPT_TEMPLATE = \"\"\"\n",
    "Read the following scientific paper abstract. Based on the content, determine if the paper explicitly refers to or uses a disease modeling technique.\n",
    "A disease modeling technique involves using mathematical, statistical, or computational methods to simulate, analyze, or predict the spread of a disease, its outcomes, or the effects of interventions.\n",
    "These techniques may include models such as compartmental models (e.g., SIR, SEIR), statistical models (e.g., regression, q-statistical models), or other forms of modeling used to describe epidemic dynamics, transmission rates, or epidemic peaks.\n",
    "Consider whether the abstract mentions models, simulations, equations, statistical forms, or other approaches used to study or predict disease spread, outcomes, or the impact of interventions.\n",
    "If the abstract describes using such methods to analyze or forecast the course of a disease, answer \"YES\".\n",
    "\n",
    "If the abstract does not describe a modeling approach but instead focuses on observational data or non-modeling analysis, answer \"NO\".\n",
    "\n",
    "Abstract:\n",
    "{abstract}\n",
    "\"\"\""
   ]
  },
  {
   "cell_type": "code",
   "execution_count": null,
   "metadata": {},
   "outputs": [],
   "source": [
    "MODEL_CLASSIFICATION_PROMPT_TEMPLATE = \"\"\"\n",
    "Read the following scientific paper abstract. Based on the content, determine if the paper explicitly refers to or uses a disease modeling technique.\n",
    "A disease modeling technique involves mathematical, statistical, or computational methods used to simulate, analyze, predict, or interpret the dynamics of a disease, including its transmission, outcomes, and the effects of interventions.\n",
    "\n",
    "These techniques can include:\n",
    "- Compartmental models (e.g., SIR, SEIR models) to describe the spread of disease among populations, \n",
    "- Statistical models (e.g., regression, zero-inflated models) that analyze disease incidence, risk factors, and predict future trends.\n",
    "- Simulation models to forecast disease outcomes under various scenarios.\n",
    "- Mathematical equations or functional forms to estimate epidemic characteristics, such as reproduction numbers, peak timings, or growth rates.\n",
    "\n",
    "Look for any mention of models, equations, simulations, statistical forms, or other methods used to analyze or predict disease transmission, risk factors, or the effects of interventions.\n",
    "\n",
    "Even if the model is statistical or non-compartmental (e.g., regression models), if it is used to analyze the spread or dynamics of disease and predict outcomes, it qualifies as a disease modeling technique.\n",
    "\n",
    "If the abstract describes or references any of these methods or similar approaches, answer \"YES\". If the abstract focuses on non-modeling analysis, such as reporting observational data without reference to disease modeling techniques, answer \"NO\".\n",
    "\n",
    "Abstract:\n",
    "{abstract}\n",
    "\"\"\""
   ]
  },
  {
   "cell_type": "markdown",
   "metadata": {},
   "source": [
    "The following parameters are used when a model is instantiated. These determine where and how the model is stored in memory (system/CPU or GPU memory)."
   ]
  },
  {
   "cell_type": "code",
   "execution_count": null,
   "metadata": {},
   "outputs": [],
   "source": [
    "model_kwargs = {\n",
    "    \"low_cpu_mem_usage\": True,\n",
    "    \"device_map\": \"sequential\",  # load the model into GPUs sequentially, to avoid memory allocation issues with balancing\n",
    "    \"torch_dtype\": \"auto\",\n",
    "}"
   ]
  },
  {
   "cell_type": "markdown",
   "metadata": {},
   "source": [
    "The following generator parameters are model hyperparameters used during text generation."
   ]
  },
  {
   "cell_type": "code",
   "execution_count": null,
   "metadata": {},
   "outputs": [],
   "source": [
    "generate_kwargs = {\n",
    "    \"max_new_tokens\": 1024,\n",
    "    \"do_sample\": True,\n",
    "    \"temperature\": 0.75,\n",
    "    \"top_k\": 50,\n",
    "    \"top_p\": 0.95,\n",
    "}"
   ]
  },
  {
   "cell_type": "markdown",
   "metadata": {},
   "source": [
    "These are the Hugging Face identifiers for the models that we'll use for classifying documents."
   ]
  },
  {
   "cell_type": "code",
   "execution_count": null,
   "metadata": {},
   "outputs": [],
   "source": [
    "MODEL_IDS = [\n",
    "    # \"deepseek-ai/DeepSeek-R1-Distill-Llama-8B\",\n",
    "    \"meta-llama/Meta-Llama-3.1-8B-Instruct\",\n",
    "    \"mistralai/Ministral-8B-Instruct-2410\",\n",
    "    \"Qwen/Qwen2.5-7B-Instruct\",\n",
    "]"
   ]
  },
  {
   "cell_type": "markdown",
   "metadata": {},
   "source": [
    "Define functions for instantiating models and using models to generate text."
   ]
  },
  {
   "cell_type": "code",
   "execution_count": null,
   "metadata": {},
   "outputs": [],
   "source": [
    "from transformers import AutoTokenizer\n",
    "from transformers import AutoModelForCausalLM\n",
    "\n",
    "\n",
    "def load_model(model_id, model_kwargs):\n",
    "    tokenizer = AutoTokenizer.from_pretrained(model_id)\n",
    "\n",
    "    model = AutoModelForCausalLM.from_pretrained(model_id, **model_kwargs)\n",
    "\n",
    "    return model, tokenizer"
   ]
  },
  {
   "cell_type": "code",
   "execution_count": null,
   "metadata": {},
   "outputs": [],
   "source": [
    "def generate_text(model, prompt, tokenizer, generate_kwargs):\n",
    "    generate_kwargs[\"bos_token_id\"] = tokenizer.bos_token_id\n",
    "    generate_kwargs[\"pad_token_id\"] = tokenizer.eos_token_id\n",
    "    generate_kwargs[\"eos_token_id\"] = tokenizer.eos_token_id\n",
    "\n",
    "    # processor = AutoProcessor.from_pretrained(\"meta-llama/Meta-Llama-3.1-8B-Instruct\")\n",
    "    # generate_kwargs[\"attention_mask\"] = processor(\"test\", return_tensors=\"pt\")['attention_mask']\n",
    "\n",
    "    messages = [{\"role\": \"user\", \"content\": prompt}]\n",
    "\n",
    "    input_ids = tokenizer.apply_chat_template(messages, add_generation_prompt=True, return_tensors=\"pt\").to(\n",
    "        model.device\n",
    "    )\n",
    "\n",
    "    outputs = model.generate(input_ids, **generate_kwargs)\n",
    "\n",
    "    response = outputs[0][input_ids.shape[-1] :]\n",
    "\n",
    "    return tokenizer.decode(response, skip_special_tokens=True)"
   ]
  },
  {
   "cell_type": "code",
   "execution_count": null,
   "metadata": {},
   "outputs": [],
   "source": [
    "import torch\n",
    "\n",
    "from ipywidgets import IntProgress\n",
    "from IPython.display import display\n",
    "\n",
    "results = {}\n",
    "\n",
    "for model_id in MODEL_IDS:\n",
    "    print(model_id)\n",
    "\n",
    "    progress_bar = IntProgress(min=0, max=len(df))\n",
    "    display(progress_bar)\n",
    "\n",
    "    model, tokenizer = load_model(model_id, model_kwargs)\n",
    "    is_modeling = []\n",
    "\n",
    "    for paper in df.itertuples():\n",
    "        prompt = MODEL_CLASSIFICATION_PROMPT_TEMPLATE.format(abstract=paper.abstract)\n",
    "        result = generate_text(model, prompt, tokenizer, generate_kwargs)\n",
    "\n",
    "        if \"YES\" in result:\n",
    "            is_modeling.append(True)\n",
    "        else:\n",
    "            is_modeling.append(False)\n",
    "\n",
    "        progress_bar.value += 1\n",
    "\n",
    "    results[model_id] = is_modeling\n",
    "\n",
    "    del model\n",
    "    torch.mps.empty_cache()"
   ]
  },
  {
   "cell_type": "code",
   "execution_count": null,
   "metadata": {},
   "outputs": [],
   "source": [
    "df_results = pd.DataFrame(results)\n",
    "df_results"
   ]
  },
  {
   "cell_type": "code",
   "execution_count": null,
   "metadata": {},
   "outputs": [],
   "source": [
    "for i in range(len(MODEL_IDS)):\n",
    "    print(MODEL_IDS[i])\n",
    "    print(sum(df_results[MODEL_IDS[i]]))"
   ]
  },
  {
   "cell_type": "markdown",
   "metadata": {},
   "source": [
    "Determine "
   ]
  },
  {
   "cell_type": "code",
   "execution_count": null,
   "metadata": {},
   "outputs": [],
   "source": [
    "pos_rate = []\n",
    "\n",
    "for row in df_results.itertuples():\n",
    "    pos_rate.append(sum(row[1:]) / len(df_results.columns))\n",
    "\n",
    "df_results[\"pos_rate\"] = pos_rate\n",
    "df_results"
   ]
  },
  {
   "cell_type": "code",
   "execution_count": null,
   "metadata": {},
   "outputs": [],
   "source": [
    "df_results.to_json(\"results.json\")"
   ]
  },
  {
   "cell_type": "code",
   "execution_count": null,
   "metadata": {},
   "outputs": [],
   "source": [
    "df_results.query(\"pos_rate < .5\")"
   ]
  },
  {
   "cell_type": "code",
   "execution_count": null,
   "metadata": {},
   "outputs": [],
   "source": [
    "results = collection.query(query_texts=[\"infectious disease modeling\"], n_results=400)\n",
    "\n",
    "match_ids = results[\"ids\"]"
   ]
  },
  {
   "cell_type": "code",
   "execution_count": null,
   "metadata": {},
   "outputs": [],
   "source": [
    "is_modeling = []\n",
    "\n",
    "for i, x in df_validate.iterrows():\n",
    "    if x[\"id\"] in match_ids[0]:\n",
    "        is_modeling.append(True)\n",
    "    else:\n",
    "        is_modeling.append(False)\n",
    "\n",
    "df_results[\"chroma\"] = is_modeling"
   ]
  },
  {
   "cell_type": "code",
   "execution_count": null,
   "metadata": {},
   "outputs": [],
   "source": [
    "sum(df_results[\"chroma\"])"
   ]
  },
  {
   "cell_type": "code",
   "execution_count": null,
   "metadata": {},
   "outputs": [],
   "source": [
    "is_modeling_agree = [\n",
    "    a and b and c and d\n",
    "    for a, b, c, d in zip(\n",
    "        df_results[MODEL_IDS[0]],\n",
    "        df_results[MODEL_IDS[1]],\n",
    "        df_results[MODEL_IDS[2]],\n",
    "        df_results[\"chroma\"],\n",
    "    )\n",
    "]\n",
    "print(sum(is_modeling_agree))"
   ]
  },
  {
   "cell_type": "code",
   "execution_count": null,
   "metadata": {},
   "outputs": [],
   "source": [
    "titles_to_validate = []\n",
    "\n",
    "modeling_keywords = [\n",
    "    \"model\",\n",
    "    \"spatial\",\n",
    "    \"dynamics\",\n",
    "    \"forecast\",\n",
    "    \"simulate\",\n",
    "    \"simulating\",\n",
    "    \"quantify\",\n",
    "]\n",
    "modeling_titles = []\n",
    "titles = []\n",
    "\n",
    "for i, x in df_validate.iterrows():\n",
    "    if is_modeling_agree[i]:\n",
    "        titles.append(x[\"title\"])\n",
    "        for y in modeling_keywords:\n",
    "            if y in x[\"title\"].lower():\n",
    "                modeling_titles.append(x[\"title\"])\n",
    "\n",
    "print(len(titles))\n",
    "print(len(modeling_titles))"
   ]
  },
  {
   "cell_type": "code",
   "execution_count": null,
   "metadata": {},
   "outputs": [],
   "source": [
    "for x in titles:\n",
    "    if x not in modeling_titles:\n",
    "        print(x)"
   ]
  },
  {
   "cell_type": "code",
   "execution_count": null,
   "metadata": {},
   "outputs": [],
   "source": []
  }
 ],
 "metadata": {
  "kernelspec": {
   "display_name": "Python 3 (ipykernel)",
   "language": "python",
   "name": "python3"
  },
  "language_info": {
   "codemirror_mode": {
    "name": "ipython",
    "version": 3
   },
   "file_extension": ".py",
   "mimetype": "text/x-python",
   "name": "python",
   "nbconvert_exporter": "python",
   "pygments_lexer": "ipython3",
   "version": "3.13.1"
  }
 },
 "nbformat": 4,
 "nbformat_minor": 4
}
