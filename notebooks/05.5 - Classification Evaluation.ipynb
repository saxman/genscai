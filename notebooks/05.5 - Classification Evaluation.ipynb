{
 "cells": [
  {
   "cell_type": "markdown",
   "metadata": {},
   "source": [
    "# 05.5 - Evaluate learned prompts"
   ]
  },
  {
   "cell_type": "code",
   "execution_count": null,
   "metadata": {},
   "outputs": [],
   "source": [
    "from genscai.prompts import Prompt, PromptCatalog\n",
    "from genscai import paths\n",
    "\n",
    "catalog = PromptCatalog(paths.data / \"prompt_catalog.db\")\n",
    "model_ids = catalog.retrieve_model_ids()\n",
    "model_ids"
   ]
  },
  {
   "cell_type": "code",
   "execution_count": null,
   "metadata": {},
   "outputs": [],
   "source": [
    "import textwrap\n",
    "\n",
    "for model_id in model_ids:\n",
    "    print(f\"model: {model_id}\")\n",
    "\n",
    "    prompt = catalog.retrieve_last(model_id)\n",
    "    print(f\"prompt revision: {prompt.version}\")\n",
    "    print(f\"prompt metrics {prompt.metrics}\")\n",
    "    print(textwrap.fill(f\"prompt: {prompt.prompt}\", 100))\n",
    "    print()"
   ]
  },
  {
   "cell_type": "code",
   "execution_count": null,
   "metadata": {},
   "outputs": [],
   "source": [
    "catalog.delete_all(\"ollama:qwen2.5:7b\")"
   ]
  },
  {
   "cell_type": "code",
   "execution_count": null,
   "metadata": {},
   "outputs": [],
   "source": []
  }
 ],
 "metadata": {
  "kernelspec": {
   "display_name": ".venv",
   "language": "python",
   "name": "python3"
  },
  "language_info": {
   "codemirror_mode": {
    "name": "ipython",
    "version": 3
   },
   "file_extension": ".py",
   "mimetype": "text/x-python",
   "name": "python",
   "nbconvert_exporter": "python",
   "pygments_lexer": "ipython3",
   "version": "3.11.11"
  }
 },
 "nbformat": 4,
 "nbformat_minor": 4
}
