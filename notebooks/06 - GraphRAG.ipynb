{
 "cells": [
  {
   "cell_type": "code",
   "execution_count": null,
   "metadata": {},
   "outputs": [],
   "source": [
    "%pip install graphrag"
   ]
  },
  {
   "cell_type": "code",
   "execution_count": null,
   "metadata": {},
   "outputs": [],
   "source": [
    "import pandas as pd\n",
    "import os.path\n",
    "\n",
    "fname = \"../data/train.json\"\n",
    "if os.path.isfile(fname):\n",
    "    df_train = pd.read_json(fname)\n",
    "else:\n",
    "    df_train = pd.read_csv(\"hf://datasets/krosenf/midas-abstracts/train.csv\")\n",
    "    df_train.to_json(fname)\n",
    "\n",
    "fname = \"../data/validate.json\"\n",
    "if os.path.isfile(fname):\n",
    "    df_validate = pd.read_json(fname)\n",
    "else:\n",
    "    df_validate = pd.read_csv(\"hf://datasets/krosenf/midas-abstracts/validate.csv\")\n",
    "    df_validate.to_json(fname)\n",
    "\n",
    "fname = \"../data/test.json\"\n",
    "if os.path.isfile(fname):\n",
    "    df_test = pd.read_json(fname)\n",
    "else:\n",
    "    df_test = pd.read_csv(\"hf://datasets/krosenf/midas-abstracts/test.csv\")\n",
    "    df_test.to_json(fname)\n",
    "\n",
    "print(df_train.shape)\n",
    "print(df_validate.shape)\n",
    "print(df_test.shape)\n",
    "\n",
    "df = df_validate\n",
    "\n",
    "df = pd.concat([df_train, df_validate, df_test])\n",
    "df.shape"
   ]
  },
  {
   "cell_type": "code",
   "execution_count": null,
   "metadata": {},
   "outputs": [],
   "source": [
    "from genscai.models import HuggingFaceClient\n",
    "from genscai import paths\n",
    "from genscai.models import classify_papers\n",
    "from genscai.prompts import PromptCatalog\n",
    "\n",
    "MODEL_KWARGS = {\n",
    "    \"low_cpu_mem_usage\": True,\n",
    "    \"device_map\": \"sequential\",  # load the model into GPUs sequentially, to avoid memory allocation issues with balancing\n",
    "    \"torch_dtype\": \"auto\",\n",
    "}\n",
    "\n",
    "CLASSIFICATION_GENERATE_KWARGS = {\n",
    "    \"max_new_tokens\": 1,\n",
    "    \"temperature\": 0.01,\n",
    "    \"do_sample\": True,\n",
    "}\n",
    "\n",
    "TASK_PROMPT_IO_TEMPLATE = \"\"\"\n",
    "If the abstract explicitly describes or references a disease modeling technique, answer \"YES\".\n",
    "If the abstract does not explicitly describe or reference a disease modeling technique, or it focuses on non-modeling analysis, answer \"NO\".\n",
    "Do not include any additional text or information with your response.\n",
    "\n",
    "Abstract:\n",
    "{abstract}\n",
    "\"\"\"\n",
    "\n",
    "model_client = HuggingFaceClient(HuggingFaceClient.MODEL_LLAMA_3_1_8B, MODEL_KWARGS)\n",
    "\n",
    "catalog = PromptCatalog(paths.data / \"prompt_catalog.db\")\n",
    "prompt = catalog.retrieve_last(HuggingFaceClient.MODEL_LLAMA_3_1_8B)\n",
    "\n",
    "df = classify_papers(\n",
    "    model_client, prompt.prompt + \"\\n\\n\" + TASK_PROMPT_IO_TEMPLATE, CLASSIFICATION_GENERATE_KWARGS, df\n",
    ")\n",
    "\n",
    "del model_client"
   ]
  },
  {
   "cell_type": "code",
   "execution_count": null,
   "metadata": {},
   "outputs": [],
   "source": [
    "import os\n",
    "from genscai import paths\n",
    "\n",
    "project_dir = paths.root / 'graphrag'\n",
    "os.mkdir(project_dir)"
   ]
  },
  {
   "cell_type": "code",
   "execution_count": null,
   "metadata": {},
   "outputs": [],
   "source": [
    "!graphrag init --root $project_dir"
   ]
  },
  {
   "cell_type": "code",
   "execution_count": null,
   "metadata": {},
   "outputs": [],
   "source": [
    "data_dir = project_dir / 'abstracts'\n",
    "os.mkdir(data_dir)"
   ]
  },
  {
   "cell_type": "code",
   "execution_count": null,
   "metadata": {},
   "outputs": [],
   "source": [
    "for i in range(len(df)):\n",
    "    with open(data_dir / f'{i}.txt', \"w\") as f:\n",
    "        f.write(f'{i}')\n",
    "        break"
   ]
  }
 ],
 "metadata": {
  "kernelspec": {
   "display_name": ".venv",
   "language": "python",
   "name": "python3"
  },
  "language_info": {
   "codemirror_mode": {
    "name": "ipython",
    "version": 3
   },
   "file_extension": ".py",
   "mimetype": "text/x-python",
   "name": "python",
   "nbconvert_exporter": "python",
   "pygments_lexer": "ipython3",
   "version": "3.11.11"
  }
 },
 "nbformat": 4,
 "nbformat_minor": 2
}
