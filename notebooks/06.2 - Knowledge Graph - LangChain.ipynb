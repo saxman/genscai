{
 "cells": [
  {
   "cell_type": "code",
   "execution_count": null,
   "id": "5d29a7bf",
   "metadata": {},
   "outputs": [],
   "source": [
    "%pip install -U langchain-ollama"
   ]
  },
  {
   "cell_type": "code",
   "execution_count": null,
   "id": "e39cf81f",
   "metadata": {},
   "outputs": [],
   "source": [
    "%pip install --upgrade --quiet  langchain langchain-community langchain-experimental"
   ]
  },
  {
   "cell_type": "code",
   "execution_count": null,
   "id": "bc5da0c8",
   "metadata": {},
   "outputs": [],
   "source": [
    "import pandas as pd\n",
    "from genscai import paths\n",
    "from langchain_core.documents import Document\n",
    "\n",
    "df_modeling_papers = pd.read_json(paths.data / \"modeling_papers_0.json\", orient=\"records\", lines=True)\n",
    "\n",
    "documents = []\n",
    "\n",
    "for row in df_modeling_papers.itertuples():\n",
    "    documents.append(Document(id=row.id, page_content=row.abstract))\n",
    "\n",
    "print(len(documents))"
   ]
  },
  {
   "cell_type": "code",
   "execution_count": null,
   "id": "724a24f7",
   "metadata": {},
   "outputs": [],
   "source": [
    "from langchain_experimental.graph_transformers import LLMGraphTransformer\n",
    "\n",
    "# from langchain_openai import ChatOpenAI\n",
    "from langchain_ollama.llms import OllamaLLM\n",
    "\n",
    "llm = OllamaLLM(model=\"llama3.1\")\n",
    "\n",
    "llm_transformer = LLMGraphTransformer(llm=llm)"
   ]
  },
  {
   "cell_type": "code",
   "execution_count": null,
   "id": "37942351",
   "metadata": {},
   "outputs": [],
   "source": [
    "graph_documents = llm_transformer.convert_to_graph_documents(documents)\n",
    "print(f\"Nodes:{graph_documents[0].nodes}\")\n",
    "print(f\"Relationships:{graph_documents[0].relationships}\")"
   ]
  },
  {
   "cell_type": "code",
   "execution_count": null,
   "id": "bf0b2d96",
   "metadata": {},
   "outputs": [],
   "source": [
    "llm_transformer_filtered = LLMGraphTransformer(\n",
    "    llm=llm,\n",
    "    allowed_nodes=[\n",
    "        \"Disease Model\",\n",
    "        \"Diesase Model Type\",\n",
    "        \"Disease\",\n",
    "        \"Geographic Location\",\n",
    "        \"Disease Vector\",\n",
    "        \"Infected Population\",\n",
    "    ],\n",
    "    allowed_relationships=[\n",
    "        \"MODEL_APPLIED_TO_DISEASE\",\n",
    "        \"MODEL_HAS_TYPE\",\n",
    "        \"DISEASE_LOCATED_IN\",\n",
    "        \"INFECTED_BY\",\n",
    "        \"DISEASE_PRESENT_IN\",\n",
    "        \"DISEASE_CARRIED_BY\",\n",
    "    ],\n",
    ")\n",
    "\n",
    "graph_documents = llm_transformer_filtered.convert_to_graph_documents(documents[:10])"
   ]
  },
  {
   "cell_type": "code",
   "execution_count": null,
   "id": "36cb59eb",
   "metadata": {},
   "outputs": [],
   "source": [
    "for doc in graph_documents:\n",
    "    if len(doc.nodes) > 0:\n",
    "        print(f\"Paper ID: {doc.source.id}\")\n",
    "        print(f\"Paper Abstract: {doc.source.page_content}\")\n",
    "\n",
    "        for node in doc.nodes:\n",
    "            print(f\"Node: {node.id}, Type: {node.type}\")\n",
    "        for rel in doc.relationships:\n",
    "            print(f\"Relationship: {rel.type}\")\n",
    "            print(f\"   Source: {rel.source.id}, Type: {rel.source.type}\")\n",
    "            print(f\"   Target: {rel.target.id}, Type: {rel.target.type}\")\n",
    "\n",
    "        print()"
   ]
  }
 ],
 "metadata": {
  "kernelspec": {
   "display_name": ".venv",
   "language": "python",
   "name": "python3"
  },
  "language_info": {
   "codemirror_mode": {
    "name": "ipython",
    "version": 3
   },
   "file_extension": ".py",
   "mimetype": "text/x-python",
   "name": "python",
   "nbconvert_exporter": "python",
   "pygments_lexer": "ipython3",
   "version": "3.11.11"
  }
 },
 "nbformat": 4,
 "nbformat_minor": 5
}
