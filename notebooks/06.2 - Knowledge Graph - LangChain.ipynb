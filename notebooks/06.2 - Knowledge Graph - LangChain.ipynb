{
 "cells": [
  {
   "cell_type": "code",
   "execution_count": null,
   "id": "e39cf81f",
   "metadata": {},
   "outputs": [],
   "source": [
    "%pip install --upgrade --quiet  langchain langchain-community langchain-experimental langchain-ollama"
   ]
  },
  {
   "cell_type": "markdown",
   "id": "8968fb61",
   "metadata": {},
   "source": [
    "Load the papers classified as modeling papers into LangChain Document objects, for later use in the pipeline."
   ]
  },
  {
   "cell_type": "code",
   "execution_count": null,
   "id": "bc5da0c8",
   "metadata": {},
   "outputs": [],
   "source": [
    "import pandas as pd\n",
    "from genscai import paths\n",
    "from langchain_core.documents import Document\n",
    "\n",
    "df_modeling_papers = pd.read_json(paths.data / \"modeling_papers_0.json\", orient=\"records\", lines=True)\n",
    "\n",
    "documents = []\n",
    "\n",
    "for row in df_modeling_papers.itertuples():\n",
    "    documents.append(Document(id=row.id, page_content=row.abstract))\n",
    "\n",
    "f\"Papers loaded: {len(documents)}\""
   ]
  },
  {
   "cell_type": "code",
   "execution_count": null,
   "id": "8c8e23e2",
   "metadata": {},
   "outputs": [],
   "source": [
    "import json\n",
    "from genscai import paths\n",
    "from langchain_core.documents import Document\n",
    "\n",
    "with open(paths.data / \"training_modeling_papers.json\", \"r\") as f:\n",
    "    data = json.load(f)\n",
    "\n",
    "documents = []\n",
    "\n",
    "for row in data:\n",
    "    documents.append(Document(page_content=row[\"abstract\"]))\n",
    "\n",
    "f\"Papers loaded: {len(documents)}\""
   ]
  },
  {
   "cell_type": "code",
   "execution_count": null,
   "id": "bf0b2d96",
   "metadata": {},
   "outputs": [],
   "source": [
    "from langchain_experimental.graph_transformers import LLMGraphTransformer\n",
    "from langchain_ollama.llms import OllamaLLM\n",
    "\n",
    "llm = OllamaLLM(model=\"gemma3:12b\", temperature=0.0)\n",
    "transformer = LLMGraphTransformer(llm=llm)\n",
    "\n",
    "transformer = LLMGraphTransformer(\n",
    "    llm=llm,\n",
    "    allowed_nodes=[\n",
    "        \"Disease Modeling Goal\",\n",
    "        \"Diesase Modeling Technique\",\n",
    "        \"Disease Model Data Requirement\",\n",
    "        \"Disease Modeled\",\n",
    "        \"Geographic Location\",\n",
    "    ],\n",
    "    allowed_relationships=[],\n",
    ")\n",
    "\n",
    "## Process a subset of the documents as a test\n",
    "graph_documents = transformer.convert_to_graph_documents(documents[:10])\n",
    "\n",
    "f\"Documents processed: {len(graph_documents)}\""
   ]
  },
  {
   "cell_type": "code",
   "execution_count": null,
   "id": "36cb59eb",
   "metadata": {},
   "outputs": [],
   "source": [
    "for doc in graph_documents:\n",
    "    if len(doc.nodes) > 0:\n",
    "        print(f\"Paper ID: {doc.source.id}\")\n",
    "        print(f\"Paper Abstract: {doc.source.page_content}\")\n",
    "\n",
    "        for node in doc.nodes:\n",
    "            print(f\"Node: {node.id}, Type: {node.type}\")\n",
    "        for rel in doc.relationships:\n",
    "            print(f\"Relationship: {rel.type}\")\n",
    "            print(f\"   Source: {rel.source.id}, Type: {rel.source.type}\")\n",
    "            print(f\"   Target: {rel.target.id}, Type: {rel.target.type}\")\n",
    "\n",
    "        print()"
   ]
  }
 ],
 "metadata": {
  "kernelspec": {
   "display_name": ".venv",
   "language": "python",
   "name": "python3"
  },
  "language_info": {
   "codemirror_mode": {
    "name": "ipython",
    "version": 3
   },
   "file_extension": ".py",
   "mimetype": "text/x-python",
   "name": "python",
   "nbconvert_exporter": "python",
   "pygments_lexer": "ipython3",
   "version": "3.11.11"
  }
 },
 "nbformat": 4,
 "nbformat_minor": 5
}
