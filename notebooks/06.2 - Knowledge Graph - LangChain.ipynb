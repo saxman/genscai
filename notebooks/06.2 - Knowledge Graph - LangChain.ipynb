{
 "cells": [
  {
   "cell_type": "markdown",
   "id": "f7d9d3e9",
   "metadata": {},
   "source": [
    "# 06.2 - Knowledge Graph creation with LangChain\n",
    "\n",
    "This notebook demonstrates how to automatically create a knowledge graph from research paper abstracts LangChain and LLMs."
   ]
  },
  {
   "cell_type": "markdown",
   "id": "4017b4bd",
   "metadata": {},
   "source": [
    "## 01 - Setup"
   ]
  },
  {
   "cell_type": "markdown",
   "id": "8348d9f8",
   "metadata": {},
   "source": [
    "Ensure the necessary modules are installed and up to date."
   ]
  },
  {
   "cell_type": "code",
   "execution_count": 1,
   "id": "e39cf81f",
   "metadata": {},
   "outputs": [
    {
     "name": "stdout",
     "output_type": "stream",
     "text": [
      "Note: you may need to restart the kernel to use updated packages.\n"
     ]
    }
   ],
   "source": [
    "%pip install --upgrade --quiet  langchain langchain-community langchain-experimental langchain-ollama json_repair"
   ]
  },
  {
   "cell_type": "markdown",
   "id": "b4fe25e2",
   "metadata": {},
   "source": [
    "Local LLMs are accessed via Ollama in this notebook. Ollama can be installed from https://ollama.com/."
   ]
  },
  {
   "cell_type": "markdown",
   "id": "5975f13d",
   "metadata": {},
   "source": [
    "## 02 - Data Preparation\n",
    "\n",
    "For creating a knowledge graph with LangChain, we need to prepare the data by loading the research papers into LangChain Document objects.\n",
    "\n",
    "In this step, we can either load the MIDAS papers that our LLM has classified as modeling papers (5700+ documents), or we can load the training papers from the MIDAS dataset (46). For starting, the latter, smaller dataset is recommended."
   ]
  },
  {
   "cell_type": "markdown",
   "id": "8968fb61",
   "metadata": {},
   "source": [
    "Load the classified papers (5700+ documents):"
   ]
  },
  {
   "cell_type": "code",
   "execution_count": 2,
   "id": "bc5da0c8",
   "metadata": {},
   "outputs": [
    {
     "data": {
      "text/plain": [
       "'Papers loaded: 5737'"
      ]
     },
     "execution_count": 2,
     "metadata": {},
     "output_type": "execute_result"
    }
   ],
   "source": [
    "import pandas as pd\n",
    "from genscai import paths\n",
    "from langchain_core.documents import Document\n",
    "\n",
    "df_modeling_papers = pd.read_json(paths.data / \"modeling_papers_0.json\", orient=\"records\", lines=True)\n",
    "\n",
    "documents = []\n",
    "\n",
    "for row in df_modeling_papers.itertuples():\n",
    "    documents.append(Document(id=row.id, page_content=row.abstract))\n",
    "\n",
    "f\"Papers loaded: {len(documents)}\""
   ]
  },
  {
   "cell_type": "markdown",
   "id": "e7da2e50",
   "metadata": {},
   "source": [
    "Alternatively, load the training papers (46 documents):"
   ]
  },
  {
   "cell_type": "code",
   "execution_count": 3,
   "id": "8c8e23e2",
   "metadata": {},
   "outputs": [
    {
     "data": {
      "text/plain": [
       "'Papers loaded: 46'"
      ]
     },
     "execution_count": 3,
     "metadata": {},
     "output_type": "execute_result"
    }
   ],
   "source": [
    "import json\n",
    "from genscai import paths\n",
    "from langchain_core.documents import Document\n",
    "\n",
    "with open(paths.data / \"training_modeling_papers.json\", \"r\") as f:\n",
    "    data = json.load(f)\n",
    "\n",
    "documents = []\n",
    "\n",
    "for row in data:\n",
    "    documents.append(Document(page_content=row[\"abstract\"]))\n",
    "\n",
    "f\"Papers loaded: {len(documents)}\""
   ]
  },
  {
   "cell_type": "markdown",
   "id": "3b72fa3b",
   "metadata": {},
   "source": [
    "## 03 - Create a Knowledge Graph\n",
    "\n",
    "LangChain provides direct, experimental support for creating knowledge graphs from documents using LLMs. This is done by using the `LLMGraphTransformer` class.\n",
    "\n",
    "Documentation on using LLMGraphTransformer can be found at:\n",
    "https://python.langchain.com/docs/how_to/graph_constructing/\n",
    "\n",
    "The prompt that LLMGraphTransformer uses to identify graph entities and relationships can be found at:\n",
    "https://python.langchain.com/api_reference/_modules/langchain_experimental/graph_transformers/llm.html#create_unstructured_prompt"
   ]
  },
  {
   "cell_type": "markdown",
   "id": "0670ccc4",
   "metadata": {},
   "source": [
    "Inport the necessary modules so they can be used later:"
   ]
  },
  {
   "cell_type": "code",
   "execution_count": 18,
   "id": "2be61f29",
   "metadata": {},
   "outputs": [],
   "source": [
    "from langchain_experimental.graph_transformers import LLMGraphTransformer\n",
    "from langchain_ollama.llms import OllamaLLM\n",
    "\n",
    "def print_graph_results(graph_documents: list[Document]) -> None:\n",
    "    for doc in graph_documents:\n",
    "        if len(doc.nodes) > 0:\n",
    "            print(f\"Paper ID: {doc.source.id}\")\n",
    "            print(f\"Paper Abstract: {doc.source.page_content}\")\n",
    "\n",
    "            for node in doc.nodes:\n",
    "                print(node)\n",
    "                print(f\"Node: {node.id}, Type: {node.type}\")\n",
    "\n",
    "            for rel in doc.relationships:\n",
    "                print(f\"Relationship: {rel.type}\")\n",
    "                print(f\"   Source: {rel.source.id}, Type: {rel.source.type}\")\n",
    "                print(f\"   Target: {rel.target.id}, Type: {rel.target.type}\")\n",
    "\n",
    "            print()"
   ]
  },
  {
   "cell_type": "markdown",
   "id": "c1219508",
   "metadata": {},
   "source": [
    "For the first test, allow the model to infer both node types and relationships. Here we'll use the Gemma 3 12B model."
   ]
  },
  {
   "cell_type": "code",
   "execution_count": 19,
   "id": "f07bbab8",
   "metadata": {},
   "outputs": [
    {
     "name": "stdout",
     "output_type": "stream",
     "text": [
      "Paper ID: None\n",
      "Paper Abstract: Background: Since the appearance of the first case of COVID-19 in Morocco, the cumulative number of reported infectious cases continues to increase and, consequently, the government imposed the containment measure within the country. Our aim is to predict the impact of the compulsory containment on COVID-19 spread. Earlier knowledge of the epidemic characteristics of COVID-19 transmission related to Morocco will be of great interest to establish an optimal plan-of-action to control the epidemic.\n",
      "\n",
      "Method: Using a Susceptible-Asymptomatic-Infectious model and the data of reported cumulative confirmed cases in Morocco from March 2nd to April 9, 2020, we determined the basic and control reproduction numbers and we estimated the model parameter values. Furthermore, simulations of different scenarios of containment are performed.\n",
      "\n",
      "Results: Epidemic characteristics are predicted according to different rates of containment. The basic reproduction number is estimated to be 2.9949, with CI(2.6729-3.1485). Furthermore, a threshold value of containment rate, below which the epidemic duration is postponed, is determined.\n",
      "\n",
      "Conclusion: Our findings show that the basic reproduction number reflects a high speed of spread of the epidemic. Furthermore, the compulsory containment can be efficient if more than 73% of population are confined. However, even with 90% of containment, the end-time is estimated to happen on July 4th which can be harmful and lead to consequent social-economic damages. Thus, containment need to be accompanied by other measures such as mass testing to reduce the size of asymptomatic population. Indeed, our sensitivity analysis investigation shows that the COVID-19 dynamics depends strongly on the asymptomatic duration as well as the contact and containment rates. Our results can help the Moroccan government to anticipate the spread of COVID-19 and avoid human loses and consequent social-economic damages as well.\n",
      "id='mass testing' type='Activity' properties={}\n",
      "Node: mass testing, Type: Activity\n",
      "id='high speed of spread' type='Characteristic' properties={}\n",
      "Node: high speed of spread, Type: Characteristic\n",
      "id='asymptomatic duration' type='Duration' properties={}\n",
      "Node: asymptomatic duration, Type: Duration\n",
      "id='contact rates' type='Rate' properties={}\n",
      "Node: contact rates, Type: Rate\n",
      "id='COVID-19' type='Disease' properties={}\n",
      "Node: COVID-19, Type: Disease\n",
      "id='containment rates' type='Rate' properties={}\n",
      "Node: containment rates, Type: Rate\n",
      "id='containment measure' type='Policy' properties={}\n",
      "Node: containment measure, Type: Policy\n",
      "id='asymptomatic population' type='Group' properties={}\n",
      "Node: asymptomatic population, Type: Group\n",
      "id='Morocco' type='Country' properties={}\n",
      "Node: Morocco, Type: Country\n",
      "id='containment' type='Policy' properties={}\n",
      "Node: containment, Type: Policy\n",
      "id='social-economic damages' type='Damage' properties={}\n",
      "Node: social-economic damages, Type: Damage\n",
      "id='government' type='Organization' properties={}\n",
      "Node: government, Type: Organization\n",
      "id='COVID-19 dynamics' type='Process' properties={}\n",
      "Node: COVID-19 dynamics, Type: Process\n",
      "id='population' type='Group' properties={}\n",
      "Node: population, Type: Group\n",
      "id='results' type='Result' properties={}\n",
      "Node: results, Type: Result\n",
      "id='Moroccan government' type='Organization' properties={}\n",
      "Node: Moroccan government, Type: Organization\n",
      "Relationship: APPEARS_IN\n",
      "   Source: COVID-19, Type: Disease\n",
      "   Target: Morocco, Type: Country\n",
      "Relationship: IMPOSES\n",
      "   Source: government, Type: Organization\n",
      "   Target: containment measure, Type: Policy\n",
      "Relationship: HAS_CHARACTERISTIC\n",
      "   Source: COVID-19, Type: Disease\n",
      "   Target: high speed of spread, Type: Characteristic\n",
      "Relationship: AFFECTS\n",
      "   Source: containment, Type: Policy\n",
      "   Target: COVID-19, Type: Disease\n",
      "Relationship: EXPERIENCES\n",
      "   Source: population, Type: Group\n",
      "   Target: containment, Type: Policy\n",
      "Relationship: HAS_EFFECT\n",
      "   Source: containment, Type: Policy\n",
      "   Target: social-economic damages, Type: Damage\n",
      "Relationship: REDUCES\n",
      "   Source: mass testing, Type: Activity\n",
      "   Target: asymptomatic population, Type: Group\n",
      "Relationship: DEPENDS_ON\n",
      "   Source: COVID-19 dynamics, Type: Process\n",
      "   Target: asymptomatic duration, Type: Duration\n",
      "Relationship: DEPENDS_ON\n",
      "   Source: COVID-19 dynamics, Type: Process\n",
      "   Target: contact rates, Type: Rate\n",
      "Relationship: DEPENDS_ON\n",
      "   Source: COVID-19 dynamics, Type: Process\n",
      "   Target: containment rates, Type: Rate\n",
      "Relationship: USES\n",
      "   Source: Moroccan government, Type: Organization\n",
      "   Target: results, Type: Result\n",
      "\n"
     ]
    }
   ],
   "source": [
    "llm = OllamaLLM(model=\"gemma3:12b\", temperature=0.1)\n",
    "transformer = LLMGraphTransformer(llm=llm)\n",
    "\n",
    "transformer = LLMGraphTransformer(\n",
    "    llm=llm,\n",
    ")\n",
    "\n",
    "# Process a single document for testing\n",
    "graph_documents = transformer.convert_to_graph_documents(documents[:1])\n",
    "\n",
    "print_graph_results(graph_documents)"
   ]
  },
  {
   "cell_type": "markdown",
   "id": "22ad3e3b",
   "metadata": {},
   "source": [
    "Next, create a knowledge graph with specific node types."
   ]
  },
  {
   "cell_type": "code",
   "execution_count": 20,
   "id": "bf0b2d96",
   "metadata": {},
   "outputs": [
    {
     "name": "stdout",
     "output_type": "stream",
     "text": [
      "Paper ID: None\n",
      "Paper Abstract: Background: Since the appearance of the first case of COVID-19 in Morocco, the cumulative number of reported infectious cases continues to increase and, consequently, the government imposed the containment measure within the country. Our aim is to predict the impact of the compulsory containment on COVID-19 spread. Earlier knowledge of the epidemic characteristics of COVID-19 transmission related to Morocco will be of great interest to establish an optimal plan-of-action to control the epidemic.\n",
      "\n",
      "Method: Using a Susceptible-Asymptomatic-Infectious model and the data of reported cumulative confirmed cases in Morocco from March 2nd to April 9, 2020, we determined the basic and control reproduction numbers and we estimated the model parameter values. Furthermore, simulations of different scenarios of containment are performed.\n",
      "\n",
      "Results: Epidemic characteristics are predicted according to different rates of containment. The basic reproduction number is estimated to be 2.9949, with CI(2.6729-3.1485). Furthermore, a threshold value of containment rate, below which the epidemic duration is postponed, is determined.\n",
      "\n",
      "Conclusion: Our findings show that the basic reproduction number reflects a high speed of spread of the epidemic. Furthermore, the compulsory containment can be efficient if more than 73% of population are confined. However, even with 90% of containment, the end-time is estimated to happen on July 4th which can be harmful and lead to consequent social-economic damages. Thus, containment need to be accompanied by other measures such as mass testing to reduce the size of asymptomatic population. Indeed, our sensitivity analysis investigation shows that the COVID-19 dynamics depends strongly on the asymptomatic duration as well as the contact and containment rates. Our results can help the Moroccan government to anticipate the spread of COVID-19 and avoid human loses and consequent social-economic damages as well.\n",
      "id='basic reproduction number' type='Disease Model Data Requirement' properties={}\n",
      "Node: basic reproduction number, Type: Disease Model Data Requirement\n",
      "id='end-time' type='Disease Model Data Requirement' properties={}\n",
      "Node: end-time, Type: Disease Model Data Requirement\n",
      "id='73%' type='Disease Model Data Requirement' properties={}\n",
      "Node: 73%, Type: Disease Model Data Requirement\n",
      "id='Moroccan government' type='Geographic Location' properties={}\n",
      "Node: Moroccan government, Type: Geographic Location\n",
      "id='simulations' type='Diesase Modeling Technique' properties={}\n",
      "Node: simulations, Type: Diesase Modeling Technique\n",
      "id='results' type='Disease Modeling Goal' properties={}\n",
      "Node: results, Type: Disease Modeling Goal\n",
      "id='threshold value' type='Disease Model Data Requirement' properties={}\n",
      "Node: threshold value, Type: Disease Model Data Requirement\n",
      "id='Susceptible-Asymptomatic-Infectious model' type='Diesase Modeling Technique' properties={}\n",
      "Node: Susceptible-Asymptomatic-Infectious model, Type: Diesase Modeling Technique\n",
      "id='knowledge' type='Disease Modeling Goal' properties={}\n",
      "Node: knowledge, Type: Disease Modeling Goal\n",
      "id='government' type='Geographic Location' properties={}\n",
      "Node: government, Type: Geographic Location\n",
      "id='aim' type='Disease Modeling Goal' properties={}\n",
      "Node: aim, Type: Disease Modeling Goal\n",
      "id='COVID-19 transmission' type='Disease Modeled' properties={}\n",
      "Node: COVID-19 transmission, Type: Disease Modeled\n",
      "id='impact of the compulsory containment' type='Diesase Modeling Technique' properties={}\n",
      "Node: impact of the compulsory containment, Type: Diesase Modeling Technique\n",
      "id='basic reproduction numbers' type='Disease Model Data Requirement' properties={}\n",
      "Node: basic reproduction numbers, Type: Disease Model Data Requirement\n",
      "id='containment measure' type='Diesase Modeling Technique' properties={}\n",
      "Node: containment measure, Type: Diesase Modeling Technique\n",
      "id='efficient' type='Disease Modeling Goal' properties={}\n",
      "Node: efficient, Type: Disease Modeling Goal\n",
      "id='high speed of spread' type='Disease Modeling Goal' properties={}\n",
      "Node: high speed of spread, Type: Disease Modeling Goal\n",
      "id='COVID-19' type='Disease Modeled' properties={}\n",
      "Node: COVID-19, Type: Disease Modeled\n",
      "id='population' type='Disease Model Data Requirement' properties={}\n",
      "Node: population, Type: Disease Model Data Requirement\n",
      "id='containment rate' type='Diesase Modeling Technique' properties={}\n",
      "Node: containment rate, Type: Diesase Modeling Technique\n",
      "id='asymptomatic duration' type='Disease Model Data Requirement' properties={}\n",
      "Node: asymptomatic duration, Type: Disease Model Data Requirement\n",
      "id='Morocco' type='Geographic Location' properties={}\n",
      "Node: Morocco, Type: Geographic Location\n",
      "id='data of reported cumulative confirmed cases' type='Disease Model Data Requirement' properties={}\n",
      "Node: data of reported cumulative confirmed cases, Type: Disease Model Data Requirement\n",
      "id='containment' type='Diesase Modeling Technique' properties={}\n",
      "Node: containment, Type: Diesase Modeling Technique\n",
      "id='findings' type='Disease Modeling Goal' properties={}\n",
      "Node: findings, Type: Disease Modeling Goal\n",
      "id='2.9949' type='Disease Model Data Requirement' properties={}\n",
      "Node: 2.9949, Type: Disease Model Data Requirement\n",
      "id='mass testing' type='Diesase Modeling Technique' properties={}\n",
      "Node: mass testing, Type: Diesase Modeling Technique\n",
      "id='July 4th' type='Disease Model Data Requirement' properties={}\n",
      "Node: July 4th, Type: Disease Model Data Requirement\n",
      "id='different scenarios of containment' type='Diesase Modeling Technique' properties={}\n",
      "Node: different scenarios of containment, Type: Diesase Modeling Technique\n",
      "id='compulsory containment' type='Diesase Modeling Technique' properties={}\n",
      "Node: compulsory containment, Type: Diesase Modeling Technique\n",
      "id='COVID-19 dynamics' type='Disease Modeled' properties={}\n",
      "Node: COVID-19 dynamics, Type: Disease Modeled\n",
      "Relationship: APPEARS_IN\n",
      "   Source: COVID-19, Type: Disease Modeled\n",
      "   Target: Morocco, Type: Geographic Location\n",
      "Relationship: AFFECTS\n",
      "   Source: COVID-19, Type: Disease Modeled\n",
      "   Target: Morocco, Type: Geographic Location\n",
      "Relationship: IMPOSED\n",
      "   Source: government, Type: Geographic Location\n",
      "   Target: containment measure, Type: Diesase Modeling Technique\n",
      "Relationship: PREDICT\n",
      "   Source: aim, Type: Disease Modeling Goal\n",
      "   Target: impact of the compulsory containment, Type: Diesase Modeling Technique\n",
      "Relationship: RELATED_TO\n",
      "   Source: knowledge, Type: Disease Modeling Goal\n",
      "   Target: COVID-19 transmission, Type: Disease Modeled\n",
      "Relationship: USES_DATA\n",
      "   Source: Susceptible-Asymptomatic-Infectious model, Type: Diesase Modeling Technique\n",
      "   Target: data of reported cumulative confirmed cases, Type: Disease Model Data Requirement\n",
      "Relationship: DETERMINED_BY\n",
      "   Source: basic reproduction numbers, Type: Disease Model Data Requirement\n",
      "   Target: Susceptible-Asymptomatic-Infectious model, Type: Diesase Modeling Technique\n",
      "Relationship: PERFORMED_ON\n",
      "   Source: simulations, Type: Diesase Modeling Technique\n",
      "   Target: different scenarios of containment, Type: Diesase Modeling Technique\n",
      "Relationship: ESTIMATED_AS\n",
      "   Source: basic reproduction number, Type: Disease Model Data Requirement\n",
      "   Target: 2.9949, Type: Disease Model Data Requirement\n",
      "Relationship: DETERMINED_BY\n",
      "   Source: threshold value, Type: Disease Model Data Requirement\n",
      "   Target: containment rate, Type: Diesase Modeling Technique\n",
      "Relationship: REFLECT\n",
      "   Source: findings, Type: Disease Modeling Goal\n",
      "   Target: basic reproduction number, Type: Disease Model Data Requirement\n",
      "Relationship: CAN_BE\n",
      "   Source: compulsory containment, Type: Diesase Modeling Technique\n",
      "   Target: efficient, Type: Disease Modeling Goal\n",
      "Relationship: CONFINED_AT\n",
      "   Source: population, Type: Disease Model Data Requirement\n",
      "   Target: 73%, Type: Disease Model Data Requirement\n",
      "Relationship: ESTIMATED_AS\n",
      "   Source: end-time, Type: Disease Model Data Requirement\n",
      "   Target: July 4th, Type: Disease Model Data Requirement\n",
      "Relationship: ACCOMPANIED_BY\n",
      "   Source: mass testing, Type: Diesase Modeling Technique\n",
      "   Target: containment, Type: Diesase Modeling Technique\n",
      "Relationship: DEPENDS_ON\n",
      "   Source: COVID-19 dynamics, Type: Disease Modeled\n",
      "   Target: asymptomatic duration, Type: Disease Model Data Requirement\n",
      "Relationship: HELP\n",
      "   Source: results, Type: Disease Modeling Goal\n",
      "   Target: Moroccan government, Type: Geographic Location\n",
      "Relationship: REFLECTS\n",
      "   Source: basic reproduction number, Type: Disease Model Data Requirement\n",
      "   Target: high speed of spread, Type: Disease Modeling Goal\n",
      "\n"
     ]
    }
   ],
   "source": [
    "transformer = LLMGraphTransformer(\n",
    "    llm=llm,\n",
    "    allowed_nodes=[\n",
    "        \"Disease Modeling Goal\",\n",
    "        \"Diesase Modeling Technique\",\n",
    "        \"Disease Model Data Requirement\",\n",
    "        \"Disease Modeled\",\n",
    "        \"Geographic Location\",\n",
    "    ],\n",
    ")\n",
    "\n",
    "# Process a single document for testing\n",
    "graph_documents = transformer.convert_to_graph_documents(documents[:1])\n",
    "\n",
    "print_graph_results(graph_documents)"
   ]
  },
  {
   "cell_type": "markdown",
   "id": "54cd40d8",
   "metadata": {},
   "source": [
    "Different models will produce varying results. The Mistral Small 3.1 model should produce better results than the Gemma 3 model; howver, the model requires more memory (~15GB at 4-bit quantization)."
   ]
  },
  {
   "cell_type": "code",
   "execution_count": 21,
   "id": "da876606",
   "metadata": {},
   "outputs": [
    {
     "name": "stdout",
     "output_type": "stream",
     "text": [
      "Paper ID: None\n",
      "Paper Abstract: Background: Since the appearance of the first case of COVID-19 in Morocco, the cumulative number of reported infectious cases continues to increase and, consequently, the government imposed the containment measure within the country. Our aim is to predict the impact of the compulsory containment on COVID-19 spread. Earlier knowledge of the epidemic characteristics of COVID-19 transmission related to Morocco will be of great interest to establish an optimal plan-of-action to control the epidemic.\n",
      "\n",
      "Method: Using a Susceptible-Asymptomatic-Infectious model and the data of reported cumulative confirmed cases in Morocco from March 2nd to April 9, 2020, we determined the basic and control reproduction numbers and we estimated the model parameter values. Furthermore, simulations of different scenarios of containment are performed.\n",
      "\n",
      "Results: Epidemic characteristics are predicted according to different rates of containment. The basic reproduction number is estimated to be 2.9949, with CI(2.6729-3.1485). Furthermore, a threshold value of containment rate, below which the epidemic duration is postponed, is determined.\n",
      "\n",
      "Conclusion: Our findings show that the basic reproduction number reflects a high speed of spread of the epidemic. Furthermore, the compulsory containment can be efficient if more than 73% of population are confined. However, even with 90% of containment, the end-time is estimated to happen on July 4th which can be harmful and lead to consequent social-economic damages. Thus, containment need to be accompanied by other measures such as mass testing to reduce the size of asymptomatic population. Indeed, our sensitivity analysis investigation shows that the COVID-19 dynamics depends strongly on the asymptomatic duration as well as the contact and containment rates. Our results can help the Moroccan government to anticipate the spread of COVID-19 and avoid human loses and consequent social-economic damages as well.\n",
      "id='anticipate the spread of COVID-19' type='Disease Modeling Goal' properties={}\n",
      "Node: anticipate the spread of COVID-19, Type: Disease Modeling Goal\n",
      "id='avoid human loses and consequent social-economic damages' type='Disease Modeling Goal' properties={}\n",
      "Node: avoid human loses and consequent social-economic damages, Type: Disease Modeling Goal\n",
      "id='March 2nd to April 9, 2020' type='Disease Model Data Requirement' properties={}\n",
      "Node: March 2nd to April 9, 2020, Type: Disease Model Data Requirement\n",
      "id='reported cumulative confirmed cases in Morocco' type='Disease Model Data Requirement' properties={}\n",
      "Node: reported cumulative confirmed cases in Morocco, Type: Disease Model Data Requirement\n",
      "id='basic reproduction number' type='Disease Model Data Requirement' properties={}\n",
      "Node: basic reproduction number, Type: Disease Model Data Requirement\n",
      "id='contact and containment rates' type='Disease Model Data Requirement' properties={}\n",
      "Node: contact and containment rates, Type: Disease Model Data Requirement\n",
      "id='predict the impact of the compulsory containment on COVID-19 spread' type='Disease Modeling Goal' properties={}\n",
      "Node: predict the impact of the compulsory containment on COVID-19 spread, Type: Disease Modeling Goal\n",
      "id='end-time' type='Disease Model Data Requirement' properties={}\n",
      "Node: end-time, Type: Disease Model Data Requirement\n",
      "id='Susceptible-Asymptomatic-Infectious model' type='Diesase Modeling Technique' properties={}\n",
      "Node: Susceptible-Asymptomatic-Infectious model, Type: Diesase Modeling Technique\n",
      "id='model parameter values' type='Disease Model Data Requirement' properties={}\n",
      "Node: model parameter values, Type: Disease Model Data Requirement\n",
      "id='Morocco' type='Geographic Location' properties={}\n",
      "Node: Morocco, Type: Geographic Location\n",
      "id='establish an optimal plan-of-action to control the epidemic' type='Disease Modeling Goal' properties={}\n",
      "Node: establish an optimal plan-of-action to control the epidemic, Type: Disease Modeling Goal\n",
      "id='epidemic characteristics' type='Disease Model Data Requirement' properties={}\n",
      "Node: epidemic characteristics, Type: Disease Model Data Requirement\n",
      "id='COVID-19' type='Disease Modeled' properties={}\n",
      "Node: COVID-19, Type: Disease Modeled\n",
      "id='epidemic duration' type='Disease Model Data Requirement' properties={}\n",
      "Node: epidemic duration, Type: Disease Model Data Requirement\n",
      "id='asymptomatic duration' type='Disease Model Data Requirement' properties={}\n",
      "Node: asymptomatic duration, Type: Disease Model Data Requirement\n",
      "id='containment rate' type='Disease Model Data Requirement' properties={}\n",
      "Node: containment rate, Type: Disease Model Data Requirement\n",
      "id='control reproduction numbers' type='Disease Model Data Requirement' properties={}\n",
      "Node: control reproduction numbers, Type: Disease Model Data Requirement\n",
      "Relationship: MODELED_IN\n",
      "   Source: COVID-19, Type: Disease Modeled\n",
      "   Target: Morocco, Type: Geographic Location\n",
      "Relationship: HAS_GOAL\n",
      "   Source: COVID-19, Type: Disease Modeled\n",
      "   Target: predict the impact of the compulsory containment on COVID-19 spread, Type: Disease Modeling Goal\n",
      "Relationship: HAS_GOAL\n",
      "   Source: COVID-19, Type: Disease Modeled\n",
      "   Target: establish an optimal plan-of-action to control the epidemic, Type: Disease Modeling Goal\n",
      "Relationship: USED_FOR\n",
      "   Source: Susceptible-Asymptomatic-Infectious model, Type: Diesase Modeling Technique\n",
      "   Target: COVID-19, Type: Disease Modeled\n",
      "Relationship: REQUIRES_DATA\n",
      "   Source: Susceptible-Asymptomatic-Infectious model, Type: Diesase Modeling Technique\n",
      "   Target: reported cumulative confirmed cases in Morocco, Type: Disease Model Data Requirement\n",
      "Relationship: REQUIRES_DATA\n",
      "   Source: Susceptible-Asymptomatic-Infectious model, Type: Diesase Modeling Technique\n",
      "   Target: March 2nd to April 9, 2020, Type: Disease Model Data Requirement\n",
      "Relationship: HAS_CHARACTERISTIC\n",
      "   Source: COVID-19, Type: Disease Modeled\n",
      "   Target: basic reproduction number, Type: Disease Model Data Requirement\n",
      "Relationship: HAS_CHARACTERISTIC\n",
      "   Source: COVID-19, Type: Disease Modeled\n",
      "   Target: control reproduction numbers, Type: Disease Model Data Requirement\n",
      "Relationship: HAS_CHARACTERISTIC\n",
      "   Source: COVID-19, Type: Disease Modeled\n",
      "   Target: model parameter values, Type: Disease Model Data Requirement\n",
      "Relationship: HAS_CHARACTERISTIC\n",
      "   Source: COVID-19, Type: Disease Modeled\n",
      "   Target: epidemic characteristics, Type: Disease Model Data Requirement\n",
      "Relationship: HAS_CHARACTERISTIC\n",
      "   Source: COVID-19, Type: Disease Modeled\n",
      "   Target: basic reproduction number, Type: Disease Model Data Requirement\n",
      "Relationship: HAS_CHARACTERISTIC\n",
      "   Source: COVID-19, Type: Disease Modeled\n",
      "   Target: containment rate, Type: Disease Model Data Requirement\n",
      "Relationship: HAS_CHARACTERISTIC\n",
      "   Source: COVID-19, Type: Disease Modeled\n",
      "   Target: epidemic duration, Type: Disease Model Data Requirement\n",
      "Relationship: HAS_CHARACTERISTIC\n",
      "   Source: COVID-19, Type: Disease Modeled\n",
      "   Target: end-time, Type: Disease Model Data Requirement\n",
      "Relationship: HAS_CHARACTERISTIC\n",
      "   Source: COVID-19, Type: Disease Modeled\n",
      "   Target: asymptomatic duration, Type: Disease Model Data Requirement\n",
      "Relationship: HAS_CHARACTERISTIC\n",
      "   Source: COVID-19, Type: Disease Modeled\n",
      "   Target: contact and containment rates, Type: Disease Model Data Requirement\n",
      "Relationship: HAS_GOAL\n",
      "   Source: COVID-19, Type: Disease Modeled\n",
      "   Target: anticipate the spread of COVID-19, Type: Disease Modeling Goal\n",
      "Relationship: HAS_GOAL\n",
      "   Source: COVID-19, Type: Disease Modeled\n",
      "   Target: avoid human loses and consequent social-economic damages, Type: Disease Modeling Goal\n",
      "\n"
     ]
    }
   ],
   "source": [
    "llm = OllamaLLM(model=\"mistral-small3.1:24b\", temperature=0.15)\n",
    "transformer = LLMGraphTransformer(llm=llm)\n",
    "\n",
    "transformer = LLMGraphTransformer(\n",
    "    llm=llm,\n",
    "    allowed_nodes=[\n",
    "        \"Disease Modeling Goal\",\n",
    "        \"Diesase Modeling Technique\",\n",
    "        \"Disease Model Data Requirement\",\n",
    "        \"Disease Modeled\",\n",
    "        \"Geographic Location\",\n",
    "    ],\n",
    ")\n",
    "\n",
    "# Process a subset of the documents as a test\n",
    "graph_documents = transformer.convert_to_graph_documents(documents[:1])\n",
    "\n",
    "print_graph_results(graph_documents)"
   ]
  },
  {
   "cell_type": "markdown",
   "id": "76520b5d",
   "metadata": {},
   "source": [
    "Relationships can be constrained as well. Either the names of the relatioships can be specificed, and the model will infter the nodes that are connected by these relationships, or allowed subject-predicate-object tuples can be specified."
   ]
  },
  {
   "cell_type": "code",
   "execution_count": 22,
   "id": "63ec0b10",
   "metadata": {},
   "outputs": [
    {
     "name": "stdout",
     "output_type": "stream",
     "text": [
      "Paper ID: None\n",
      "Paper Abstract: Background: Since the appearance of the first case of COVID-19 in Morocco, the cumulative number of reported infectious cases continues to increase and, consequently, the government imposed the containment measure within the country. Our aim is to predict the impact of the compulsory containment on COVID-19 spread. Earlier knowledge of the epidemic characteristics of COVID-19 transmission related to Morocco will be of great interest to establish an optimal plan-of-action to control the epidemic.\n",
      "\n",
      "Method: Using a Susceptible-Asymptomatic-Infectious model and the data of reported cumulative confirmed cases in Morocco from March 2nd to April 9, 2020, we determined the basic and control reproduction numbers and we estimated the model parameter values. Furthermore, simulations of different scenarios of containment are performed.\n",
      "\n",
      "Results: Epidemic characteristics are predicted according to different rates of containment. The basic reproduction number is estimated to be 2.9949, with CI(2.6729-3.1485). Furthermore, a threshold value of containment rate, below which the epidemic duration is postponed, is determined.\n",
      "\n",
      "Conclusion: Our findings show that the basic reproduction number reflects a high speed of spread of the epidemic. Furthermore, the compulsory containment can be efficient if more than 73% of population are confined. However, even with 90% of containment, the end-time is estimated to happen on July 4th which can be harmful and lead to consequent social-economic damages. Thus, containment need to be accompanied by other measures such as mass testing to reduce the size of asymptomatic population. Indeed, our sensitivity analysis investigation shows that the COVID-19 dynamics depends strongly on the asymptomatic duration as well as the contact and containment rates. Our results can help the Moroccan government to anticipate the spread of COVID-19 and avoid human loses and consequent social-economic damages as well.\n",
      "id='Morocco' type='Geographic Location' properties={}\n",
      "Node: Morocco, Type: Geographic Location\n",
      "id='COVID-19' type='Disease Modeled' properties={}\n",
      "Node: COVID-19, Type: Disease Modeled\n",
      "Relationship: LOCATION\n",
      "   Source: COVID-19, Type: Disease Modeled\n",
      "   Target: Morocco, Type: Geographic Location\n",
      "\n"
     ]
    }
   ],
   "source": [
    "allowed_relationships = [\n",
    "    (\"Disease Modeled\", \"LOCATION\", \"Geographic Location\"),\n",
    "]\n",
    "\n",
    "transformer = LLMGraphTransformer(\n",
    "    llm=llm,\n",
    "    allowed_nodes=[\n",
    "        \"Disease Modeling Goal\",\n",
    "        \"Diesase Modeling Technique\",\n",
    "        \"Disease Model Data Requirement\",\n",
    "        \"Disease Modeled\",\n",
    "        \"Geographic Location\",\n",
    "    ],\n",
    "    allowed_relationships=allowed_relationships,\n",
    ")\n",
    "\n",
    "# Process a subset of the documents as a test\n",
    "graph_documents = transformer.convert_to_graph_documents(documents[:1])\n",
    "\n",
    "print_graph_results(graph_documents)"
   ]
  },
  {
   "cell_type": "markdown",
   "id": "9bd6a83c",
   "metadata": {},
   "source": [
    "Node and relationship properties can also be extracted from the data. These can either be specified as a list of properties, or the model can be allowed to infer them.\n",
    "\n",
    "For infering node/relationship properties, LLMGraphTransformer requires that the model supports tool usage. Tool usage is only available using LangChain chat models (e.g. ChatOllama), and only a subset of models support tool usage. Inferring properties takes additionl time, since the process requires multiple LLM calls.\n",
    "\n",
    "Unfortunately, the following code does not identify any graph elements, despite different Ollama models being used, that support tool usage."
   ]
  },
  {
   "cell_type": "code",
   "execution_count": null,
   "id": "0147149c",
   "metadata": {},
   "outputs": [],
   "source": [
    "from langchain_ollama import ChatOllama\n",
    "\n",
    "llm = ChatOllama(model=\"mistral-small3.1:24b\", temperature=0.15)\n",
    "\n",
    "transformer = LLMGraphTransformer(\n",
    "    llm=llm,\n",
    "    allowed_nodes=[\n",
    "        \"Disease Modeling Goal\",\n",
    "        \"Diesase Modeling Technique\",\n",
    "        \"Disease Model Data Requirement\",\n",
    "        \"Disease Modeled\",\n",
    "        \"Geographic Location\",\n",
    "    ],\n",
    "    allowed_relationships=[],\n",
    "    # node_properties=True,\n",
    "    # relationship_properties=True,\n",
    ")\n",
    "\n",
    "# Process a subset of the documents as a test\n",
    "graph_documents = transformer.convert_to_graph_documents(documents[:1])\n",
    "\n",
    "print_graph_results(graph_documents)"
   ]
  },
  {
   "cell_type": "code",
   "execution_count": null,
   "id": "619ce02f",
   "metadata": {},
   "outputs": [
    {
     "name": "stdout",
     "output_type": "stream",
     "text": [
      "Collecting langchain-huggingface\n",
      "  Downloading langchain_huggingface-0.3.0-py3-none-any.whl.metadata (996 bytes)\n",
      "Requirement already satisfied: langchain-core<1.0.0,>=0.3.65 in /Users/saxman/devel/genscai/.venv/lib/python3.11/site-packages (from langchain-huggingface) (0.3.66)\n",
      "Requirement already satisfied: tokenizers>=0.19.1 in /Users/saxman/devel/genscai/.venv/lib/python3.11/site-packages (from langchain-huggingface) (0.21.1)\n",
      "Requirement already satisfied: huggingface-hub>=0.30.2 in /Users/saxman/devel/genscai/.venv/lib/python3.11/site-packages (from langchain-huggingface) (0.33.0)\n",
      "Requirement already satisfied: filelock in /Users/saxman/devel/genscai/.venv/lib/python3.11/site-packages (from huggingface-hub>=0.30.2->langchain-huggingface) (3.18.0)\n",
      "Requirement already satisfied: fsspec>=2023.5.0 in /Users/saxman/devel/genscai/.venv/lib/python3.11/site-packages (from huggingface-hub>=0.30.2->langchain-huggingface) (2025.5.1)\n",
      "Requirement already satisfied: packaging>=20.9 in /Users/saxman/devel/genscai/.venv/lib/python3.11/site-packages (from huggingface-hub>=0.30.2->langchain-huggingface) (24.2)\n",
      "Requirement already satisfied: pyyaml>=5.1 in /Users/saxman/devel/genscai/.venv/lib/python3.11/site-packages (from huggingface-hub>=0.30.2->langchain-huggingface) (6.0.2)\n",
      "Requirement already satisfied: requests in /Users/saxman/devel/genscai/.venv/lib/python3.11/site-packages (from huggingface-hub>=0.30.2->langchain-huggingface) (2.32.4)\n",
      "Requirement already satisfied: tqdm>=4.42.1 in /Users/saxman/devel/genscai/.venv/lib/python3.11/site-packages (from huggingface-hub>=0.30.2->langchain-huggingface) (4.67.1)\n",
      "Requirement already satisfied: typing-extensions>=3.7.4.3 in /Users/saxman/devel/genscai/.venv/lib/python3.11/site-packages (from huggingface-hub>=0.30.2->langchain-huggingface) (4.14.0)\n",
      "Requirement already satisfied: hf-xet<2.0.0,>=1.1.2 in /Users/saxman/devel/genscai/.venv/lib/python3.11/site-packages (from huggingface-hub>=0.30.2->langchain-huggingface) (1.1.5)\n",
      "Requirement already satisfied: langsmith>=0.3.45 in /Users/saxman/devel/genscai/.venv/lib/python3.11/site-packages (from langchain-core<1.0.0,>=0.3.65->langchain-huggingface) (0.4.1)\n",
      "Requirement already satisfied: tenacity!=8.4.0,<10.0.0,>=8.1.0 in /Users/saxman/devel/genscai/.venv/lib/python3.11/site-packages (from langchain-core<1.0.0,>=0.3.65->langchain-huggingface) (9.1.2)\n",
      "Requirement already satisfied: jsonpatch<2.0,>=1.33 in /Users/saxman/devel/genscai/.venv/lib/python3.11/site-packages (from langchain-core<1.0.0,>=0.3.65->langchain-huggingface) (1.33)\n",
      "Requirement already satisfied: pydantic>=2.7.4 in /Users/saxman/devel/genscai/.venv/lib/python3.11/site-packages (from langchain-core<1.0.0,>=0.3.65->langchain-huggingface) (2.11.7)\n",
      "Requirement already satisfied: jsonpointer>=1.9 in /Users/saxman/devel/genscai/.venv/lib/python3.11/site-packages (from jsonpatch<2.0,>=1.33->langchain-core<1.0.0,>=0.3.65->langchain-huggingface) (3.0.0)\n",
      "Requirement already satisfied: httpx<1,>=0.23.0 in /Users/saxman/devel/genscai/.venv/lib/python3.11/site-packages (from langsmith>=0.3.45->langchain-core<1.0.0,>=0.3.65->langchain-huggingface) (0.28.1)\n",
      "Requirement already satisfied: orjson<4.0.0,>=3.9.14 in /Users/saxman/devel/genscai/.venv/lib/python3.11/site-packages (from langsmith>=0.3.45->langchain-core<1.0.0,>=0.3.65->langchain-huggingface) (3.10.18)\n",
      "Requirement already satisfied: requests-toolbelt<2.0.0,>=1.0.0 in /Users/saxman/devel/genscai/.venv/lib/python3.11/site-packages (from langsmith>=0.3.45->langchain-core<1.0.0,>=0.3.65->langchain-huggingface) (1.0.0)\n",
      "Requirement already satisfied: zstandard<0.24.0,>=0.23.0 in /Users/saxman/devel/genscai/.venv/lib/python3.11/site-packages (from langsmith>=0.3.45->langchain-core<1.0.0,>=0.3.65->langchain-huggingface) (0.23.0)\n",
      "Requirement already satisfied: annotated-types>=0.6.0 in /Users/saxman/devel/genscai/.venv/lib/python3.11/site-packages (from pydantic>=2.7.4->langchain-core<1.0.0,>=0.3.65->langchain-huggingface) (0.7.0)\n",
      "Requirement already satisfied: pydantic-core==2.33.2 in /Users/saxman/devel/genscai/.venv/lib/python3.11/site-packages (from pydantic>=2.7.4->langchain-core<1.0.0,>=0.3.65->langchain-huggingface) (2.33.2)\n",
      "Requirement already satisfied: typing-inspection>=0.4.0 in /Users/saxman/devel/genscai/.venv/lib/python3.11/site-packages (from pydantic>=2.7.4->langchain-core<1.0.0,>=0.3.65->langchain-huggingface) (0.4.1)\n",
      "Requirement already satisfied: charset_normalizer<4,>=2 in /Users/saxman/devel/genscai/.venv/lib/python3.11/site-packages (from requests->huggingface-hub>=0.30.2->langchain-huggingface) (3.4.2)\n",
      "Requirement already satisfied: idna<4,>=2.5 in /Users/saxman/devel/genscai/.venv/lib/python3.11/site-packages (from requests->huggingface-hub>=0.30.2->langchain-huggingface) (3.10)\n",
      "Requirement already satisfied: urllib3<3,>=1.21.1 in /Users/saxman/devel/genscai/.venv/lib/python3.11/site-packages (from requests->huggingface-hub>=0.30.2->langchain-huggingface) (2.5.0)\n",
      "Requirement already satisfied: certifi>=2017.4.17 in /Users/saxman/devel/genscai/.venv/lib/python3.11/site-packages (from requests->huggingface-hub>=0.30.2->langchain-huggingface) (2025.6.15)\n",
      "Requirement already satisfied: anyio in /Users/saxman/devel/genscai/.venv/lib/python3.11/site-packages (from httpx<1,>=0.23.0->langsmith>=0.3.45->langchain-core<1.0.0,>=0.3.65->langchain-huggingface) (4.9.0)\n",
      "Requirement already satisfied: httpcore==1.* in /Users/saxman/devel/genscai/.venv/lib/python3.11/site-packages (from httpx<1,>=0.23.0->langsmith>=0.3.45->langchain-core<1.0.0,>=0.3.65->langchain-huggingface) (1.0.9)\n",
      "Requirement already satisfied: h11>=0.16 in /Users/saxman/devel/genscai/.venv/lib/python3.11/site-packages (from httpcore==1.*->httpx<1,>=0.23.0->langsmith>=0.3.45->langchain-core<1.0.0,>=0.3.65->langchain-huggingface) (0.16.0)\n",
      "Requirement already satisfied: sniffio>=1.1 in /Users/saxman/devel/genscai/.venv/lib/python3.11/site-packages (from anyio->httpx<1,>=0.23.0->langsmith>=0.3.45->langchain-core<1.0.0,>=0.3.65->langchain-huggingface) (1.3.1)\n",
      "Downloading langchain_huggingface-0.3.0-py3-none-any.whl (27 kB)\n",
      "Installing collected packages: langchain-huggingface\n",
      "Successfully installed langchain-huggingface-0.3.0\n",
      "Note: you may need to restart the kernel to use updated packages.\n"
     ]
    }
   ],
   "source": [
    "%pip install --quiet --upgrade langchain-huggingface"
   ]
  },
  {
   "cell_type": "code",
   "execution_count": null,
   "id": "d67c480a",
   "metadata": {},
   "outputs": [
    {
     "ename": "ValueError",
     "evalue": "The 'node_properties' and 'relationship_properties' parameters cannot be used in combination with a LLM that doesn't support native function calling.",
     "output_type": "error",
     "traceback": [
      "\u001b[31m---------------------------------------------------------------------------\u001b[39m",
      "\u001b[31mValueError\u001b[39m                                Traceback (most recent call last)",
      "\u001b[36mCell\u001b[39m\u001b[36m \u001b[39m\u001b[32mIn[44]\u001b[39m\u001b[32m, line 12\u001b[39m\n\u001b[32m      3\u001b[39m llm = HuggingFaceEndpoint(\n\u001b[32m      4\u001b[39m     repo_id=\u001b[33m\"\u001b[39m\u001b[33mHuggingFaceH4/zephyr-7b-beta\u001b[39m\u001b[33m\"\u001b[39m,\n\u001b[32m      5\u001b[39m     task=\u001b[33m\"\u001b[39m\u001b[33mconversational\u001b[39m\u001b[33m\"\u001b[39m,\n\u001b[32m      6\u001b[39m     max_new_tokens=\u001b[32m512\u001b[39m,\n\u001b[32m      7\u001b[39m     do_sample=\u001b[38;5;28;01mTrue\u001b[39;00m,\n\u001b[32m      8\u001b[39m )\n\u001b[32m     10\u001b[39m chat_model = ChatHuggingFace(llm=llm)\n\u001b[32m---> \u001b[39m\u001b[32m12\u001b[39m transformer = \u001b[43mLLMGraphTransformer\u001b[49m\u001b[43m(\u001b[49m\n\u001b[32m     13\u001b[39m \u001b[43m    \u001b[49m\u001b[43mllm\u001b[49m\u001b[43m=\u001b[49m\u001b[43mchat_model\u001b[49m\u001b[43m,\u001b[49m\n\u001b[32m     14\u001b[39m \u001b[43m    \u001b[49m\u001b[43mallowed_nodes\u001b[49m\u001b[43m=\u001b[49m\u001b[43m[\u001b[49m\n\u001b[32m     15\u001b[39m \u001b[43m        \u001b[49m\u001b[33;43m\"\u001b[39;49m\u001b[33;43mDisease Modeling Goal\u001b[39;49m\u001b[33;43m\"\u001b[39;49m\u001b[43m,\u001b[49m\n\u001b[32m     16\u001b[39m \u001b[43m        \u001b[49m\u001b[33;43m\"\u001b[39;49m\u001b[33;43mDiesase Modeling Technique\u001b[39;49m\u001b[33;43m\"\u001b[39;49m\u001b[43m,\u001b[49m\n\u001b[32m     17\u001b[39m \u001b[43m        \u001b[49m\u001b[33;43m\"\u001b[39;49m\u001b[33;43mDisease Model Data Requirement\u001b[39;49m\u001b[33;43m\"\u001b[39;49m\u001b[43m,\u001b[49m\n\u001b[32m     18\u001b[39m \u001b[43m        \u001b[49m\u001b[33;43m\"\u001b[39;49m\u001b[33;43mDisease Modeled\u001b[39;49m\u001b[33;43m\"\u001b[39;49m\u001b[43m,\u001b[49m\n\u001b[32m     19\u001b[39m \u001b[43m        \u001b[49m\u001b[33;43m\"\u001b[39;49m\u001b[33;43mGeographic Location\u001b[39;49m\u001b[33;43m\"\u001b[39;49m\u001b[43m,\u001b[49m\n\u001b[32m     20\u001b[39m \u001b[43m    \u001b[49m\u001b[43m]\u001b[49m\u001b[43m,\u001b[49m\n\u001b[32m     21\u001b[39m \u001b[43m    \u001b[49m\u001b[43mallowed_relationships\u001b[49m\u001b[43m=\u001b[49m\u001b[43m[\u001b[49m\u001b[43m]\u001b[49m\u001b[43m,\u001b[49m\n\u001b[32m     22\u001b[39m \u001b[43m    \u001b[49m\u001b[43mnode_properties\u001b[49m\u001b[43m=\u001b[49m\u001b[38;5;28;43;01mTrue\u001b[39;49;00m\u001b[43m,\u001b[49m\n\u001b[32m     23\u001b[39m \u001b[43m    \u001b[49m\u001b[43mrelationship_properties\u001b[49m\u001b[43m=\u001b[49m\u001b[38;5;28;43;01mTrue\u001b[39;49;00m\u001b[43m,\u001b[49m\n\u001b[32m     24\u001b[39m \u001b[43m)\u001b[49m\n\u001b[32m     26\u001b[39m \u001b[38;5;66;03m# Process a subset of the documents as a test\u001b[39;00m\n\u001b[32m     27\u001b[39m graph_documents = transformer.convert_to_graph_documents(documents[:\u001b[32m1\u001b[39m])\n",
      "\u001b[36mFile \u001b[39m\u001b[32m~/devel/genscai/.venv/lib/python3.11/site-packages/langchain_experimental/graph_transformers/llm.py:792\u001b[39m, in \u001b[36mLLMGraphTransformer.__init__\u001b[39m\u001b[34m(self, llm, allowed_nodes, allowed_relationships, prompt, strict_mode, node_properties, relationship_properties, ignore_tool_usage, additional_instructions)\u001b[39m\n\u001b[32m    790\u001b[39m \u001b[38;5;28;01mif\u001b[39;00m \u001b[38;5;129;01mnot\u001b[39;00m \u001b[38;5;28mself\u001b[39m._function_call:\n\u001b[32m    791\u001b[39m     \u001b[38;5;28;01mif\u001b[39;00m node_properties \u001b[38;5;129;01mor\u001b[39;00m relationship_properties:\n\u001b[32m--> \u001b[39m\u001b[32m792\u001b[39m         \u001b[38;5;28;01mraise\u001b[39;00m \u001b[38;5;167;01mValueError\u001b[39;00m(\n\u001b[32m    793\u001b[39m             \u001b[33m\"\u001b[39m\u001b[33mThe \u001b[39m\u001b[33m'\u001b[39m\u001b[33mnode_properties\u001b[39m\u001b[33m'\u001b[39m\u001b[33m and \u001b[39m\u001b[33m'\u001b[39m\u001b[33mrelationship_properties\u001b[39m\u001b[33m'\u001b[39m\u001b[33m parameters \u001b[39m\u001b[33m\"\u001b[39m\n\u001b[32m    794\u001b[39m             \u001b[33m\"\u001b[39m\u001b[33mcannot be used in combination with a LLM that doesn\u001b[39m\u001b[33m'\u001b[39m\u001b[33mt support \u001b[39m\u001b[33m\"\u001b[39m\n\u001b[32m    795\u001b[39m             \u001b[33m\"\u001b[39m\u001b[33mnative function calling.\u001b[39m\u001b[33m\"\u001b[39m\n\u001b[32m    796\u001b[39m         )\n\u001b[32m    797\u001b[39m     \u001b[38;5;28;01mtry\u001b[39;00m:\n\u001b[32m    798\u001b[39m         \u001b[38;5;28;01mimport\u001b[39;00m\u001b[38;5;250m \u001b[39m\u001b[34;01mjson_repair\u001b[39;00m  \u001b[38;5;66;03m# type: ignore\u001b[39;00m\n",
      "\u001b[31mValueError\u001b[39m: The 'node_properties' and 'relationship_properties' parameters cannot be used in combination with a LLM that doesn't support native function calling."
     ]
    }
   ],
   "source": [
    "from langchain_huggingface import ChatHuggingFace, HuggingFaceEndpoint\n",
    "\n",
    "llm = HuggingFaceEndpoint(\n",
    "    repo_id=\"HuggingFaceH4/zephyr-7b-beta\",\n",
    "    task=\"conversational\",\n",
    "    max_new_tokens=512,\n",
    "    do_sample=True,\n",
    ")\n",
    "\n",
    "chat_model = ChatHuggingFace(llm=llm)\n",
    "\n",
    "transformer = LLMGraphTransformer(\n",
    "    llm=chat_model,\n",
    "    allowed_nodes=[\n",
    "        \"Disease Modeling Goal\",\n",
    "        \"Diesase Modeling Technique\",\n",
    "        \"Disease Model Data Requirement\",\n",
    "        \"Disease Modeled\",\n",
    "        \"Geographic Location\",\n",
    "    ],\n",
    "    allowed_relationships=[],\n",
    "    # node_properties=True,\n",
    "    # relationship_properties=True,\n",
    ")\n",
    "\n",
    "# Process a subset of the documents as a test\n",
    "graph_documents = transformer.convert_to_graph_documents(documents[:1])\n",
    "\n",
    "print_graph_results(graph_documents)"
   ]
  }
 ],
 "metadata": {
  "kernelspec": {
   "display_name": "genscai",
   "language": "python",
   "name": "python3"
  },
  "language_info": {
   "codemirror_mode": {
    "name": "ipython",
    "version": 3
   },
   "file_extension": ".py",
   "mimetype": "text/x-python",
   "name": "python",
   "nbconvert_exporter": "python",
   "pygments_lexer": "ipython3",
   "version": "3.11.11"
  }
 },
 "nbformat": 4,
 "nbformat_minor": 5
}
