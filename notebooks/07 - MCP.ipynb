{
 "cells": [
  {
   "cell_type": "markdown",
   "id": "c9f246ce",
   "metadata": {},
   "source": [
    "# 08 - MCP"
   ]
  },
  {
   "cell_type": "markdown",
   "id": "a1e5b82f",
   "metadata": {},
   "source": [
    "## 01 - Setup\n",
    "\n",
    "Verify that the MedRxiv vector database has been created. If not, use script 07.1 and 07.2 to download and create the database."
   ]
  },
  {
   "cell_type": "code",
   "execution_count": null,
   "id": "05b6d900",
   "metadata": {},
   "outputs": [],
   "source": [
    "from genscai import paths\n",
    "import chromadb\n",
    "\n",
    "DB_PATH = str(paths.output / \"medrxiv.db\")\n",
    "\n",
    "client = chromadb.PersistentClient(path=DB_PATH)\n",
    "client.list_collections()"
   ]
  },
  {
   "cell_type": "markdown",
   "id": "a3d8e47c",
   "metadata": {},
   "source": [
    "Create an MCP client that uses the default genscai tools, which are defined in the genscai.tools module."
   ]
  },
  {
   "cell_type": "code",
   "execution_count": null,
   "id": "f3892ce1",
   "metadata": {},
   "outputs": [],
   "source": [
    "from aimu.tools import MCPClient\n",
    "\n",
    "# Required to allow nested event loops in Jupyter notebooks\n",
    "import nest_asyncio\n",
    "\n",
    "nest_asyncio.apply()\n",
    "\n",
    "mcp_client = MCPClient()\n",
    "\n",
    "tools = mcp_client.list_tools()\n",
    "for tool in tools:\n",
    "    print(f\"Tool Name: {tool.name}\")\n",
    "    print(f\"Description: {tool.description}\")\n",
    "    print(f\"Input schema: {tool.inputSchema}\")\n",
    "    print(\"-\" * 40)"
   ]
  },
  {
   "cell_type": "markdown",
   "id": "b45697f5",
   "metadata": {},
   "source": [
    "Call a tool directly verify that it works."
   ]
  },
  {
   "cell_type": "code",
   "execution_count": null,
   "id": "dc5027ad",
   "metadata": {},
   "outputs": [],
   "source": [
    "tool_results = mcp_client.call_tool(\"search_research_articles\", params={\"search_request\": \"malaria modeling\"})\n",
    "\n",
    "for result in tool_results:\n",
    "    print(f\"Result type: {result.type}\")\n",
    "    print(f\"Result text:\\n{result.text}\")"
   ]
  },
  {
   "cell_type": "markdown",
   "id": "5b3bbe05",
   "metadata": {},
   "source": [
    "## 02 - Chat with tools\n",
    "\n",
    "Set up a model client for a model that will use tools."
   ]
  },
  {
   "cell_type": "code",
   "execution_count": null,
   "id": "7bbe9d3c",
   "metadata": {},
   "outputs": [],
   "source": [
    "from aimu.models import OllamaClient\n",
    "\n",
    "model_client = OllamaClient(OllamaClient.MODEL_MISTRAL_SMALL_3_1_24B)\n",
    "\n",
    "response = model_client.chat_streamed(\n",
    "    {\n",
    "        \"role\": \"system\",\n",
    "        \"content\": \"You are a helpful assistant that can use tools to provide brief answers to questons about infectious diseases and disease modeling. Please briefly introduce yourself.\",\n",
    "    }\n",
    ")\n",
    "\n",
    "for chunk in response:\n",
    "    print(chunk, end=\"\", flush=True)"
   ]
  },
  {
   "cell_type": "markdown",
   "id": "cff40967",
   "metadata": {},
   "source": [
    "Send the model a request that should require a tool."
   ]
  },
  {
   "cell_type": "code",
   "execution_count": null,
   "id": "d9d66b53",
   "metadata": {},
   "outputs": [],
   "source": [
    "model_client.mcp_client = mcp_client\n",
    "\n",
    "response = model_client.chat_streamed(\n",
    "    {\"role\": \"user\", \"content\": \"current malaria modeling tools\"}, tools=mcp_client.get_tools()\n",
    ")\n",
    "\n",
    "for chunk in response:\n",
    "    print(chunk, end=\"\", flush=True)"
   ]
  },
  {
   "cell_type": "markdown",
   "id": "4718db93",
   "metadata": {},
   "source": [
    "Inspect the messages in thead, to verify that there was a tool request/response."
   ]
  },
  {
   "cell_type": "code",
   "execution_count": null,
   "id": "159b95ed",
   "metadata": {},
   "outputs": [],
   "source": [
    "model_client.messages"
   ]
  },
  {
   "cell_type": "markdown",
   "id": "ff578db7",
   "metadata": {},
   "source": [
    "## 03 - Test additional tools\n",
    "\n",
    "Create an new MCP client that includes additional tools."
   ]
  },
  {
   "cell_type": "code",
   "execution_count": null,
   "id": "0424dbda",
   "metadata": {},
   "outputs": [],
   "source": [
    "mcp_config = {\n",
    "    \"mcpServers\": {\n",
    "        \"genscai\": {\"command\": \"python\", \"args\": [\"../genscai/tools.py\"]},\n",
    "        \"gitmcp\": {\"url\": \"https://gitmcp.io/InstituteforDiseaseModeling/laser\"},\n",
    "    }\n",
    "}\n",
    "\n",
    "mcp_client = MCPClient(mcp_config)\n",
    "model_client.mcp_client = mcp_client  # Add the new MCP client to the model client\n",
    "\n",
    "tools = mcp_client.list_tools()\n",
    "for tool in tools:\n",
    "    print(f\"Tool Name: {tool.name}\")\n",
    "    print(f\"Description: {tool.description}\")\n",
    "    print(f\"Input schema: {tool.inputSchema}\")\n",
    "    print(\"-\" * 40)"
   ]
  },
  {
   "cell_type": "markdown",
   "id": "9257d93b",
   "metadata": {},
   "source": [
    "Send the model a request that requires the new tool."
   ]
  },
  {
   "cell_type": "code",
   "execution_count": null,
   "id": "4320d861",
   "metadata": {},
   "outputs": [],
   "source": [
    "response = model_client.chat_streamed(\n",
    "    {\"role\": \"user\", \"content\": \"how to build a malaria model using LASER\"}, tools=mcp_client.get_tools()\n",
    ")\n",
    "\n",
    "for chunk in response:\n",
    "    print(chunk, end=\"\", flush=True)"
   ]
  },
  {
   "cell_type": "markdown",
   "id": "13b80072",
   "metadata": {},
   "source": [
    "Inspect the messages."
   ]
  },
  {
   "cell_type": "code",
   "execution_count": null,
   "id": "506ce3cf",
   "metadata": {},
   "outputs": [],
   "source": [
    "model_client.messages"
   ]
  },
  {
   "cell_type": "markdown",
   "id": "f603adb8",
   "metadata": {},
   "source": [
    "Clean up. Delete the model client to ensure that the model can be removed from GPU memory."
   ]
  },
  {
   "cell_type": "code",
   "execution_count": null,
   "id": "2a50e2bc",
   "metadata": {},
   "outputs": [],
   "source": [
    "del model_client"
   ]
  }
 ],
 "metadata": {
  "kernelspec": {
   "display_name": ".venv",
   "language": "python",
   "name": "python3"
  },
  "language_info": {
   "codemirror_mode": {
    "name": "ipython",
    "version": 3
   },
   "file_extension": ".py",
   "mimetype": "text/x-python",
   "name": "python",
   "nbconvert_exporter": "python",
   "pygments_lexer": "ipython3",
   "version": "3.11.11"
  }
 },
 "nbformat": 4,
 "nbformat_minor": 5
}
