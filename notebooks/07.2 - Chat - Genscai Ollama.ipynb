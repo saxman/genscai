{
 "cells": [
  {
   "cell_type": "code",
   "execution_count": null,
   "id": "9fa0c0ab",
   "metadata": {},
   "outputs": [],
   "source": [
    "import ollama\n",
    "\n",
    "for model in ollama.list().models:\n",
    "    print(model.model)"
   ]
  },
  {
   "cell_type": "code",
   "id": "2ae36114",
   "metadata": {},
   "outputs": [],
   "source": "from aimu.models import OllamaClient as ModelClient\n\nclient = ModelClient(ModelClient.MODEL_MISTRAL_SMALL_3_1_24B)"
  },
  {
   "cell_type": "code",
   "execution_count": null,
   "id": "bfa674c0",
   "metadata": {},
   "outputs": [],
   "source": [
    "message = {\n",
    "    \"role\": \"system\",\n",
    "    \"content\": \"You are a helpful assistant that provides concise and accurate answers to questions. Please introduce yourself.\",\n",
    "}\n",
    "\n",
    "client.chat(message)"
   ]
  },
  {
   "cell_type": "code",
   "execution_count": null,
   "id": "5cae27d4",
   "metadata": {},
   "outputs": [],
   "source": [
    "client.messages"
   ]
  },
  {
   "cell_type": "code",
   "execution_count": null,
   "id": "7b457fa4",
   "metadata": {},
   "outputs": [],
   "source": [
    "message = {\"role\": \"user\", \"content\": \"What is the capital of France?\"}\n",
    "\n",
    "streamed_response = client.chat_streamed(message)\n",
    "\n",
    "for response_part in streamed_response:\n",
    "    print(response_part, end=\"\", flush=True)"
   ]
  },
  {
   "cell_type": "code",
   "execution_count": null,
   "id": "8e3118b7",
   "metadata": {},
   "outputs": [],
   "source": [
    "client.messages"
   ]
  },
  {
   "cell_type": "code",
   "execution_count": null,
   "id": "0320a716",
   "metadata": {},
   "outputs": [],
   "source": [
    "def get_current_temperature(location: str) -> float:\n",
    "    \"\"\"\n",
    "    Retrieve the current temperature for a given location.\n",
    "    \"\"\"\n",
    "\n",
    "    return 25.0\n",
    "\n",
    "\n",
    "tools = [get_current_temperature]\n",
    "message = {\"role\": \"user\", \"content\": \"What is the current temperature there?\"}\n",
    "\n",
    "client.chat(message, tools=tools)"
   ]
  },
  {
   "cell_type": "code",
   "execution_count": null,
   "id": "e6e045c1",
   "metadata": {},
   "outputs": [],
   "source": [
    "client.messages"
   ]
  },
  {
   "cell_type": "code",
   "execution_count": null,
   "id": "f37de278",
   "metadata": {},
   "outputs": [],
   "source": [
    "def get_current_weather(location: str) -> str:\n",
    "    \"\"\"\n",
    "    Retrieve the current weather conditions for a given location.\n",
    "    \"\"\"\n",
    "\n",
    "    return \"cloudy with a chance of rain\"\n",
    "\n",
    "\n",
    "tools.append(get_current_weather)\n",
    "\n",
    "message = {\"role\": \"user\", \"content\": \"What is the current weather there?\"}\n",
    "\n",
    "streamed_response = client.chat_streamed(message, tools=tools)\n",
    "\n",
    "for response_part in streamed_response:\n",
    "    print(response_part, end=\"\", flush=True)"
   ]
  },
  {
   "cell_type": "code",
   "execution_count": null,
   "id": "4c3be997",
   "metadata": {},
   "outputs": [],
   "source": [
    "client.messages"
   ]
  },
  {
   "cell_type": "code",
   "execution_count": null,
   "id": "9b0e7e9a",
   "metadata": {},
   "outputs": [],
   "source": [
    "message = {\"role\": \"user\", \"content\": \"What is the current weather and temperature in Washington DC?\"}\n",
    "\n",
    "streamed_response = client.chat_streamed(message, tools=tools)\n",
    "\n",
    "for response_part in streamed_response:\n",
    "    print(response_part, end=\"\", flush=True)"
   ]
  },
  {
   "cell_type": "code",
   "execution_count": null,
   "id": "6d10cbbd",
   "metadata": {},
   "outputs": [],
   "source": [
    "client.messages"
   ]
  }
 ],
 "metadata": {
  "kernelspec": {
   "display_name": ".venv",
   "language": "python",
   "name": "python3"
  },
  "language_info": {
   "codemirror_mode": {
    "name": "ipython",
    "version": 3
   },
   "file_extension": ".py",
   "mimetype": "text/x-python",
   "name": "python",
   "nbconvert_exporter": "python",
   "pygments_lexer": "ipython3",
   "version": "3.11.11"
  }
 },
 "nbformat": 4,
 "nbformat_minor": 5
}