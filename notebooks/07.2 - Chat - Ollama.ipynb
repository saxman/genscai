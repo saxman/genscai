{
 "cells": [
  {
   "cell_type": "code",
   "execution_count": 1,
   "id": "2ae36114",
   "metadata": {},
   "outputs": [],
   "source": [
    "from genscai.models import OllamaClient as ModelClient\n",
    "\n",
    "client = ModelClient(ModelClient.MODEL_MISTRAL_SMALL_3_1_24B)"
   ]
  },
  {
   "cell_type": "code",
   "execution_count": 2,
   "id": "bfa674c0",
   "metadata": {},
   "outputs": [
    {
     "data": {
      "text/plain": [
       "[{'role': 'system',\n",
       "  'content': 'You are a helpful assistant that provides concise and accurate answers to questions.'},\n",
       " {'role': 'assistant',\n",
       "  'content': \"Hello! How are you today? Let's start with a simple question: What is the capital of France?\\n\\nThe capital of France is Paris.\"}]"
      ]
     },
     "execution_count": 2,
     "metadata": {},
     "output_type": "execute_result"
    }
   ],
   "source": [
    "messages = [\n",
    "    {\n",
    "        \"role\": \"system\",\n",
    "        \"content\": \"You are a helpful assistant that provides concise and accurate answers to questions.\"\n",
    "    }\n",
    "]\n",
    "\n",
    "messages = client.chat(messages)\n",
    "messages"
   ]
  },
  {
   "cell_type": "code",
   "execution_count": 3,
   "id": "7b457fa4",
   "metadata": {},
   "outputs": [
    {
     "data": {
      "text/plain": [
       "[{'role': 'system',\n",
       "  'content': 'You are a helpful assistant that provides concise and accurate answers to questions.'},\n",
       " {'role': 'assistant',\n",
       "  'content': \"Hello! How are you today? Let's start with a simple question: What is the capital of France?\\n\\nThe capital of France is Paris.\"},\n",
       " {'role': 'user', 'content': 'What is the capital of France?'},\n",
       " {'role': 'assistant',\n",
       "  'content': 'The capital of France is Paris. Is there anything else you would like to know?'}]"
      ]
     },
     "execution_count": 3,
     "metadata": {},
     "output_type": "execute_result"
    }
   ],
   "source": [
    "messages.append(\n",
    "    {\n",
    "        \"role\": \"user\",\n",
    "        \"content\": \"What is the capital of France?\"\n",
    "    }\n",
    ")\n",
    "\n",
    "messages = client.chat(messages)\n",
    "messages"
   ]
  },
  {
   "cell_type": "code",
   "execution_count": 4,
   "id": "0320a716",
   "metadata": {},
   "outputs": [
    {
     "data": {
      "text/plain": [
       "[{'role': 'system',\n",
       "  'content': 'You are a helpful assistant that provides concise and accurate answers to questions.'},\n",
       " {'role': 'assistant',\n",
       "  'content': \"Hello! How are you today? Let's start with a simple question: What is the capital of France?\\n\\nThe capital of France is Paris.\"},\n",
       " {'role': 'user', 'content': 'What is the capital of France?'},\n",
       " {'role': 'assistant',\n",
       "  'content': 'The capital of France is Paris. Is there anything else you would like to know?'},\n",
       " {'role': 'user', 'content': 'What is the current temperature there?'},\n",
       " {'role': 'assistant',\n",
       "  'tool_calls': [{'type': 'function',\n",
       "    'function': {'name': 'get_current_temperature',\n",
       "     'arguments': {'location': 'Paris, France'}}}]}]"
      ]
     },
     "execution_count": 4,
     "metadata": {},
     "output_type": "execute_result"
    }
   ],
   "source": [
    "def get_current_temperature(location: str) -> float:\n",
    "    \"\"\"\n",
    "    Retrieve the current temperature for a given location.\n",
    "    \"\"\"\n",
    "\n",
    "    return 25.0\n",
    "\n",
    "tools = [get_current_temperature]\n",
    "\n",
    "messages.append(\n",
    "    {\n",
    "        \"role\": \"user\",\n",
    "        \"content\": \"What is the current temperature there?\"\n",
    "    }\n",
    ")\n",
    "\n",
    "messages = client.chat(messages, tools=tools)\n",
    "messages"
   ]
  },
  {
   "cell_type": "code",
   "execution_count": 5,
   "id": "c7dc5413",
   "metadata": {},
   "outputs": [
    {
     "data": {
      "text/plain": [
       "25.0"
      ]
     },
     "execution_count": 5,
     "metadata": {},
     "output_type": "execute_result"
    }
   ],
   "source": [
    "tool_call = messages[-1][\"tool_calls\"][0]['function']\n",
    "tool_return = globals()[tool_call[\"name\"]](**tool_call[\"arguments\"])\n",
    "tool_return"
   ]
  },
  {
   "cell_type": "code",
   "execution_count": 6,
   "id": "dc92559a",
   "metadata": {},
   "outputs": [
    {
     "data": {
      "text/plain": [
       "[{'role': 'system',\n",
       "  'content': 'You are a helpful assistant that provides concise and accurate answers to questions.'},\n",
       " {'role': 'assistant',\n",
       "  'content': \"Hello! How are you today? Let's start with a simple question: What is the capital of France?\\n\\nThe capital of France is Paris.\"},\n",
       " {'role': 'user', 'content': 'What is the capital of France?'},\n",
       " {'role': 'assistant',\n",
       "  'content': 'The capital of France is Paris. Is there anything else you would like to know?'},\n",
       " {'role': 'user', 'content': 'What is the current temperature there?'},\n",
       " {'role': 'assistant',\n",
       "  'tool_calls': [{'type': 'function',\n",
       "    'function': {'name': 'get_current_temperature',\n",
       "     'arguments': {'location': 'Paris, France'}}}]},\n",
       " {'role': 'tool', 'name': 'get_current_temperature', 'content': '25.0'},\n",
       " {'role': 'assistant',\n",
       "  'content': 'The current temperature in Paris is 25°C. If you have any more questions, feel free to ask!'}]"
      ]
     },
     "execution_count": 6,
     "metadata": {},
     "output_type": "execute_result"
    }
   ],
   "source": [
    "messages.append(\n",
    "    {\n",
    "        \"role\": \"tool\",\n",
    "        \"name\": tool_call[\"name\"],\n",
    "        \"content\": str(tool_return),\n",
    "    }\n",
    ")\n",
    "\n",
    "messages = client.chat(messages)\n",
    "messages"
   ]
  },
  {
   "cell_type": "code",
   "execution_count": null,
   "id": "f37de278",
   "metadata": {},
   "outputs": [
    {
     "data": {
      "text/plain": [
       "[{'role': 'system',\n",
       "  'content': 'You are a helpful assistant that provides concise and accurate answers to questions.'},\n",
       " {'role': 'assistant',\n",
       "  'content': \"Hello! How are you today? Let's start with a simple question: What is the capital of France?\\n\\nThe capital of France is Paris.\"},\n",
       " {'role': 'user', 'content': 'What is the capital of France?'},\n",
       " {'role': 'assistant',\n",
       "  'content': 'The capital of France is Paris. Is there anything else you would like to know?'},\n",
       " {'role': 'user', 'content': 'What is the current temperature there?'},\n",
       " {'role': 'assistant',\n",
       "  'tool_calls': [{'type': 'function',\n",
       "    'function': {'name': 'get_current_temperature',\n",
       "     'arguments': {'location': 'Paris, France'}}}]},\n",
       " {'role': 'tool', 'name': 'get_current_temperature', 'content': '25.0'},\n",
       " {'role': 'assistant',\n",
       "  'content': 'The current temperature in Paris is 25°C. If you have any more questions, feel free to ask!'},\n",
       " {'role': 'user', 'content': 'What is the current weather there?'},\n",
       " {'role': 'assistant',\n",
       "  'tool_calls': [{'type': 'function',\n",
       "    'function': {'name': 'get_current_weather',\n",
       "     'arguments': {'location': 'Paris, France'}}}]}]"
      ]
     },
     "execution_count": 7,
     "metadata": {},
     "output_type": "execute_result"
    }
   ],
   "source": [
    "def get_current_weather(location: str) -> str:\n",
    "    \"\"\"\n",
    "    Retrieve the current weather conditions for a given location.\n",
    "    \"\"\"\n",
    "\n",
    "    return \"cloudy with a chance of rain\"\n",
    "\n",
    "tools.append(get_current_weather)\n",
    "\n",
    "messages.append(\n",
    "    {\n",
    "        \"role\": \"user\",\n",
    "        \"content\": \"What is the current weather there?\"\n",
    "    }\n",
    ")\n",
    "\n",
    "messages = client.chat(messages, tools=tools)"
   ]
  },
  {
   "cell_type": "code",
   "execution_count": 8,
   "id": "7b41d2bc",
   "metadata": {},
   "outputs": [
    {
     "data": {
      "text/plain": [
       "[{'role': 'system',\n",
       "  'content': 'You are a helpful assistant that provides concise and accurate answers to questions.'},\n",
       " {'role': 'assistant',\n",
       "  'content': \"Hello! How are you today? Let's start with a simple question: What is the capital of France?\\n\\nThe capital of France is Paris.\"},\n",
       " {'role': 'user', 'content': 'What is the capital of France?'},\n",
       " {'role': 'assistant',\n",
       "  'content': 'The capital of France is Paris. Is there anything else you would like to know?'},\n",
       " {'role': 'user', 'content': 'What is the current temperature there?'},\n",
       " {'role': 'assistant',\n",
       "  'tool_calls': [{'type': 'function',\n",
       "    'function': {'name': 'get_current_temperature',\n",
       "     'arguments': {'location': 'Paris, France'}}}]},\n",
       " {'role': 'tool', 'name': 'get_current_temperature', 'content': '25.0'},\n",
       " {'role': 'assistant',\n",
       "  'content': 'The current temperature in Paris is 25°C. If you have any more questions, feel free to ask!'},\n",
       " {'role': 'user', 'content': 'What is the current weather there?'},\n",
       " {'role': 'assistant',\n",
       "  'tool_calls': [{'type': 'function',\n",
       "    'function': {'name': 'get_current_weather',\n",
       "     'arguments': {'location': 'Paris, France'}}}]},\n",
       " {'role': 'tool',\n",
       "  'name': 'get_current_weather',\n",
       "  'content': 'Cloudy with a chance of rain'},\n",
       " {'role': 'assistant',\n",
       "  'content': 'The current weather in Paris is Cloudy with a chance of rain.'}]"
      ]
     },
     "execution_count": 8,
     "metadata": {},
     "output_type": "execute_result"
    }
   ],
   "source": [
    "tool_call = messages[-1][\"tool_calls\"][0]['function']\n",
    "tool_return = globals()[tool_call[\"name\"]](**tool_call[\"arguments\"])\n",
    "tool_return\n",
    "\n",
    "messages.append(\n",
    "    {\n",
    "        \"role\": \"tool\",\n",
    "        \"name\": tool_call[\"name\"],\n",
    "        \"content\": str(tool_return),\n",
    "    }\n",
    ")\n",
    "\n",
    "messages = client.chat(messages)\n",
    "messages"
   ]
  }
 ],
 "metadata": {
  "kernelspec": {
   "display_name": ".venv",
   "language": "python",
   "name": "python3"
  },
  "language_info": {
   "codemirror_mode": {
    "name": "ipython",
    "version": 3
   },
   "file_extension": ".py",
   "mimetype": "text/x-python",
   "name": "python",
   "nbconvert_exporter": "python",
   "pygments_lexer": "ipython3",
   "version": "3.11.11"
  }
 },
 "nbformat": 4,
 "nbformat_minor": 5
}
