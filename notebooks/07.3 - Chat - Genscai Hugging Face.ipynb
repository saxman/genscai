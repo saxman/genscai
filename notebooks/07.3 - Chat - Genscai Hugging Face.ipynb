{
 "cells": [
  {
   "cell_type": "code",
   "execution_count": 1,
   "id": "a576b819",
   "metadata": {},
   "outputs": [],
   "source": [
    "import logging\n",
    "\n",
    "logging.basicConfig()\n",
    "logging.getLogger(\"genscai.models\").setLevel(logging.WARNING)"
   ]
  },
  {
   "cell_type": "code",
   "id": "2ae36114",
   "metadata": {},
   "outputs": [],
   "source": "from aimu.models import HuggingFaceClient as ModelClient\n\n# model_kwargs are optional so that the client is interchangeable with other clients. However, they can be specified for HuggngFace models.\nmodel_kwargs = {\n    \"torch_dtype\": \"auto\",\n    \"device_map\": \"auto\",\n}\n\nclient = ModelClient(ModelClient.MODEL_MISTRAL_SMALL_3_1_24B, model_kwargs)\n# client = ModelClient(ModelClient.MODEL_QWEN_3_8B, model_kwargs)"
  },
  {
   "cell_type": "code",
   "execution_count": 3,
   "id": "bfa674c0",
   "metadata": {},
   "outputs": [
    {
     "data": {
      "text/plain": [
       "\"Hello! I'm here to help you with any questions or information you need. Whether it's general knowledge, advice on specific topics, or just some friendly conversation, feel free to ask away. How can I assist you today?\""
      ]
     },
     "execution_count": 3,
     "metadata": {},
     "output_type": "execute_result"
    }
   ],
   "source": [
    "message = {\n",
    "    \"role\": client.system_role,\n",
    "    \"content\": \"You are a helpful assistant that provides concise and accurate answers to questions. Please introduce yourself.\",\n",
    "}\n",
    "\n",
    "generate_kwargs = {\n",
    "    \"max_new_tokens\": 1048,\n",
    "    \"temperature\": 0.15,\n",
    "    \"top_p\": 0.9,\n",
    "    \"repetition_penalty\": 1.2,\n",
    "}\n",
    "\n",
    "client.chat(message, generate_kwargs=generate_kwargs)"
   ]
  },
  {
   "cell_type": "code",
   "execution_count": 4,
   "id": "5cae27d4",
   "metadata": {},
   "outputs": [
    {
     "data": {
      "text/plain": [
       "[{'role': 'user',\n",
       "  'content': 'You are a helpful assistant that provides concise and accurate answers to questions. Please introduce yourself.'},\n",
       " {'role': 'assistant',\n",
       "  'content': \"Hello! I'm here to help you with any questions or information you need. Whether it's general knowledge, advice on specific topics, or just some friendly conversation, feel free to ask away. How can I assist you today?\"}]"
      ]
     },
     "execution_count": 4,
     "metadata": {},
     "output_type": "execute_result"
    }
   ],
   "source": [
    "client.messages"
   ]
  },
  {
   "cell_type": "code",
   "execution_count": 5,
   "id": "7b457fa4",
   "metadata": {},
   "outputs": [
    {
     "name": "stdout",
     "output_type": "stream",
     "text": [
      "The capital of France is Paris. It has been the country's main city since 508 AD and is known for its art, culture, cuisine, fashion, and iconic landmarks like the Eiffel Tower."
     ]
    }
   ],
   "source": [
    "message = {\"role\": \"user\", \"content\": \"What is the capital of France?\"}\n",
    "\n",
    "streamed_response = client.chat_streamed(message, generate_kwargs=generate_kwargs)\n",
    "\n",
    "for response_part in streamed_response:\n",
    "    print(response_part, end=\"\", flush=True)"
   ]
  },
  {
   "cell_type": "code",
   "execution_count": 6,
   "id": "8e3118b7",
   "metadata": {},
   "outputs": [
    {
     "data": {
      "text/plain": [
       "[{'role': 'user',\n",
       "  'content': 'You are a helpful assistant that provides concise and accurate answers to questions. Please introduce yourself.'},\n",
       " {'role': 'assistant',\n",
       "  'content': \"Hello! I'm here to help you with any questions or information you need. Whether it's general knowledge, advice on specific topics, or just some friendly conversation, feel free to ask away. How can I assist you today?\"},\n",
       " {'role': 'user', 'content': 'What is the capital of France?'},\n",
       " {'role': 'assistant',\n",
       "  'content': \"The capital of France is Paris. It has been the country's main city since 508 AD and is known for its art, culture, cuisine, fashion, and iconic landmarks like the Eiffel Tower.\"}]"
      ]
     },
     "execution_count": 6,
     "metadata": {},
     "output_type": "execute_result"
    }
   ],
   "source": [
    "client.messages"
   ]
  },
  {
   "cell_type": "code",
   "execution_count": 7,
   "id": "0320a716",
   "metadata": {},
   "outputs": [
    {
     "data": {
      "text/plain": [
       "'The current temperature in Paris is 25°C (77°F). Is there anything else you would like to know about Paris or anywhere else?'"
      ]
     },
     "execution_count": 7,
     "metadata": {},
     "output_type": "execute_result"
    }
   ],
   "source": [
    "def get_current_temperature(location: str) -> float:\n",
    "    \"\"\"\n",
    "    Retrieve the current temperature for a given location.\n",
    "\n",
    "    Args:\n",
    "        location: The name of the location for which to get the temperature.\n",
    "\n",
    "    Returns:\n",
    "        The current temperature in degrees Celsius.\n",
    "    \"\"\"\n",
    "\n",
    "    return 25.0\n",
    "\n",
    "\n",
    "tools = [get_current_temperature]\n",
    "message = {\"role\": \"user\", \"content\": \"What is the current temperature there?\"}\n",
    "\n",
    "client.chat(message, generate_kwargs=generate_kwargs, tools=tools)"
   ]
  },
  {
   "cell_type": "code",
   "execution_count": 8,
   "id": "e6e045c1",
   "metadata": {},
   "outputs": [
    {
     "data": {
      "text/plain": [
       "[{'role': 'user',\n",
       "  'content': 'You are a helpful assistant that provides concise and accurate answers to questions. Please introduce yourself.'},\n",
       " {'role': 'assistant',\n",
       "  'content': \"Hello! I'm here to help you with any questions or information you need. Whether it's general knowledge, advice on specific topics, or just some friendly conversation, feel free to ask away. How can I assist you today?\"},\n",
       " {'role': 'user', 'content': 'What is the capital of France?'},\n",
       " {'role': 'assistant',\n",
       "  'content': \"The capital of France is Paris. It has been the country's main city since 508 AD and is known for its art, culture, cuisine, fashion, and iconic landmarks like the Eiffel Tower.\"},\n",
       " {'role': 'user', 'content': 'What is the current temperature there?'},\n",
       " {'role': 'assistant',\n",
       "  'tool_calls': [{'type': 'function',\n",
       "    'function': {'name': 'get_current_temperature',\n",
       "     'arguments': {'location': 'Paris'}},\n",
       "    'id': '123456789'}]},\n",
       " {'role': 'tool',\n",
       "  'name': 'get_current_temperature',\n",
       "  'content': '25.0',\n",
       "  'tool_call_id': '123456789'},\n",
       " {'role': 'assistant',\n",
       "  'content': 'The current temperature in Paris is 25°C (77°F). Is there anything else you would like to know about Paris or anywhere else?'}]"
      ]
     },
     "execution_count": 8,
     "metadata": {},
     "output_type": "execute_result"
    }
   ],
   "source": [
    "client.messages"
   ]
  },
  {
   "cell_type": "code",
   "execution_count": 9,
   "id": "f37de278",
   "metadata": {},
   "outputs": [
    {
     "name": "stdout",
     "output_type": "stream",
     "text": [
      " The current weather in Paris is cloudy with a chance of rain. If you have more questions or need further assistance, feel free to ask!"
     ]
    }
   ],
   "source": [
    "def get_current_weather(location: str) -> str:\n",
    "    \"\"\"\n",
    "    Retrieve the current weather conditions for a given location.\n",
    "\n",
    "    Args:\n",
    "        location: The name of the location for which to get the weather.\n",
    "\n",
    "    Returns:\n",
    "        A string describing the current weather conditions.\n",
    "    \"\"\"\n",
    "\n",
    "    return \"cloudy with a chance of rain\"\n",
    "\n",
    "\n",
    "tools.append(get_current_weather)\n",
    "\n",
    "message = {\"role\": \"user\", \"content\": \"What is the current weather there?\"}\n",
    "\n",
    "streamed_response = client.chat_streamed(message, generate_kwargs=generate_kwargs, tools=tools)\n",
    "\n",
    "for response_part in streamed_response:\n",
    "    print(response_part, end=\"\", flush=True)"
   ]
  },
  {
   "cell_type": "code",
   "execution_count": 10,
   "id": "4c3be997",
   "metadata": {},
   "outputs": [
    {
     "data": {
      "text/plain": [
       "[{'role': 'user',\n",
       "  'content': 'You are a helpful assistant that provides concise and accurate answers to questions. Please introduce yourself.'},\n",
       " {'role': 'assistant',\n",
       "  'content': \"Hello! I'm here to help you with any questions or information you need. Whether it's general knowledge, advice on specific topics, or just some friendly conversation, feel free to ask away. How can I assist you today?\"},\n",
       " {'role': 'user', 'content': 'What is the capital of France?'},\n",
       " {'role': 'assistant',\n",
       "  'content': \"The capital of France is Paris. It has been the country's main city since 508 AD and is known for its art, culture, cuisine, fashion, and iconic landmarks like the Eiffel Tower.\"},\n",
       " {'role': 'user', 'content': 'What is the current temperature there?'},\n",
       " {'role': 'assistant',\n",
       "  'tool_calls': [{'type': 'function',\n",
       "    'function': {'name': 'get_current_temperature',\n",
       "     'arguments': {'location': 'Paris'}},\n",
       "    'id': '123456789'}]},\n",
       " {'role': 'tool',\n",
       "  'name': 'get_current_temperature',\n",
       "  'content': '25.0',\n",
       "  'tool_call_id': '123456789'},\n",
       " {'role': 'assistant',\n",
       "  'content': 'The current temperature in Paris is 25°C (77°F). Is there anything else you would like to know about Paris or anywhere else?'},\n",
       " {'role': 'user', 'content': 'What is the current weather there?'},\n",
       " {'role': 'assistant',\n",
       "  'tool_calls': [{'type': 'function',\n",
       "    'function': {'name': 'get_current_weather',\n",
       "     'arguments': {'location': 'Paris'}},\n",
       "    'id': '123456789'}]},\n",
       " {'role': 'tool',\n",
       "  'name': 'get_current_weather',\n",
       "  'content': 'cloudy with a chance of rain',\n",
       "  'tool_call_id': '123456789'},\n",
       " {'role': 'assistant',\n",
       "  'content': ' The current weather in Paris is cloudy with a chance of rain. If you have more questions or need further assistance, feel free to ask!'}]"
      ]
     },
     "execution_count": 10,
     "metadata": {},
     "output_type": "execute_result"
    }
   ],
   "source": [
    "client.messages"
   ]
  },
  {
   "cell_type": "code",
   "execution_count": 11,
   "id": "9b0e7e9a",
   "metadata": {},
   "outputs": [
    {
     "name": "stdout",
     "output_type": "stream",
     "text": [
      " The current temperature in Washington D.C. is 25°C (77°F) and the weather is cloudy with a chance of rain. Do you need help with something else?"
     ]
    }
   ],
   "source": [
    "message = {\"role\": \"user\", \"content\": \"What is the current weather and temperature in Washington DC?\"}\n",
    "\n",
    "streamed_response = client.chat_streamed(message, generate_kwargs=generate_kwargs, tools=tools)\n",
    "\n",
    "for response_part in streamed_response:\n",
    "    print(response_part, end=\"\", flush=True)"
   ]
  },
  {
   "cell_type": "code",
   "execution_count": 12,
   "id": "6d10cbbd",
   "metadata": {},
   "outputs": [
    {
     "data": {
      "text/plain": [
       "[{'role': 'user',\n",
       "  'content': 'You are a helpful assistant that provides concise and accurate answers to questions. Please introduce yourself.'},\n",
       " {'role': 'assistant',\n",
       "  'content': \"Hello! I'm here to help you with any questions or information you need. Whether it's general knowledge, advice on specific topics, or just some friendly conversation, feel free to ask away. How can I assist you today?\"},\n",
       " {'role': 'user', 'content': 'What is the capital of France?'},\n",
       " {'role': 'assistant',\n",
       "  'content': \"The capital of France is Paris. It has been the country's main city since 508 AD and is known for its art, culture, cuisine, fashion, and iconic landmarks like the Eiffel Tower.\"},\n",
       " {'role': 'user', 'content': 'What is the current temperature there?'},\n",
       " {'role': 'assistant',\n",
       "  'tool_calls': [{'type': 'function',\n",
       "    'function': {'name': 'get_current_temperature',\n",
       "     'arguments': {'location': 'Paris'}},\n",
       "    'id': '123456789'}]},\n",
       " {'role': 'tool',\n",
       "  'name': 'get_current_temperature',\n",
       "  'content': '25.0',\n",
       "  'tool_call_id': '123456789'},\n",
       " {'role': 'assistant',\n",
       "  'content': 'The current temperature in Paris is 25°C (77°F). Is there anything else you would like to know about Paris or anywhere else?'},\n",
       " {'role': 'user', 'content': 'What is the current weather there?'},\n",
       " {'role': 'assistant',\n",
       "  'tool_calls': [{'type': 'function',\n",
       "    'function': {'name': 'get_current_weather',\n",
       "     'arguments': {'location': 'Paris'}},\n",
       "    'id': '123456789'}]},\n",
       " {'role': 'tool',\n",
       "  'name': 'get_current_weather',\n",
       "  'content': 'cloudy with a chance of rain',\n",
       "  'tool_call_id': '123456789'},\n",
       " {'role': 'assistant',\n",
       "  'content': ' The current weather in Paris is cloudy with a chance of rain. If you have more questions or need further assistance, feel free to ask!'},\n",
       " {'role': 'user',\n",
       "  'content': 'What is the current weather and temperature in Washington DC?'},\n",
       " {'role': 'assistant',\n",
       "  'tool_calls': [{'type': 'function',\n",
       "    'function': {'name': 'get_current_temperature',\n",
       "     'arguments': {'location': 'Washington D.C.'}},\n",
       "    'id': '123456789'},\n",
       "   {'type': 'function',\n",
       "    'function': {'name': 'get_current_weather',\n",
       "     'arguments': {'location': 'Washington D.C.'}},\n",
       "    'id': '123456789'}]},\n",
       " {'role': 'tool',\n",
       "  'name': 'get_current_temperature',\n",
       "  'content': '25.0',\n",
       "  'tool_call_id': '123456789'},\n",
       " {'role': 'tool',\n",
       "  'name': 'get_current_weather',\n",
       "  'content': 'cloudy with a chance of rain',\n",
       "  'tool_call_id': '123456789'},\n",
       " {'role': 'assistant',\n",
       "  'content': ' The current temperature in Washington D.C. is 25°C (77°F) and the weather is cloudy with a chance of rain. Do you need help with something else?'}]"
      ]
     },
     "execution_count": 12,
     "metadata": {},
     "output_type": "execute_result"
    }
   ],
   "source": [
    "client.messages"
   ]
  }
 ],
 "metadata": {
  "kernelspec": {
   "display_name": ".venv",
   "language": "python",
   "name": "python3"
  },
  "language_info": {
   "codemirror_mode": {
    "name": "ipython",
    "version": 3
   },
   "file_extension": ".py",
   "mimetype": "text/x-python",
   "name": "python",
   "nbconvert_exporter": "python",
   "pygments_lexer": "ipython3",
   "version": "3.11.11"
  }
 },
 "nbformat": 4,
 "nbformat_minor": 5
}