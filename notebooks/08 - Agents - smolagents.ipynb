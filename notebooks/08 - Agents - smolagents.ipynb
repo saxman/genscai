{
 "cells": [
  {
   "cell_type": "code",
   "execution_count": null,
   "id": "6dbdeac9",
   "metadata": {},
   "outputs": [],
   "source": [
    "%pip install \"smolagents[toolkit]\" litellm"
   ]
  },
  {
   "cell_type": "code",
   "execution_count": null,
   "id": "98eba51c",
   "metadata": {},
   "outputs": [],
   "source": [
    "from smolagents import CodeAgent, WebSearchTool, LiteLLMModel\n",
    "\n",
    "model = LiteLLMModel(\n",
    "    model_id='ollama_chat/qwen3:8b'\n",
    "    # model_id='ollama_chat/gpt-oss:20b'\n",
    ")\n",
    "\n",
    "agent = CodeAgent(tools=[WebSearchTool()], model=model, stream_outputs=True)\n",
    "\n",
    "agent.run(\"How many seconds would it take for a leopard at full speed to run through Pont des Arts?\")"
   ]
  }
 ],
 "metadata": {
  "kernelspec": {
   "display_name": "genscai (3.11.11)",
   "language": "python",
   "name": "python3"
  },
  "language_info": {
   "codemirror_mode": {
    "name": "ipython",
    "version": 3
   },
   "file_extension": ".py",
   "mimetype": "text/x-python",
   "name": "python",
   "nbconvert_exporter": "python",
   "pygments_lexer": "ipython3",
   "version": "3.11.11"
  }
 },
 "nbformat": 4,
 "nbformat_minor": 5
}
