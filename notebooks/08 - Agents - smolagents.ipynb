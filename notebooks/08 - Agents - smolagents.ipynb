{
 "cells": [
  {
   "cell_type": "code",
   "execution_count": null,
   "id": "bee1e72f",
   "metadata": {},
   "outputs": [],
   "source": [
    "import ollama\n",
    "ollama.pull('qwen2.5-coder:14b')"
   ]
  },
  {
   "cell_type": "code",
   "execution_count": null,
   "id": "6f2d4480",
   "metadata": {},
   "outputs": [],
   "source": [
    "for model in ollama.list().models:\n",
    "    print(model.model)"
   ]
  },
  {
   "cell_type": "code",
   "execution_count": null,
   "id": "98eba51c",
   "metadata": {},
   "outputs": [],
   "source": [
    "from smolagents import LiteLLMModel\n",
    "\n",
    "model = LiteLLMModel(\n",
    "    # model_id='ollama_chat/qwen3:8b'\n",
    "    model_id='ollama_chat/qwen2.5-coder:14b'\n",
    ")"
   ]
  },
  {
   "cell_type": "code",
   "execution_count": null,
   "id": "32193e1e",
   "metadata": {},
   "outputs": [],
   "source": [
    "from smolagents import TransformersModel\n",
    "\n",
    "model = TransformersModel(\n",
    "    # model_id='Qwen/Qwen3-Coder-30B-A3B-Instruct-FP8'\n",
    "    # model_id='Qwen/Qwen2.5-Coder-1.5B-Instruct'\n",
    "    model_id='Qwen/Qwen2.5-Coder-7B-Instruct'\n",
    ")"
   ]
  },
  {
   "cell_type": "code",
   "execution_count": null,
   "id": "29870d28",
   "metadata": {},
   "outputs": [],
   "source": [
    "from smolagents import CodeAgent, WebSearchTool\n",
    "\n",
    "agent = CodeAgent(tools=[WebSearchTool()], model=model, stream_outputs=True)\n",
    "\n",
    "agent.run(\"How many seconds would it take for a leopard at full speed to run through Pont des Arts?\")"
   ]
  }
 ],
 "metadata": {
  "kernelspec": {
   "display_name": "genscai (3.11.11)",
   "language": "python",
   "name": "python3"
  },
  "language_info": {
   "codemirror_mode": {
    "name": "ipython",
    "version": 3
   },
   "file_extension": ".py",
   "mimetype": "text/x-python",
   "name": "python",
   "nbconvert_exporter": "python",
   "pygments_lexer": "ipython3",
   "version": "3.11.11"
  }
 },
 "nbformat": 4,
 "nbformat_minor": 5
}
