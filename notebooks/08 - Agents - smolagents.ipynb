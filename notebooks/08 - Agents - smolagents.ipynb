{
 "cells": [
  {
   "cell_type": "markdown",
   "id": "9781e29b",
   "metadata": {},
   "source": [
    "To use a local model via Ollama, the model first needs to be downloaded."
   ]
  },
  {
   "cell_type": "code",
   "execution_count": null,
   "id": "bee1e72f",
   "metadata": {},
   "outputs": [],
   "source": [
    "import ollama\n",
    "\n",
    "ollama.pull(\"qwen3-coder:30b\")\n",
    "\n",
    "for model in ollama.list().models:\n",
    "    print(model.model)"
   ]
  },
  {
   "cell_type": "code",
   "execution_count": null,
   "id": "98eba51c",
   "metadata": {},
   "outputs": [],
   "source": [
    "from smolagents import LiteLLMModel\n",
    "\n",
    "model = LiteLLMModel(model_id=\"ollama_chat/qwen3-coder:30b\")"
   ]
  },
  {
   "cell_type": "code",
   "execution_count": null,
   "id": "32193e1e",
   "metadata": {},
   "outputs": [],
   "source": [
    "from smolagents import TransformersModel\n",
    "\n",
    "model = TransformersModel(\n",
    "    # model_id='Qwen/Qwen3-Coder-30B-A3B-Instruct-FP8'\n",
    "    # model_id='Qwen/Qwen2.5-Coder-1.5B-Instruct'\n",
    "    model_id=\"Qwen/Qwen2.5-Coder-7B-Instruct\"\n",
    ")"
   ]
  },
  {
   "cell_type": "code",
   "execution_count": null,
   "id": "0629a01e",
   "metadata": {},
   "outputs": [],
   "source": [
    "from dotenv import load_dotenv\n",
    "\n",
    "load_dotenv()"
   ]
  },
  {
   "cell_type": "code",
   "execution_count": null,
   "id": "e361d40c",
   "metadata": {},
   "outputs": [],
   "source": [
    "import os\n",
    "from smolagents import OpenAIServerModel\n",
    "\n",
    "model = OpenAIServerModel(\n",
    "    model_id=\"openai/gpt-4o\",\n",
    "    api_key=os.environ[\"OPENAI_API_KEY\"],  # Switch to the API key for the server you're targeting.\n",
    ")"
   ]
  },
  {
   "cell_type": "code",
   "execution_count": null,
   "id": "29870d28",
   "metadata": {},
   "outputs": [],
   "source": [
    "from smolagents import CodeAgent, WebSearchTool\n",
    "\n",
    "agent = CodeAgent(tools=[WebSearchTool()], model=model, stream_outputs=True)\n",
    "\n",
    "agent.run(\"How many seconds would it take for a leopard at full speed to run through Pont des Arts?\")"
   ]
  }
 ],
 "metadata": {
  "kernelspec": {
   "display_name": "genscai (3.11.11)",
   "language": "python",
   "name": "python3"
  },
  "language_info": {
   "codemirror_mode": {
    "name": "ipython",
    "version": 3
   },
   "file_extension": ".py",
   "mimetype": "text/x-python",
   "name": "python",
   "nbconvert_exporter": "python",
   "pygments_lexer": "ipython3",
   "version": "3.11.11"
  }
 },
 "nbformat": 4,
 "nbformat_minor": 5
}
