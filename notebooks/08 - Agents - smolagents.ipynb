{
 "cells": [
  {
   "cell_type": "code",
   "execution_count": null,
   "id": "6dbdeac9",
   "metadata": {},
   "outputs": [],
   "source": [
    "%pip install \"smolagents[toolkit]\" litellm"
   ]
  },
  {
   "cell_type": "code",
   "execution_count": null,
   "id": "98eba51c",
   "metadata": {},
   "outputs": [],
   "source": [
    "from smolagents import LiteLLMModel\n",
    "\n",
    "model = LiteLLMModel(\n",
    "    # model_id='ollama_chat/qwen3:8b'\n",
    "    model_id='ollama_chat/qwen2.5-coder:32b'\n",
    ")"
   ]
  },
  {
   "cell_type": "code",
   "execution_count": null,
   "id": "32193e1e",
   "metadata": {},
   "outputs": [],
   "source": [
    "from smolagents import TransformersModel\n",
    "\n",
    "model = TransformersModel(\n",
    "    # model_id='Qwen/Qwen3-Coder-30B-A3B-Instruct-FP8'\n",
    "    # model_id='Qwen/Qwen2.5-Coder-1.5B-Instruct'\n",
    "    model_id='Qwen/Qwen2.5-Coder-7B-Instruct'\n",
    ")"
   ]
  },
  {
   "cell_type": "code",
   "execution_count": null,
   "id": "29870d28",
   "metadata": {},
   "outputs": [],
   "source": [
    "from smolagents import CodeAgent, WebSearchTool\n",
    "\n",
    "agent = CodeAgent(tools=[WebSearchTool()], model=model, stream_outputs=True)\n",
    "\n",
    "agent.run(\"How many seconds would it take for a leopard at full speed to run through Pont des Arts?\")"
   ]
  }
 ],
 "metadata": {
  "kernelspec": {
   "display_name": "genscai (3.11.11)",
   "language": "python",
   "name": "python3"
  },
  "language_info": {
   "codemirror_mode": {
    "name": "ipython",
    "version": 3
   },
   "file_extension": ".py",
   "mimetype": "text/x-python",
   "name": "python",
   "nbconvert_exporter": "python",
   "pygments_lexer": "ipython3",
   "version": "3.11.11"
  }
 },
 "nbformat": 4,
 "nbformat_minor": 5
}
