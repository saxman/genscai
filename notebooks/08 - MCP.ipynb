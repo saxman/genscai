{
 "cells": [
  {
   "cell_type": "code",
   "execution_count": null,
   "id": "f3892ce1",
   "metadata": {},
   "outputs": [
    {
     "name": "stdout",
     "output_type": "stream",
     "text": [
      "name='search_research_articles' description='\\n    Search for current research articles in infectious diseases and disease modeling per a given search request.\\n\\n    Args:\\n        search_request: The information that the user is looking for.\\n\\n    Returns:\\n        Current research articles on infectious diseases and disease modeling for the given topic.\\n    ' inputSchema={'properties': {'search_request': {'title': 'Search Request', 'type': 'string'}}, 'required': ['search_request'], 'title': 'search_research_articlesArguments', 'type': 'object'} annotations=None\n",
      "Tool Name: search_research_articles\n",
      "Description: \n",
      "    Search for current research articles in infectious diseases and disease modeling per a given search request.\n",
      "\n",
      "    Args:\n",
      "        search_request: The information that the user is looking for.\n",
      "\n",
      "    Returns:\n",
      "        Current research articles on infectious diseases and disease modeling for the given topic.\n",
      "    \n",
      "Input schema: {'properties': {'search_request': {'title': 'Search Request', 'type': 'string'}}, 'required': ['search_request'], 'title': 'search_research_articlesArguments', 'type': 'object'}\n"
     ]
    },
    {
     "ename": "AttributeError",
     "evalue": "'Tool' object has no attribute 'outputSchema'",
     "output_type": "error",
     "traceback": [
      "\u001b[31m---------------------------------------------------------------------------\u001b[39m",
      "\u001b[31mAttributeError\u001b[39m                            Traceback (most recent call last)",
      "\u001b[36mCell\u001b[39m\u001b[36m \u001b[39m\u001b[32mIn[8]\u001b[39m\u001b[32m, line 14\u001b[39m\n\u001b[32m     12\u001b[39m \u001b[38;5;28mprint\u001b[39m(\u001b[33mf\u001b[39m\u001b[33m\"\u001b[39m\u001b[33mDescription: \u001b[39m\u001b[38;5;132;01m{\u001b[39;00mtool.description\u001b[38;5;132;01m}\u001b[39;00m\u001b[33m\"\u001b[39m)\n\u001b[32m     13\u001b[39m \u001b[38;5;28mprint\u001b[39m(\u001b[33mf\u001b[39m\u001b[33m\"\u001b[39m\u001b[33mInput schema: \u001b[39m\u001b[38;5;132;01m{\u001b[39;00mtool.inputSchema\u001b[38;5;132;01m}\u001b[39;00m\u001b[33m\"\u001b[39m)\n\u001b[32m---> \u001b[39m\u001b[32m14\u001b[39m \u001b[38;5;28mprint\u001b[39m(\u001b[33mf\u001b[39m\u001b[33m\"\u001b[39m\u001b[33mOutput schema: \u001b[39m\u001b[38;5;132;01m{\u001b[39;00m\u001b[43mtool\u001b[49m\u001b[43m.\u001b[49m\u001b[43moutputSchema\u001b[49m\u001b[38;5;132;01m}\u001b[39;00m\u001b[33m\"\u001b[39m)\n\u001b[32m     15\u001b[39m \u001b[38;5;28mprint\u001b[39m(\u001b[33mf\u001b[39m\u001b[33m\"\u001b[39m\u001b[33mTool URL: \u001b[39m\u001b[38;5;132;01m{\u001b[39;00mtool.url\u001b[38;5;132;01m}\u001b[39;00m\u001b[33m\"\u001b[39m)\n\u001b[32m     16\u001b[39m \u001b[38;5;28mprint\u001b[39m(\u001b[33mf\u001b[39m\u001b[33m\"\u001b[39m\u001b[33mTool Version: \u001b[39m\u001b[38;5;132;01m{\u001b[39;00mtool.version\u001b[38;5;132;01m}\u001b[39;00m\u001b[33m\"\u001b[39m)\n",
      "\u001b[36mFile \u001b[39m\u001b[32m~/devel/genscai/.venv/lib/python3.11/site-packages/pydantic/main.py:991\u001b[39m, in \u001b[36mBaseModel.__getattr__\u001b[39m\u001b[34m(self, item)\u001b[39m\n\u001b[32m    988\u001b[39m     \u001b[38;5;28;01mreturn\u001b[39;00m \u001b[38;5;28msuper\u001b[39m().\u001b[34m__getattribute__\u001b[39m(item)  \u001b[38;5;66;03m# Raises AttributeError if appropriate\u001b[39;00m\n\u001b[32m    989\u001b[39m \u001b[38;5;28;01melse\u001b[39;00m:\n\u001b[32m    990\u001b[39m     \u001b[38;5;66;03m# this is the current error\u001b[39;00m\n\u001b[32m--> \u001b[39m\u001b[32m991\u001b[39m     \u001b[38;5;28;01mraise\u001b[39;00m \u001b[38;5;167;01mAttributeError\u001b[39;00m(\u001b[33mf\u001b[39m\u001b[33m'\u001b[39m\u001b[38;5;132;01m{\u001b[39;00m\u001b[38;5;28mtype\u001b[39m(\u001b[38;5;28mself\u001b[39m).\u001b[34m__name__\u001b[39m\u001b[38;5;132;01m!r}\u001b[39;00m\u001b[33m object has no attribute \u001b[39m\u001b[38;5;132;01m{\u001b[39;00mitem\u001b[38;5;132;01m!r}\u001b[39;00m\u001b[33m'\u001b[39m)\n",
      "\u001b[31mAttributeError\u001b[39m: 'Tool' object has no attribute 'outputSchema'"
     ]
    }
   ],
   "source": [
    "from genscai.tools import MCPClient\n",
    "\n",
    "import nest_asyncio\n",
    "nest_asyncio.apply()\n",
    "\n",
    "mcp_client = MCPClient()\n",
    "\n",
    "tools = mcp_client.list_tools()\n",
    "for tool in tools:\n",
    "    print(f\"Tool Name: {tool.name}\")    \n",
    "    print(f\"Description: {tool.description}\")\n",
    "    print(f\"Input schema: {tool.inputSchema}\")\n",
    "    print(\"-\" * 40)\n"
   ]
  }
 ],
 "metadata": {
  "kernelspec": {
   "display_name": "genscai",
   "language": "python",
   "name": "python3"
  },
  "language_info": {
   "codemirror_mode": {
    "name": "ipython",
    "version": 3
   },
   "file_extension": ".py",
   "mimetype": "text/x-python",
   "name": "python",
   "nbconvert_exporter": "python",
   "pygments_lexer": "ipython3",
   "version": "3.11.11"
  }
 },
 "nbformat": 4,
 "nbformat_minor": 5
}
