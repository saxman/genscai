{
 "cells": [
  {
   "cell_type": "code",
   "execution_count": null,
   "id": "bcc7c82c",
   "metadata": {},
   "outputs": [],
   "source": [
    "%pip install mcp"
   ]
  },
  {
   "cell_type": "code",
   "execution_count": null,
   "id": "bffcd7eb",
   "metadata": {},
   "outputs": [],
   "source": [
    "from mcp.server.fastmcp import FastMCP\n",
    "\n",
    "server = FastMCP(\"Local Agent Helper\")"
   ]
  },
  {
   "cell_type": "code",
   "execution_count": null,
   "id": "1844b400",
   "metadata": {},
   "outputs": [],
   "source": [
    "@server.tool()\n",
    "def ls(directory: str) -> str:\n",
    "    \"List the contents of a directory.\"\n",
    "    import os\n",
    "\n",
    "    return \"\\n\".join(os.listdir(directory))\n",
    "\n",
    "\n",
    "@server.tool()\n",
    "def cat(file: str) -> str:\n",
    "    \"Read the contents of a file.\"\n",
    "    try:\n",
    "        with open(file, \"r\") as f:\n",
    "            return f.read()\n",
    "    except:\n",
    "        return \"\"\n",
    "\n",
    "\n",
    "@server.tool()\n",
    "def echo(message: str, file: str) -> str:\n",
    "    \"Write text to a file.\"\n",
    "    try:\n",
    "        with open(file, \"w\") as f:\n",
    "            f.write(message)\n",
    "            return \"success\"\n",
    "    except:\n",
    "        return \"failed\""
   ]
  },
  {
   "cell_type": "code",
   "execution_count": null,
   "id": "97bbfdcf",
   "metadata": {},
   "outputs": [],
   "source": [
    "!npx @modelcontextprotocol/inspector \\\n",
    "    uv \\\n",
    "    --directory path/to/server \\\n",
    "    run \\\n",
    "    package-name \\\n",
    "    args..."
   ]
  }
 ],
 "metadata": {
  "kernelspec": {
   "display_name": ".venv",
   "language": "python",
   "name": "python3"
  },
  "language_info": {
   "codemirror_mode": {
    "name": "ipython",
    "version": 3
   },
   "file_extension": ".py",
   "mimetype": "text/x-python",
   "name": "python",
   "nbconvert_exporter": "python",
   "pygments_lexer": "ipython3",
   "version": "3.11.11"
  }
 },
 "nbformat": 4,
 "nbformat_minor": 5
}
