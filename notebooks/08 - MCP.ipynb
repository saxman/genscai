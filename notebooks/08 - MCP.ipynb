{
 "cells": [
  {
   "cell_type": "code",
   "execution_count": null,
   "id": "05b6d900",
   "metadata": {},
   "outputs": [],
   "source": [
    "from genscai import paths\n",
    "import chromadb\n",
    "\n",
    "DB_PATH = str(paths.output / \"medrxiv.db\")\n",
    "\n",
    "client = chromadb.PersistentClient(path=DB_PATH)\n",
    "client.list_collections()"
   ]
  },
  {
   "cell_type": "code",
   "execution_count": null,
   "id": "f3892ce1",
   "metadata": {},
   "outputs": [],
   "source": [
    "from genscai.tools import MCPClient\n",
    "\n",
    "import nest_asyncio\n",
    "nest_asyncio.apply()\n",
    "\n",
    "mcp_config = {\n",
    "    \"mcpServers\": {\n",
    "        \"genscai\": {\"command\": \"python\", \"args\": [\"../genscai/tools.py\"]}\n",
    "    }\n",
    "}\n",
    "\n",
    "# mcp_client = MCPClient(mcp_config)\n",
    "mcp_client = MCPClient()\n",
    "\n",
    "tools = mcp_client.list_tools()\n",
    "for tool in tools:\n",
    "    print(f\"Tool Name: {tool.name}\")    \n",
    "    print(f\"Description: {tool.description}\")\n",
    "    print(f\"Input schema: {tool.inputSchema}\")\n",
    "    print(\"-\" * 40)"
   ]
  },
  {
   "cell_type": "code",
   "execution_count": null,
   "id": "dc5027ad",
   "metadata": {},
   "outputs": [],
   "source": [
    "tool_results = mcp_client.call_tool(\n",
    "    tool_name=\"search_research_articles\",\n",
    "    params={\"search_request\": \"malaria modeling\"}\n",
    ")\n",
    "\n",
    "for result in tool_results:\n",
    "    print(f\"Result type: {result.type}\")\n",
    "    print(f\"Result text:\\n{result.text}\")"
   ]
  },
  {
   "cell_type": "code",
   "execution_count": null,
   "id": "7bbe9d3c",
   "metadata": {},
   "outputs": [],
   "source": [
    "from genscai.models import OllamaClient\n",
    "\n",
    "model_client = OllamaClient(OllamaClient.MODEL_MISTRAL_SMALL_3_1_24B)\n",
    "\n",
    "response = model_client.chat_streamed(\n",
    "    {\n",
    "        \"role\": \"system\",\n",
    "        \"content\": \"You are a helpful assistant that can use tools to provide brief answers to questons about infectious diseases and disease modeling. Please briefly introduce yourself.\"\n",
    "    }\n",
    ")\n",
    "\n",
    "for chunk in response:\n",
    "    print(chunk, end=\"\", flush=True)"
   ]
  },
  {
   "cell_type": "code",
   "execution_count": null,
   "id": "d9d66b53",
   "metadata": {},
   "outputs": [],
   "source": [
    "response = model_client.chat_streamed(\n",
    "    {\n",
    "        \"role\": \"user\",\n",
    "        \"content\": \"current malaria modeling tools\"\n",
    "    },\n",
    "    tools=mcp_client.get_tools()\n",
    ")\n",
    "\n",
    "for chunk in response:\n",
    "    print(chunk, end=\"\", flush=True)"
   ]
  },
  {
   "cell_type": "code",
   "execution_count": null,
   "id": "159b95ed",
   "metadata": {},
   "outputs": [],
   "source": [
    "model_client.messages"
   ]
  },
  {
   "cell_type": "code",
   "execution_count": null,
   "id": "2a50e2bc",
   "metadata": {},
   "outputs": [],
   "source": [
    "del model_client"
   ]
  }
 ],
 "metadata": {
  "kernelspec": {
   "display_name": ".venv",
   "language": "python",
   "name": "python3"
  },
  "language_info": {
   "codemirror_mode": {
    "name": "ipython",
    "version": 3
   },
   "file_extension": ".py",
   "mimetype": "text/x-python",
   "name": "python",
   "nbconvert_exporter": "python",
   "pygments_lexer": "ipython3",
   "version": "3.11.11"
  }
 },
 "nbformat": 4,
 "nbformat_minor": 5
}
