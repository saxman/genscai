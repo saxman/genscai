{
 "cells": [
  {
   "cell_type": "code",
   "execution_count": null,
   "id": "bcc7c82c",
   "metadata": {},
   "outputs": [],
   "source": [
    "%pip install mcp --quiet --upgrade"
   ]
  },
  {
   "cell_type": "code",
   "execution_count": null,
   "id": "5cf2a79f",
   "metadata": {},
   "outputs": [],
   "source": [
    "from genscai.tools import mcp\n",
    "\n",
    "mcp.run()"
   ]
  },
  {
   "cell_type": "code",
   "execution_count": 1,
   "id": "f3892ce1",
   "metadata": {},
   "outputs": [],
   "source": [
    "from genscai.tools import MCPClient\n",
    "\n",
    "mcp_client = MCPClient()"
   ]
  },
  {
   "cell_type": "code",
   "execution_count": 2,
   "id": "656ebc38",
   "metadata": {},
   "outputs": [
    {
     "ename": "RuntimeError",
     "evalue": "Cannot run the event loop while another loop is running",
     "output_type": "error",
     "traceback": [
      "\u001b[31m---------------------------------------------------------------------------\u001b[39m",
      "\u001b[31mRuntimeError\u001b[39m                              Traceback (most recent call last)",
      "\u001b[36mCell\u001b[39m\u001b[36m \u001b[39m\u001b[32mIn[2]\u001b[39m\u001b[32m, line 1\u001b[39m\n\u001b[32m----> \u001b[39m\u001b[32m1\u001b[39m \u001b[43mmcp_client\u001b[49m\u001b[43m.\u001b[49m\u001b[43mconnect\u001b[49m\u001b[43m(\u001b[49m\u001b[33;43m\"\u001b[39;49m\u001b[33;43mmcp/server.py\u001b[39;49m\u001b[33;43m\"\u001b[39;49m\u001b[43m)\u001b[49m\n",
      "\u001b[36mFile \u001b[39m\u001b[32m~/devel/genscai/genscai/tools.py:62\u001b[39m, in \u001b[36mMCPClient.connect\u001b[39m\u001b[34m(self, server_path)\u001b[39m\n\u001b[32m     61\u001b[39m \u001b[38;5;28;01mdef\u001b[39;00m\u001b[38;5;250m \u001b[39m\u001b[34mconnect\u001b[39m(\u001b[38;5;28mself\u001b[39m, server_path: \u001b[38;5;28mstr\u001b[39m) -> \u001b[38;5;28mstr\u001b[39m:\n\u001b[32m---> \u001b[39m\u001b[32m62\u001b[39m     \u001b[38;5;28;01mreturn\u001b[39;00m \u001b[38;5;28;43mself\u001b[39;49m\u001b[43m.\u001b[49m\u001b[43mloop\u001b[49m\u001b[43m.\u001b[49m\u001b[43mrun_until_complete\u001b[49m\u001b[43m(\u001b[49m\u001b[38;5;28;43mself\u001b[39;49m\u001b[43m.\u001b[49m\u001b[43m_connect\u001b[49m\u001b[43m(\u001b[49m\u001b[43mserver_path\u001b[49m\u001b[43m)\u001b[49m\u001b[43m)\u001b[49m\n",
      "\u001b[36mFile \u001b[39m\u001b[32m~/.local/share/uv/python/cpython-3.11.11-linux-x86_64-gnu/lib/python3.11/asyncio/base_events.py:630\u001b[39m, in \u001b[36mBaseEventLoop.run_until_complete\u001b[39m\u001b[34m(self, future)\u001b[39m\n\u001b[32m    619\u001b[39m \u001b[38;5;250m\u001b[39m\u001b[33;03m\"\"\"Run until the Future is done.\u001b[39;00m\n\u001b[32m    620\u001b[39m \n\u001b[32m    621\u001b[39m \u001b[33;03mIf the argument is a coroutine, it is wrapped in a Task.\u001b[39;00m\n\u001b[32m   (...)\u001b[39m\u001b[32m    627\u001b[39m \u001b[33;03mReturn the Future's result, or raise its exception.\u001b[39;00m\n\u001b[32m    628\u001b[39m \u001b[33;03m\"\"\"\u001b[39;00m\n\u001b[32m    629\u001b[39m \u001b[38;5;28mself\u001b[39m._check_closed()\n\u001b[32m--> \u001b[39m\u001b[32m630\u001b[39m \u001b[38;5;28;43mself\u001b[39;49m\u001b[43m.\u001b[49m\u001b[43m_check_running\u001b[49m\u001b[43m(\u001b[49m\u001b[43m)\u001b[49m\n\u001b[32m    632\u001b[39m new_task = \u001b[38;5;129;01mnot\u001b[39;00m futures.isfuture(future)\n\u001b[32m    633\u001b[39m future = tasks.ensure_future(future, loop=\u001b[38;5;28mself\u001b[39m)\n",
      "\u001b[36mFile \u001b[39m\u001b[32m~/.local/share/uv/python/cpython-3.11.11-linux-x86_64-gnu/lib/python3.11/asyncio/base_events.py:591\u001b[39m, in \u001b[36mBaseEventLoop._check_running\u001b[39m\u001b[34m(self)\u001b[39m\n\u001b[32m    589\u001b[39m     \u001b[38;5;28;01mraise\u001b[39;00m \u001b[38;5;167;01mRuntimeError\u001b[39;00m(\u001b[33m'\u001b[39m\u001b[33mThis event loop is already running\u001b[39m\u001b[33m'\u001b[39m)\n\u001b[32m    590\u001b[39m \u001b[38;5;28;01mif\u001b[39;00m events._get_running_loop() \u001b[38;5;129;01mis\u001b[39;00m \u001b[38;5;129;01mnot\u001b[39;00m \u001b[38;5;28;01mNone\u001b[39;00m:\n\u001b[32m--> \u001b[39m\u001b[32m591\u001b[39m     \u001b[38;5;28;01mraise\u001b[39;00m \u001b[38;5;167;01mRuntimeError\u001b[39;00m(\n\u001b[32m    592\u001b[39m         \u001b[33m'\u001b[39m\u001b[33mCannot run the event loop while another loop is running\u001b[39m\u001b[33m'\u001b[39m)\n",
      "\u001b[31mRuntimeError\u001b[39m: Cannot run the event loop while another loop is running"
     ]
    }
   ],
   "source": [
    "mcp_client.connect(\"mcp/server.py\")"
   ]
  },
  {
   "cell_type": "code",
   "execution_count": null,
   "id": "8836bf19",
   "metadata": {},
   "outputs": [],
   "source": [
    "tools = await mcp_client.get_tools()"
   ]
  },
  {
   "cell_type": "code",
   "execution_count": null,
   "id": "504f5e53",
   "metadata": {},
   "outputs": [],
   "source": [
    "for tool in tools:\n",
    "    print(f\"Tool Name: {tool}\")"
   ]
  },
  {
   "cell_type": "code",
   "execution_count": null,
   "id": "8e1d9a13",
   "metadata": {},
   "outputs": [],
   "source": [
    "from IPython.display import Code\n",
    "\n",
    "Code(filename=\"../mcp/server.py\", language=\"python\")"
   ]
  },
  {
   "cell_type": "code",
   "execution_count": null,
   "id": "74fe7580",
   "metadata": {},
   "outputs": [],
   "source": [
    "!mcp run ../mcp/server.py"
   ]
  },
  {
   "cell_type": "code",
   "execution_count": null,
   "id": "97bbfdcf",
   "metadata": {},
   "outputs": [],
   "source": [
    "!npx @modelcontextprotocol/inspector \\\n",
    "    uv \\\n",
    "    --directory path/to/server \\\n",
    "    run \\\n",
    "    package-name \\\n",
    "    args..."
   ]
  },
  {
   "cell_type": "code",
   "execution_count": null,
   "id": "10441a1a",
   "metadata": {},
   "outputs": [],
   "source": [
    "import subprocess\n",
    "\n",
    "server = subprocess.Popen(\n",
    "    [\"python3\", \"server.py\"],\n",
    "    stdout=subprocess.PIPE,\n",
    "    stderr=subprocess.PIPE,\n",
    "    stdin=subprocess.PIPE,\n",
    "    text=True,\n",
    ")"
   ]
  },
  {
   "cell_type": "code",
   "execution_count": null,
   "id": "3bff60e9",
   "metadata": {},
   "outputs": [],
   "source": [
    "import json\n",
    "\n",
    "\n",
    "def create_message(method_name, params, id=None):\n",
    "    message = {\"jsonrpc\": \"2.0\", \"method\": method_name, \"params\": params, \"id\": id}\n",
    "    return json.dumps(message)\n",
    "\n",
    "\n",
    "def send_message(message):\n",
    "    server.stdin.write(message + \"\\n\")\n",
    "    server.stdin.flush()\n",
    "\n",
    "\n",
    "def receive_message():\n",
    "    server_output = json.loads(server.stdout.readline())\n",
    "    if \"result\" in server_output:\n",
    "        return server_output[\"result\"]\n",
    "    else:\n",
    "        return \"Error\""
   ]
  },
  {
   "cell_type": "code",
   "execution_count": null,
   "id": "354d1735",
   "metadata": {},
   "outputs": [],
   "source": [
    "id = 1\n",
    "init_message = create_message(\n",
    "    \"initialize\",\n",
    "    {\n",
    "        \"clientInfo\": {\"name\": \"Llama Agent\", \"version\": \"0.1\"},\n",
    "        \"protocolVersion\": \"2024-11-05\",\n",
    "        \"capabilities\": {},\n",
    "    },\n",
    "    id,\n",
    ")\n",
    "\n",
    "send_message(init_message)\n",
    "response = receive_message()\n",
    "server_name = response[\"serverInfo\"][\"name\"]\n",
    "print(\"Initializing  \" + server_name + \"...\")\n",
    "\n",
    "init_complete_message = create_message(\"notifications/initialized\", {})\n",
    "send_message(init_complete_message)\n",
    "print(\"Initialization complete.\")"
   ]
  },
  {
   "cell_type": "code",
   "execution_count": null,
   "id": "a328f5fe",
   "metadata": {},
   "outputs": [],
   "source": [
    "id += 1\n",
    "list_tools_message = create_message(\"tools/list\", {}, id)\n",
    "send_message(list_tools_message)\n",
    "response = json.loads(server.stdout.readline())[\"result\"]\n",
    "for tool in response[\"tools\"]:\n",
    "    print(tool[\"name\"])\n",
    "    print(tool[\"description\"])\n",
    "    print(tool[\"inputSchema\"][\"properties\"])\n",
    "    print(\"\")"
   ]
  },
  {
   "cell_type": "code",
   "execution_count": null,
   "id": "315375aa",
   "metadata": {},
   "outputs": [],
   "source": [
    "available_functions = []\n",
    "for tool in response[\"tools\"]:\n",
    "    func = {\n",
    "        \"type\": \"function\",\n",
    "        \"function\": {\n",
    "            \"name\": tool[\"name\"],\n",
    "            \"description\": tool[\"description\"],\n",
    "            \"parameters\": {\n",
    "                \"type\": \"object\",\n",
    "                \"properties\": tool[\"inputSchema\"][\"properties\"],\n",
    "                \"required\": tool[\"inputSchema\"][\"required\"],\n",
    "            },\n",
    "        },\n",
    "    }\n",
    "    available_functions.append(func)"
   ]
  },
  {
   "cell_type": "markdown",
   "id": "7c4d2e64",
   "metadata": {},
   "source": [
    "## References\n",
    "- https://medium.com/predict/using-the-model-context-protocol-mcp-with-a-local-llm-e398d6f318c3\n",
    "- https://modelcontextprotocol.io/docs/tools/inspector#python\n",
    "- https://github.com/modelcontextprotocol/python-sdk"
   ]
  }
 ],
 "metadata": {
  "kernelspec": {
   "display_name": ".venv",
   "language": "python",
   "name": "python3"
  },
  "language_info": {
   "codemirror_mode": {
    "name": "ipython",
    "version": 3
   },
   "file_extension": ".py",
   "mimetype": "text/x-python",
   "name": "python",
   "nbconvert_exporter": "python",
   "pygments_lexer": "ipython3",
   "version": "3.11.11"
  }
 },
 "nbformat": 4,
 "nbformat_minor": 5
}
