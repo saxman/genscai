{
 "cells": [
  {
   "cell_type": "code",
   "execution_count": null,
   "id": "bcc7c82c",
   "metadata": {},
   "outputs": [],
   "source": [
    "%pip install mcp --quiet --upgrade"
   ]
  },
  {
   "cell_type": "code",
   "execution_count": null,
   "id": "bffcd7eb",
   "metadata": {},
   "outputs": [],
   "source": [
    "from mcp.server.fastmcp import FastMCP\n",
    "\n",
    "server = FastMCP(\"Local Agent Helper\")"
   ]
  },
  {
   "cell_type": "code",
   "execution_count": null,
   "id": "1844b400",
   "metadata": {},
   "outputs": [],
   "source": [
    "@server.tool()\n",
    "def ls(directory: str) -> str:\n",
    "    \"List the contents of a directory.\"\n",
    "    import os\n",
    "\n",
    "    return \"\\n\".join(os.listdir(directory))\n",
    "\n",
    "\n",
    "@server.tool()\n",
    "def cat(file: str) -> str:\n",
    "    \"Read the contents of a file.\"\n",
    "    try:\n",
    "        with open(file, \"r\") as f:\n",
    "            return f.read()\n",
    "    except:\n",
    "        return \"\"\n",
    "\n",
    "\n",
    "@server.tool()\n",
    "def echo(message: str, file: str) -> str:\n",
    "    \"Write text to a file.\"\n",
    "    try:\n",
    "        with open(file, \"w\") as f:\n",
    "            f.write(message)\n",
    "            return \"success\"\n",
    "    except:\n",
    "        return \"failed\""
   ]
  },
  {
   "cell_type": "code",
   "execution_count": null,
   "id": "74fe7580",
   "metadata": {},
   "outputs": [],
   "source": [
    "!mcp run ../mcp/server.py"
   ]
  },
  {
   "cell_type": "code",
   "execution_count": null,
   "id": "97bbfdcf",
   "metadata": {},
   "outputs": [],
   "source": [
    "!npx @modelcontextprotocol/inspector \\\n",
    "    uv \\\n",
    "    --directory path/to/server \\\n",
    "    run \\\n",
    "    package-name \\\n",
    "    args..."
   ]
  },
  {
   "cell_type": "code",
   "execution_count": 1,
   "id": "10441a1a",
   "metadata": {},
   "outputs": [],
   "source": [
    "import subprocess\n",
    "\n",
    "server = subprocess.Popen(\n",
    "    [\"python3\", \"server.py\"],\n",
    "    stdout=subprocess.PIPE,\n",
    "    stderr=subprocess.PIPE,\n",
    "    stdin=subprocess.PIPE,\n",
    "    text=True,\n",
    ")"
   ]
  },
  {
   "cell_type": "code",
   "execution_count": 2,
   "id": "3bff60e9",
   "metadata": {},
   "outputs": [],
   "source": [
    "import json\n",
    "\n",
    "\n",
    "def create_message(method_name, params, id=None):\n",
    "    message = {\"jsonrpc\": \"2.0\", \"method\": method_name, \"params\": params, \"id\": id}\n",
    "    return json.dumps(message)\n",
    "\n",
    "\n",
    "def send_message(message):\n",
    "    server.stdin.write(message + \"\\n\")\n",
    "    server.stdin.flush()\n",
    "\n",
    "\n",
    "def receive_message():\n",
    "    server_output = json.loads(server.stdout.readline())\n",
    "    if \"result\" in server_output:\n",
    "        return server_output[\"result\"]\n",
    "    else:\n",
    "        return \"Error\""
   ]
  },
  {
   "cell_type": "code",
   "execution_count": 3,
   "id": "354d1735",
   "metadata": {},
   "outputs": [
    {
     "ename": "BrokenPipeError",
     "evalue": "[Errno 32] Broken pipe",
     "output_type": "error",
     "traceback": [
      "\u001b[31m---------------------------------------------------------------------------\u001b[39m",
      "\u001b[31mBrokenPipeError\u001b[39m                           Traceback (most recent call last)",
      "\u001b[36mCell\u001b[39m\u001b[36m \u001b[39m\u001b[32mIn[3]\u001b[39m\u001b[32m, line 15\u001b[39m\n\u001b[32m      1\u001b[39m \u001b[38;5;28mid\u001b[39m = \u001b[32m1\u001b[39m\n\u001b[32m      2\u001b[39m init_message = create_message(\n\u001b[32m      3\u001b[39m     \u001b[33m\"\u001b[39m\u001b[33minitialize\u001b[39m\u001b[33m\"\u001b[39m,\n\u001b[32m      4\u001b[39m     {\n\u001b[32m   (...)\u001b[39m\u001b[32m     12\u001b[39m     \u001b[38;5;28mid\u001b[39m\n\u001b[32m     13\u001b[39m )\n\u001b[32m---> \u001b[39m\u001b[32m15\u001b[39m \u001b[43msend_message\u001b[49m\u001b[43m(\u001b[49m\u001b[43minit_message\u001b[49m\u001b[43m)\u001b[49m\n\u001b[32m     16\u001b[39m response = receive_message()\n\u001b[32m     17\u001b[39m server_name = response[\u001b[33m\"\u001b[39m\u001b[33mserverInfo\u001b[39m\u001b[33m\"\u001b[39m][\u001b[33m\"\u001b[39m\u001b[33mname\u001b[39m\u001b[33m\"\u001b[39m]\n",
      "\u001b[36mCell\u001b[39m\u001b[36m \u001b[39m\u001b[32mIn[2]\u001b[39m\u001b[32m, line 13\u001b[39m, in \u001b[36msend_message\u001b[39m\u001b[34m(message)\u001b[39m\n\u001b[32m     11\u001b[39m \u001b[38;5;28;01mdef\u001b[39;00m\u001b[38;5;250m \u001b[39m\u001b[34msend_message\u001b[39m(message):\n\u001b[32m     12\u001b[39m     server.stdin.write(message + \u001b[33m\"\u001b[39m\u001b[38;5;130;01m\\n\u001b[39;00m\u001b[33m\"\u001b[39m)\n\u001b[32m---> \u001b[39m\u001b[32m13\u001b[39m     \u001b[43mserver\u001b[49m\u001b[43m.\u001b[49m\u001b[43mstdin\u001b[49m\u001b[43m.\u001b[49m\u001b[43mflush\u001b[49m\u001b[43m(\u001b[49m\u001b[43m)\u001b[49m\n",
      "\u001b[31mBrokenPipeError\u001b[39m: [Errno 32] Broken pipe"
     ]
    }
   ],
   "source": [
    "id = 1\n",
    "init_message = create_message(\n",
    "    \"initialize\",\n",
    "    {\n",
    "        \"clientInfo\": {\"name\": \"Llama Agent\", \"version\": \"0.1\"},\n",
    "        \"protocolVersion\": \"2024-11-05\",\n",
    "        \"capabilities\": {},\n",
    "    },\n",
    "    id,\n",
    ")\n",
    "\n",
    "send_message(init_message)\n",
    "response = receive_message()\n",
    "server_name = response[\"serverInfo\"][\"name\"]\n",
    "print(\"Initializing  \" + server_name + \"...\")\n",
    "\n",
    "init_complete_message = create_message(\"notifications/initialized\", {})\n",
    "send_message(init_complete_message)\n",
    "print(\"Initialization complete.\")"
   ]
  },
  {
   "cell_type": "code",
   "execution_count": null,
   "id": "a328f5fe",
   "metadata": {},
   "outputs": [],
   "source": [
    "id += 1\n",
    "list_tools_message = create_message(\"tools/list\", {}, id)\n",
    "send_message(list_tools_message)\n",
    "response = json.loads(server.stdout.readline())[\"result\"]\n",
    "for tool in response[\"tools\"]:\n",
    "    print(tool[\"name\"])\n",
    "    print(tool[\"description\"])\n",
    "    print(tool[\"inputSchema\"][\"properties\"])\n",
    "    print(\"\")"
   ]
  },
  {
   "cell_type": "code",
   "execution_count": null,
   "id": "315375aa",
   "metadata": {},
   "outputs": [],
   "source": [
    "available_functions = []\n",
    "for tool in response[\"tools\"]:\n",
    "    func = {\n",
    "        \"type\": \"function\",\n",
    "        \"function\": {\n",
    "            \"name\": tool[\"name\"],\n",
    "            \"description\": tool[\"description\"],\n",
    "            \"parameters\": {\n",
    "                \"type\": \"object\",\n",
    "                \"properties\": tool[\"inputSchema\"][\"properties\"],\n",
    "                \"required\": tool[\"inputSchema\"][\"required\"],\n",
    "            },\n",
    "        },\n",
    "    }\n",
    "    available_functions.append(func)"
   ]
  },
  {
   "cell_type": "markdown",
   "id": "7c4d2e64",
   "metadata": {},
   "source": [
    "## References\n",
    "- https://medium.com/predict/using-the-model-context-protocol-mcp-with-a-local-llm-e398d6f318c3\n",
    "- https://modelcontextprotocol.io/docs/tools/inspector#python\n",
    "- https://github.com/modelcontextprotocol/python-sdk"
   ]
  }
 ],
 "metadata": {
  "kernelspec": {
   "display_name": ".venv",
   "language": "python",
   "name": "python3"
  },
  "language_info": {
   "codemirror_mode": {
    "name": "ipython",
    "version": 3
   },
   "file_extension": ".py",
   "mimetype": "text/x-python",
   "name": "python",
   "nbconvert_exporter": "python",
   "pygments_lexer": "ipython3",
   "version": "3.11.11"
  }
 },
 "nbformat": 4,
 "nbformat_minor": 5
}
