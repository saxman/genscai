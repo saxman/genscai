{
 "cells": [
  {
   "cell_type": "code",
   "execution_count": null,
   "id": "09ca1487-3f6f-4219-b5e2-97a275d6834f",
   "metadata": {},
   "outputs": [],
   "source": [
    "with open(\"../data/modeling_paper_ids.txt\") as f:\n",
    "    paper_ids = f.read().splitlines()\n",
    "\n",
    "len(paper_ids)"
   ]
  },
  {
   "cell_type": "code",
   "execution_count": null,
   "id": "9b28e977-4cce-49ab-9484-45125cc75dc0",
   "metadata": {},
   "outputs": [],
   "source": [
    "import requests\n",
    "import re\n",
    "\n",
    "# ref https://api.medrxiv.org/\n",
    "MEDRXIV_API_DETAILS_URL = \"https://api.medrxiv.org/details/{server}/{doi}/na/{format}\"\n",
    "\n",
    "results = []\n",
    "\n",
    "for doi in paper_ids:\n",
    "    if not re.match(\"10\\.\\d{4,9}\\/\", doi):\n",
    "        print(f\"not doi: {doi}\")\n",
    "        continue\n",
    "\n",
    "    url = MEDRXIV_API_DETAILS_URL.format(server=\"medrxiv\", doi=doi, format=\"json\")\n",
    "\n",
    "    resp = requests.get(url=url)\n",
    "    data = resp.json()\n",
    "\n",
    "    if data[\"messages\"][0][\"status\"] != \"ok\":\n",
    "        print(f\"error: {doi}\")\n",
    "        continue\n",
    "\n",
    "    results.append(data)\n",
    "\n",
    "len(results)"
   ]
  },
  {
   "cell_type": "code",
   "execution_count": null,
   "id": "10a3ddcf-0c71-4225-82a0-1ef207550bd2",
   "metadata": {},
   "outputs": [],
   "source": [
    "data = [x[\"collection\"][0] for x in results]\n",
    "\n",
    "len(data)"
   ]
  },
  {
   "cell_type": "markdown",
   "id": "89c670a8-ba68-4447-81ec-09514fe4ab95",
   "metadata": {},
   "source": [
    "## arXiv\n",
    "\n",
    "Retrieve information for the papers that include arxiv in their ids."
   ]
  },
  {
   "cell_type": "code",
   "execution_count": null,
   "id": "92e7426f-b9d2-4761-a826-4fed4e249659",
   "metadata": {},
   "outputs": [],
   "source": [
    "%pip install arxiv"
   ]
  },
  {
   "cell_type": "code",
   "execution_count": null,
   "id": "01b6de76-7662-4b35-8f4f-6e6ad8169f5a",
   "metadata": {},
   "outputs": [],
   "source": [
    "arxiv_ids = [\n",
    "    \"2006.01754v1\",\n",
    "    \"2007.06541v1\",\n",
    "    \"2004.12799v1\",\n",
    "    \"2005.00106v1\",\n",
    "    \"2004.02605v2\",\n",
    "]"
   ]
  },
  {
   "cell_type": "code",
   "execution_count": null,
   "id": "275511e1-d7a6-44a6-8bb0-06c316b5b56b",
   "metadata": {},
   "outputs": [],
   "source": [
    "import arxiv\n",
    "\n",
    "client = arxiv.Client()\n",
    "\n",
    "for id in arxiv_ids:\n",
    "    search = arxiv.Search(id_list=[id])\n",
    "    result = next(client.results(search))\n",
    "\n",
    "    authors = [str(x) for x in result.authors]\n",
    "\n",
    "    paper = {\n",
    "        \"doi\": id,\n",
    "        \"title\": result.title,\n",
    "        \"abstract\": result.summary,\n",
    "        \"date\": str(result.published.date()),\n",
    "        \"authors\": \"; \".join(authors),\n",
    "        \"server\": \"arxiv\",\n",
    "    }\n",
    "\n",
    "    data.append(paper)\n",
    "\n",
    "len(data)"
   ]
  },
  {
   "cell_type": "markdown",
   "id": "8d60a89e-f267-4bc2-b26b-ad0879ef4b85",
   "metadata": {},
   "source": [
    "## manual\n",
    "\n",
    "Manually add informaiton for the remaining papers."
   ]
  },
  {
   "cell_type": "code",
   "execution_count": null,
   "id": "883d7253-6946-4842-b167-99e5cd47f128",
   "metadata": {},
   "outputs": [],
   "source": [
    "other_papers = [\n",
    "    {\n",
    "        \"doi\": \"10.1063/5.0008834\",\n",
    "        \"title\": \"Asymptotic estimates of SARS-CoV-2 infection counts and their sensitivity to stochastic perturbation\",\n",
    "        \"abstract\": \"Despite the importance of having robust estimates of the time-asymptotic total number of infections, early estimates of COVID-19 show enormous fluctuations. Using COVID-19 data from different countries, we show that predictions are extremely sensitive to the reporting protocol and crucially depend on the last available data point before the maximum number of daily infections is reached. We propose a physical explanation for this sensitivity, using a susceptible–exposed–infected–recovered model, where the parameters are stochastically perturbed to simulate the difficulty in detecting patients, different confinement measures taken by different countries, as well as changes in the virus characteristics. Our results suggest that there are physical and statistical reasons to assign low confidence to statistical and dynamical fits, despite their apparently good statistical scores. These considerations are general and can be applied to other epidemics. COVID-19 is currently affecting over 180 countries worldwide and poses serious threats to public health as well as economic and social stability of many countries. Modeling and extrapolating in near real-time the evolution of COVID-19 epidemics is a scientific challenge, which requires a deep understanding of the non-linearities undermining the dynamics of the epidemics. Here, we show that real-time predictions of COVID-19 infections are extremely sensitive to errors in data collection and crucially depend on the last available data point. We test these ideas in both statistical (logistic) and dynamical (susceptible–exposed–infected–recovered) models that are currently used to forecast the evolution of the COVID-19 epidemic. Our goal is to show how uncertainties arising from both poor data quality and inadequate estimations of model parameters (incubation, infection, and recovery rates) propagate to long-term extrapolations of infection counts. We provide guidelines for reporting those uncertainties to the scientific community and the general public.\",\n",
    "    },\n",
    "    {\n",
    "        \"doi\": \"10.1080/17513758.2020.1795285\",\n",
    "        \"title\": \"Effects of age-targeted sequestration for COVID-19\",\n",
    "        \"abstract\": \"We model the extent to which age-targeted protective sequestration can be used to reduce ICU admissions caused by novel coronavirus COVID-19. Using demographic data from New Zealand, we demonstrate that lowering the age threshold to 50 years of age reduces ICU admissions drastically and show that for sufficiently strict isolation protocols, sequestering one-third of the countries population for a total of 8 months is sufficient to avoid overwhelming ICU capacity throughout the entire course of the epidemic. Similar results are expected to hold for other countries, though some minor adaption will be required based on local age demographics and hospital facilities.\",\n",
    "    },\n",
    "    {\n",
    "        \"doi\": \"10.1016/j.mjafi.2020.03.022\",\n",
    "        \"title\": \"Healthcare impact of COVID-19 epidemic in India: A stochastic mathematical model\",\n",
    "        \"abstract\": \"Background: In India, the SARS-CoV-2 COVID-19 epidemic has grown to 1251 cases and 32 deaths as on 30 Mar 2020. The healthcare impact of the epidemic in India was studied using a stochastic mathematical model. Methods: A compartmental SEIR model was developed, in which the flow of individuals through compartments is modeled using a set of differential equations. Different scenarios were modeled with 1000 runs of Monte Carlo simulation each using MATLAB. Hospitalization, intensive care unit (ICU) requirements, and deaths were modeled on SimVoi software. The impact of nonpharmacological interventions (NPIs) including social distancing and lockdown on checking the epidemic was estimated. Results: Uninterrupted epidemic in India would have resulted in more than 364 million cases and 1.56 million deaths with peak by mid-July. As per the model, at current growth rate of 1.15, India is likely to reach approximately 3 million cases by 25 May, implying 125,455 (±18,034) hospitalizations, 26,130 (±3298) ICU admissions, and 13,447 (±1819) deaths. This would overwhelm India's healthcare system. The model shows that with immediate institution of NPIs, the epidemic might still be checked by mid-April 2020. It would then result in 241,974 (±33,735) total infections, 10,214 (±1649) hospitalizations, 2121 (±334) ICU admissions, and 1081 (±169) deaths. Conclusion: At the current growth rate of epidemic, India's healthcare resources will be overwhelmed by the end of May. With the immediate institution of NPIs, total cases, hospitalizations, ICU requirements, and deaths can be reduced by almost 90%.\",\n",
    "    },\n",
    "    {\n",
    "        \"doi\": \"10.3934/publichealth.2020026\",\n",
    "        \"title\": \"Parameter estimation and prediction for coronavirus disease outbreak 2019 (COVID-19) in Algeria.\",\n",
    "        \"abstract\": \"Background: The wave of the coronavirus disease outbreak in 2019 (COVID-19) has spread all over the world. In Algeria, the first case of COVID-19 was reported on 25 February, 2020, and the number of confirmed cases of it has increased day after day. To overcome this difficult period and a catastrophic scenario, a model-based prediction of the possible epidemic peak and size of COVID-19 in Algeria is required. Methods: We are concerned with a classical epidemic model of susceptible, exposed, infected and removed (SEIR) population dynamics. By using the method of least squares and the best fit curve that minimizes the sum of squared residuals, we estimate the epidemic parameter and the basic reproduction number R0. Moreover, we discuss the effect of intervention in a certain period by numerical simulation. Results: We find that R0= 4.1, which implies that the epidemic in Algeria could occur in a strong way. Moreover, we obtain the following epidemiological insights: the intervention has a positive effect on the time delay of the epidemic peak; the epidemic size is almost the same for a short intervention; a large epidemic can occur even if the intervention is long and sufficiently effective. Conclusion: Algeria must implement the strict measures as shown in this study, which could be similar to the one that China has finally adopted.\",\n",
    "    },\n",
    "    {\n",
    "        \"doi\": \"10.1371/journal.pone.0234763\",\n",
    "        \"title\": \"Prediction of COVID-19 spreading profiles in South Korea, Italy and Iran by data-driven coding\",\n",
    "        \"abstract\": \"This work applies a data-driven coding method for prediction of the COVID-19 spreading profile in any given population that shows an initial phase of epidemic progression. Based on the historical data collected for COVID-19 spreading in 367 cities in China and the set of parameters of the augmented Susceptible-Exposed-Infected-Removed (SEIR) model obtained for each city, a set of profile codes representing a variety of transmission mechanisms and contact topologies is formed. By comparing the data of an early outbreak of a given population with the complete set of historical profiles, the best fit profiles are selected and the corresponding sets of profile codes are used for prediction of the future progression of the epidemic in that population. Application of the method to the data collected for South Korea, Italy and Iran shows that peaks of infection cases are expected to occur before mid April, the end of March and the end of May 2020, and that the percentage of population infected in each city or region will be less than 0.01%, 0.5% and 0.5%, for South Korea, Italy and Iran, respectively.\",\n",
    "    },\n",
    "    {\n",
    "        \"doi\": \"10.1016/j.annepidem.2020.07.007\",\n",
    "        \"title\": \"Risk for COVID-19 infection and death among Latinos in the United States: examining heterogeneity in transmission dynamics.\",\n",
    "        \"abstract\": \"Purpose: The purpose of this study was to ascertain COVID-19 transmission dynamics among Latino communities nationally. Methods: We compared predictors of COVID-19 cases and deaths between disproportionally Latino counties (≥17.8% Latino population) and all other counties through May 11, 2020. Adjusted rate ratios (aRRs) were estimated using COVID-19 cases and deaths via zero-inflated binomial regression models. Results: COVID-19 diagnoses rates were greater in Latino counties nationally (90.9 vs. 82.0 per 100,000). In multivariable analysis, COVID-19 cases were greater in Northeastern and Midwestern Latino counties (aRR: 1.42, 95% CI: 1.11-1.84, and aRR: 1.70, 95% CI: 1.57-1.85, respectively). COVID-19 deaths were greater in Midwestern Latino counties (aRR: 1.17, 95% CI: 1.04-1.34). COVID-19 diagnoses were associated with counties with greater monolingual Spanish speakers, employment rates, heart disease deaths, less social distancing, and days since the first reported case. COVID-19 deaths were associated with household occupancy density, air pollution, employment, days since the first reported case, and age (fewer <35 yo). Conclusions: COVID-19 risks and deaths among Latino populations differ by region. Structural factors place Latino populations and particularly monolingual Spanish speakers at elevated risk for COVID-19 acquisition.\",\n",
    "    },\n",
    "    {\n",
    "        \"doi\": \"10.12688/wellcomeopenres.15788.1\",\n",
    "        \"title\": \"The contribution of pre-symptomatic infection to the transmission dynamics of COVID-2019\",\n",
    "        \"abstract\": \"Background: Pre-symptomatic transmission can be a key determinant of the effectiveness of containment and mitigation strategies for infectious diseases, particularly if interventions rely on syndromic case finding. For COVID-19, infections in the absence of apparent symptoms have been reported frequently alongside circumstantial evidence for asymptomatic or pre-symptomatic transmission. We estimated the potential contribution of pre-symptomatic cases to COVID-19 transmission. Methods: Using the probability for symptom onset on a given day inferred from the incubation period, we attributed the serial interval reported from Shenzen, China, into likely pre-symptomatic and symptomatic transmission. We used the serial interval derived for cases isolated more than 6 days after symptom onset as the no active case finding scenario and the unrestricted serial interval as the active case finding scenario. We reported the estimate assuming no correlation between the incubation period and the serial interval alongside a range indicating alternative assumptions of positive and negative correlation. Results: We estimated that 23% (range accounting for correlation: 12 - 28%) of transmissions in Shenzen may have originated from presymptomatic infections. Through accelerated case isolation following symptom onset, this percentage increased to 46% (21 - 46%), implying that about 35% of secondary infections among symptomatic cases have been prevented. These results were robust to using reported incubation periods and serial intervals from other settings. Conclusions: Pre-symptomatic transmission may be essential to consider for containment and mitigation strategies for COVID-19.\",\n",
    "    },\n",
    "]"
   ]
  },
  {
   "cell_type": "code",
   "execution_count": null,
   "id": "5ba5e958-7ef5-4744-b646-75124c49618b",
   "metadata": {},
   "outputs": [],
   "source": [
    "data = data + other_papers\n",
    "\n",
    "len(data)"
   ]
  },
  {
   "cell_type": "markdown",
   "id": "d4619069-5804-4d43-9d1a-ac383568f0ff",
   "metadata": {},
   "source": [
    "## store the paper information"
   ]
  },
  {
   "cell_type": "code",
   "execution_count": null,
   "id": "fc0e77a8-d4cb-49c4-9629-2ef92076b885",
   "metadata": {},
   "outputs": [],
   "source": [
    "import json\n",
    "\n",
    "with open(\"../data/modeling_papers.json\", \"w\") as f:\n",
    "    json.dump(data, f)"
   ]
  },
  {
   "cell_type": "markdown",
   "id": "63e2a91c-ca62-4e26-a6a7-35d0df7cf63c",
   "metadata": {},
   "source": [
    "## scholarly\n",
    "\n",
    "Attempt to use scholarly to retrive the information for the remaining pappers.\n",
    "\n",
    "NOTE: Google Scholar limits access from bots, and therefore using scholarly is NOT feasbile. Therefore, this section is incomplete and for reference only."
   ]
  },
  {
   "cell_type": "code",
   "execution_count": null,
   "id": "66e5a0b0-ec40-4cfa-b8bc-5a0a7060472e",
   "metadata": {},
   "outputs": [],
   "source": [
    "%pip install scholarly"
   ]
  },
  {
   "cell_type": "code",
   "execution_count": null,
   "id": "b8203b34-3c1f-45d9-8fc0-1915cf4ee5dc",
   "metadata": {},
   "outputs": [],
   "source": [
    "other_ids = [\n",
    "    \"10.1063/5.0008834\",\n",
    "    \"10.1080/17513758.2020.1795285\",\n",
    "    \"10.1016/j.mjafi.2020.03.022\",\n",
    "    \"10.3934/publichealth.2020026\",\n",
    "    \"10.1371/journal.pone.0234763\",\n",
    "    \"10.1016/j.annepidem.2020.07.007\",\n",
    "    \"10.12688/wellcomeopenres.15788.1\",\n",
    "]"
   ]
  },
  {
   "cell_type": "code",
   "execution_count": null,
   "id": "159c3d57-224e-440a-8eaf-0535b74f1a9d",
   "metadata": {},
   "outputs": [],
   "source": [
    "from scholarly import scholarly\n",
    "\n",
    "for id in other_ids:\n",
    "    search_query = scholarly.search_pubs(id)\n",
    "    result = next(search_query)\n",
    "\n",
    "    scholarly.pprint(result)\n",
    "\n",
    "    print(result[\"bib\"][\"abstract\"])"
   ]
  },
  {
   "cell_type": "markdown",
   "id": "5a7d3140-df19-484c-9cf5-01a021376d6e",
   "metadata": {},
   "source": [
    "## download non-disease modeling pappers, for negative test cases"
   ]
  },
  {
   "cell_type": "code",
   "execution_count": 6,
   "id": "3d1d5018-88d3-4400-ae80-d5052db8de64",
   "metadata": {},
   "outputs": [],
   "source": [
    "import arxiv\n",
    "\n",
    "data = []\n",
    "\n",
    "client = arxiv.Client()\n",
    "\n",
    "search = arxiv.Search(query=\"modeling techniques\", max_results=20, sort_by=arxiv.SortCriterion.Relevance)\n",
    "\n",
    "for result in client.results(search):\n",
    "    authors = [str(x) for x in result.authors]\n",
    "\n",
    "    paper = {\n",
    "        \"doi\": result.entry_id,\n",
    "        \"title\": result.title,\n",
    "        \"abstract\": result.summary,\n",
    "        \"date\": str(result.published.date()),\n",
    "        \"authors\": \"; \".join(authors),\n",
    "        \"server\": \"arxiv\",\n",
    "    }\n",
    "\n",
    "    data.append(paper)"
   ]
  },
  {
   "cell_type": "code",
   "execution_count": 7,
   "id": "100c3a78-194c-427e-8a47-5d24a81012d8",
   "metadata": {},
   "outputs": [],
   "source": [
    "import json\n",
    "\n",
    "with open(\"../data/non_modeling_papers.json\", \"w\") as f:\n",
    "    json.dump(data, f)"
   ]
  },
  {
   "cell_type": "code",
   "execution_count": null,
   "id": "dd64c222-dada-4b40-ac39-4331ed08f8c6",
   "metadata": {},
   "outputs": [],
   "source": []
  }
 ],
 "metadata": {
  "kernelspec": {
   "display_name": "Python 3 (ipykernel)",
   "language": "python",
   "name": "python3"
  },
  "language_info": {
   "codemirror_mode": {
    "name": "ipython",
    "version": 3
   },
   "file_extension": ".py",
   "mimetype": "text/x-python",
   "name": "python",
   "nbconvert_exporter": "python",
   "pygments_lexer": "ipython3",
   "version": "3.9.6"
  }
 },
 "nbformat": 4,
 "nbformat_minor": 5
}
